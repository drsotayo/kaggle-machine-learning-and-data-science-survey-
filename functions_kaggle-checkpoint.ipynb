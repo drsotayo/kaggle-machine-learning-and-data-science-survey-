{
 "cells": [
  {
   "cell_type": "code",
   "execution_count": 42,
   "metadata": {},
   "outputs": [
    {
     "data": {
      "text/html": [
       "        <script type=\"text/javascript\">\n",
       "        window.PlotlyConfig = {MathJaxConfig: 'local'};\n",
       "        if (window.MathJax) {MathJax.Hub.Config({SVG: {font: \"STIX-Web\"}});}\n",
       "        if (typeof require !== 'undefined') {\n",
       "        require.undef(\"plotly\");\n",
       "        requirejs.config({\n",
       "            paths: {\n",
       "                'plotly': ['https://cdn.plot.ly/plotly-latest.min']\n",
       "            }\n",
       "        });\n",
       "        require(['plotly'], function(Plotly) {\n",
       "            window._Plotly = Plotly;\n",
       "        });\n",
       "        }\n",
       "        </script>\n",
       "        "
      ]
     },
     "metadata": {},
     "output_type": "display_data"
    }
   ],
   "source": [
    "import os\n",
    "import numpy as np \n",
    "import pandas as pd \n",
    "import seaborn as sns\n",
    "import matplotlib.pyplot as plt \n",
    "import plotly.express as px\n",
    "from plotly.offline import init_notebook_mode\n",
    "import plotly.graph_objects as go\n",
    "init_notebook_mode(connected=True)\n",
    "pd.set_option('display.max_columns', 5000)\n",
    "import warnings\n",
    "warnings.filterwarnings(\"ignore\")"
   ]
  },
  {
   "cell_type": "code",
   "execution_count": 2,
   "metadata": {},
   "outputs": [],
   "source": [
    "responses_df_2021 = pd.read_csv(\"kaggle_survey_2021_responses.csv\")"
   ]
  },
  {
   "cell_type": "code",
   "execution_count": 3,
   "metadata": {},
   "outputs": [],
   "source": [
    "nigeria = responses_df_2021[responses_df_2021[\"Q3\"] ==\"Nigeria\"]"
   ]
  },
  {
   "cell_type": "code",
   "execution_count": 4,
   "metadata": {},
   "outputs": [
    {
     "data": {
      "application/vnd.plotly.v1+json": {
       "config": {
        "plotlyServerURL": "https://plotly.com"
       },
       "data": [
        {
         "alignmentgroup": "True",
         "hovertemplate": "age=%{x}<br>percentage (%)=%{text}<extra></extra>",
         "legendgroup": "",
         "marker": {
          "color": "green"
         },
         "name": "",
         "offsetgroup": "",
         "orientation": "v",
         "showlegend": false,
         "text": [
          12.4,
          18.5,
          29.5,
          16.4,
          13.7,
          6,
          2.7,
          0.6,
          0.3
         ],
         "textposition": "outside",
         "texttemplate": "%{text:.2s}",
         "type": "bar",
         "x": [
          "18-21",
          "22-24",
          "25-29",
          "30-34",
          "35-39",
          "40-44",
          "45-49",
          "50-54",
          "60-69"
         ],
         "xaxis": "x",
         "y": [
          12.4,
          18.5,
          29.5,
          16.4,
          13.7,
          6,
          2.7,
          0.6,
          0.3
         ],
         "yaxis": "y"
        }
       ],
       "layout": {
        "barmode": "relative",
        "legend": {
         "tracegroupgap": 0
        },
        "plot_bgcolor": "white",
        "template": {
         "data": {
          "bar": [
           {
            "error_x": {
             "color": "#2a3f5f"
            },
            "error_y": {
             "color": "#2a3f5f"
            },
            "marker": {
             "line": {
              "color": "#E5ECF6",
              "width": 0.5
             }
            },
            "type": "bar"
           }
          ],
          "barpolar": [
           {
            "marker": {
             "line": {
              "color": "#E5ECF6",
              "width": 0.5
             }
            },
            "type": "barpolar"
           }
          ],
          "carpet": [
           {
            "aaxis": {
             "endlinecolor": "#2a3f5f",
             "gridcolor": "white",
             "linecolor": "white",
             "minorgridcolor": "white",
             "startlinecolor": "#2a3f5f"
            },
            "baxis": {
             "endlinecolor": "#2a3f5f",
             "gridcolor": "white",
             "linecolor": "white",
             "minorgridcolor": "white",
             "startlinecolor": "#2a3f5f"
            },
            "type": "carpet"
           }
          ],
          "choropleth": [
           {
            "colorbar": {
             "outlinewidth": 0,
             "ticks": ""
            },
            "type": "choropleth"
           }
          ],
          "contour": [
           {
            "colorbar": {
             "outlinewidth": 0,
             "ticks": ""
            },
            "colorscale": [
             [
              0,
              "#0d0887"
             ],
             [
              0.1111111111111111,
              "#46039f"
             ],
             [
              0.2222222222222222,
              "#7201a8"
             ],
             [
              0.3333333333333333,
              "#9c179e"
             ],
             [
              0.4444444444444444,
              "#bd3786"
             ],
             [
              0.5555555555555556,
              "#d8576b"
             ],
             [
              0.6666666666666666,
              "#ed7953"
             ],
             [
              0.7777777777777778,
              "#fb9f3a"
             ],
             [
              0.8888888888888888,
              "#fdca26"
             ],
             [
              1,
              "#f0f921"
             ]
            ],
            "type": "contour"
           }
          ],
          "contourcarpet": [
           {
            "colorbar": {
             "outlinewidth": 0,
             "ticks": ""
            },
            "type": "contourcarpet"
           }
          ],
          "heatmap": [
           {
            "colorbar": {
             "outlinewidth": 0,
             "ticks": ""
            },
            "colorscale": [
             [
              0,
              "#0d0887"
             ],
             [
              0.1111111111111111,
              "#46039f"
             ],
             [
              0.2222222222222222,
              "#7201a8"
             ],
             [
              0.3333333333333333,
              "#9c179e"
             ],
             [
              0.4444444444444444,
              "#bd3786"
             ],
             [
              0.5555555555555556,
              "#d8576b"
             ],
             [
              0.6666666666666666,
              "#ed7953"
             ],
             [
              0.7777777777777778,
              "#fb9f3a"
             ],
             [
              0.8888888888888888,
              "#fdca26"
             ],
             [
              1,
              "#f0f921"
             ]
            ],
            "type": "heatmap"
           }
          ],
          "heatmapgl": [
           {
            "colorbar": {
             "outlinewidth": 0,
             "ticks": ""
            },
            "colorscale": [
             [
              0,
              "#0d0887"
             ],
             [
              0.1111111111111111,
              "#46039f"
             ],
             [
              0.2222222222222222,
              "#7201a8"
             ],
             [
              0.3333333333333333,
              "#9c179e"
             ],
             [
              0.4444444444444444,
              "#bd3786"
             ],
             [
              0.5555555555555556,
              "#d8576b"
             ],
             [
              0.6666666666666666,
              "#ed7953"
             ],
             [
              0.7777777777777778,
              "#fb9f3a"
             ],
             [
              0.8888888888888888,
              "#fdca26"
             ],
             [
              1,
              "#f0f921"
             ]
            ],
            "type": "heatmapgl"
           }
          ],
          "histogram": [
           {
            "marker": {
             "colorbar": {
              "outlinewidth": 0,
              "ticks": ""
             }
            },
            "type": "histogram"
           }
          ],
          "histogram2d": [
           {
            "colorbar": {
             "outlinewidth": 0,
             "ticks": ""
            },
            "colorscale": [
             [
              0,
              "#0d0887"
             ],
             [
              0.1111111111111111,
              "#46039f"
             ],
             [
              0.2222222222222222,
              "#7201a8"
             ],
             [
              0.3333333333333333,
              "#9c179e"
             ],
             [
              0.4444444444444444,
              "#bd3786"
             ],
             [
              0.5555555555555556,
              "#d8576b"
             ],
             [
              0.6666666666666666,
              "#ed7953"
             ],
             [
              0.7777777777777778,
              "#fb9f3a"
             ],
             [
              0.8888888888888888,
              "#fdca26"
             ],
             [
              1,
              "#f0f921"
             ]
            ],
            "type": "histogram2d"
           }
          ],
          "histogram2dcontour": [
           {
            "colorbar": {
             "outlinewidth": 0,
             "ticks": ""
            },
            "colorscale": [
             [
              0,
              "#0d0887"
             ],
             [
              0.1111111111111111,
              "#46039f"
             ],
             [
              0.2222222222222222,
              "#7201a8"
             ],
             [
              0.3333333333333333,
              "#9c179e"
             ],
             [
              0.4444444444444444,
              "#bd3786"
             ],
             [
              0.5555555555555556,
              "#d8576b"
             ],
             [
              0.6666666666666666,
              "#ed7953"
             ],
             [
              0.7777777777777778,
              "#fb9f3a"
             ],
             [
              0.8888888888888888,
              "#fdca26"
             ],
             [
              1,
              "#f0f921"
             ]
            ],
            "type": "histogram2dcontour"
           }
          ],
          "mesh3d": [
           {
            "colorbar": {
             "outlinewidth": 0,
             "ticks": ""
            },
            "type": "mesh3d"
           }
          ],
          "parcoords": [
           {
            "line": {
             "colorbar": {
              "outlinewidth": 0,
              "ticks": ""
             }
            },
            "type": "parcoords"
           }
          ],
          "pie": [
           {
            "automargin": true,
            "type": "pie"
           }
          ],
          "scatter": [
           {
            "marker": {
             "colorbar": {
              "outlinewidth": 0,
              "ticks": ""
             }
            },
            "type": "scatter"
           }
          ],
          "scatter3d": [
           {
            "line": {
             "colorbar": {
              "outlinewidth": 0,
              "ticks": ""
             }
            },
            "marker": {
             "colorbar": {
              "outlinewidth": 0,
              "ticks": ""
             }
            },
            "type": "scatter3d"
           }
          ],
          "scattercarpet": [
           {
            "marker": {
             "colorbar": {
              "outlinewidth": 0,
              "ticks": ""
             }
            },
            "type": "scattercarpet"
           }
          ],
          "scattergeo": [
           {
            "marker": {
             "colorbar": {
              "outlinewidth": 0,
              "ticks": ""
             }
            },
            "type": "scattergeo"
           }
          ],
          "scattergl": [
           {
            "marker": {
             "colorbar": {
              "outlinewidth": 0,
              "ticks": ""
             }
            },
            "type": "scattergl"
           }
          ],
          "scattermapbox": [
           {
            "marker": {
             "colorbar": {
              "outlinewidth": 0,
              "ticks": ""
             }
            },
            "type": "scattermapbox"
           }
          ],
          "scatterpolar": [
           {
            "marker": {
             "colorbar": {
              "outlinewidth": 0,
              "ticks": ""
             }
            },
            "type": "scatterpolar"
           }
          ],
          "scatterpolargl": [
           {
            "marker": {
             "colorbar": {
              "outlinewidth": 0,
              "ticks": ""
             }
            },
            "type": "scatterpolargl"
           }
          ],
          "scatterternary": [
           {
            "marker": {
             "colorbar": {
              "outlinewidth": 0,
              "ticks": ""
             }
            },
            "type": "scatterternary"
           }
          ],
          "surface": [
           {
            "colorbar": {
             "outlinewidth": 0,
             "ticks": ""
            },
            "colorscale": [
             [
              0,
              "#0d0887"
             ],
             [
              0.1111111111111111,
              "#46039f"
             ],
             [
              0.2222222222222222,
              "#7201a8"
             ],
             [
              0.3333333333333333,
              "#9c179e"
             ],
             [
              0.4444444444444444,
              "#bd3786"
             ],
             [
              0.5555555555555556,
              "#d8576b"
             ],
             [
              0.6666666666666666,
              "#ed7953"
             ],
             [
              0.7777777777777778,
              "#fb9f3a"
             ],
             [
              0.8888888888888888,
              "#fdca26"
             ],
             [
              1,
              "#f0f921"
             ]
            ],
            "type": "surface"
           }
          ],
          "table": [
           {
            "cells": {
             "fill": {
              "color": "#EBF0F8"
             },
             "line": {
              "color": "white"
             }
            },
            "header": {
             "fill": {
              "color": "#C8D4E3"
             },
             "line": {
              "color": "white"
             }
            },
            "type": "table"
           }
          ]
         },
         "layout": {
          "annotationdefaults": {
           "arrowcolor": "#2a3f5f",
           "arrowhead": 0,
           "arrowwidth": 1
          },
          "autotypenumbers": "strict",
          "coloraxis": {
           "colorbar": {
            "outlinewidth": 0,
            "ticks": ""
           }
          },
          "colorscale": {
           "diverging": [
            [
             0,
             "#8e0152"
            ],
            [
             0.1,
             "#c51b7d"
            ],
            [
             0.2,
             "#de77ae"
            ],
            [
             0.3,
             "#f1b6da"
            ],
            [
             0.4,
             "#fde0ef"
            ],
            [
             0.5,
             "#f7f7f7"
            ],
            [
             0.6,
             "#e6f5d0"
            ],
            [
             0.7,
             "#b8e186"
            ],
            [
             0.8,
             "#7fbc41"
            ],
            [
             0.9,
             "#4d9221"
            ],
            [
             1,
             "#276419"
            ]
           ],
           "sequential": [
            [
             0,
             "#0d0887"
            ],
            [
             0.1111111111111111,
             "#46039f"
            ],
            [
             0.2222222222222222,
             "#7201a8"
            ],
            [
             0.3333333333333333,
             "#9c179e"
            ],
            [
             0.4444444444444444,
             "#bd3786"
            ],
            [
             0.5555555555555556,
             "#d8576b"
            ],
            [
             0.6666666666666666,
             "#ed7953"
            ],
            [
             0.7777777777777778,
             "#fb9f3a"
            ],
            [
             0.8888888888888888,
             "#fdca26"
            ],
            [
             1,
             "#f0f921"
            ]
           ],
           "sequentialminus": [
            [
             0,
             "#0d0887"
            ],
            [
             0.1111111111111111,
             "#46039f"
            ],
            [
             0.2222222222222222,
             "#7201a8"
            ],
            [
             0.3333333333333333,
             "#9c179e"
            ],
            [
             0.4444444444444444,
             "#bd3786"
            ],
            [
             0.5555555555555556,
             "#d8576b"
            ],
            [
             0.6666666666666666,
             "#ed7953"
            ],
            [
             0.7777777777777778,
             "#fb9f3a"
            ],
            [
             0.8888888888888888,
             "#fdca26"
            ],
            [
             1,
             "#f0f921"
            ]
           ]
          },
          "colorway": [
           "#636efa",
           "#EF553B",
           "#00cc96",
           "#ab63fa",
           "#FFA15A",
           "#19d3f3",
           "#FF6692",
           "#B6E880",
           "#FF97FF",
           "#FECB52"
          ],
          "font": {
           "color": "#2a3f5f"
          },
          "geo": {
           "bgcolor": "white",
           "lakecolor": "white",
           "landcolor": "#E5ECF6",
           "showlakes": true,
           "showland": true,
           "subunitcolor": "white"
          },
          "hoverlabel": {
           "align": "left"
          },
          "hovermode": "closest",
          "mapbox": {
           "style": "light"
          },
          "paper_bgcolor": "white",
          "plot_bgcolor": "#E5ECF6",
          "polar": {
           "angularaxis": {
            "gridcolor": "white",
            "linecolor": "white",
            "ticks": ""
           },
           "bgcolor": "#E5ECF6",
           "radialaxis": {
            "gridcolor": "white",
            "linecolor": "white",
            "ticks": ""
           }
          },
          "scene": {
           "xaxis": {
            "backgroundcolor": "#E5ECF6",
            "gridcolor": "white",
            "gridwidth": 2,
            "linecolor": "white",
            "showbackground": true,
            "ticks": "",
            "zerolinecolor": "white"
           },
           "yaxis": {
            "backgroundcolor": "#E5ECF6",
            "gridcolor": "white",
            "gridwidth": 2,
            "linecolor": "white",
            "showbackground": true,
            "ticks": "",
            "zerolinecolor": "white"
           },
           "zaxis": {
            "backgroundcolor": "#E5ECF6",
            "gridcolor": "white",
            "gridwidth": 2,
            "linecolor": "white",
            "showbackground": true,
            "ticks": "",
            "zerolinecolor": "white"
           }
          },
          "shapedefaults": {
           "line": {
            "color": "#2a3f5f"
           }
          },
          "ternary": {
           "aaxis": {
            "gridcolor": "white",
            "linecolor": "white",
            "ticks": ""
           },
           "baxis": {
            "gridcolor": "white",
            "linecolor": "white",
            "ticks": ""
           },
           "bgcolor": "#E5ECF6",
           "caxis": {
            "gridcolor": "white",
            "linecolor": "white",
            "ticks": ""
           }
          },
          "title": {
           "x": 0.05
          },
          "xaxis": {
           "automargin": true,
           "gridcolor": "white",
           "linecolor": "white",
           "ticks": "",
           "title": {
            "standoff": 15
           },
           "zerolinecolor": "white",
           "zerolinewidth": 2
          },
          "yaxis": {
           "automargin": true,
           "gridcolor": "white",
           "linecolor": "white",
           "ticks": "",
           "title": {
            "standoff": 15
           },
           "zerolinecolor": "white",
           "zerolinewidth": 2
          }
         }
        },
        "title": {
         "text": "Age of Nigerian Kagglers"
        },
        "uniformtext": {
         "minsize": 8,
         "mode": "hide"
        },
        "xaxis": {
         "anchor": "y",
         "domain": [
          0,
          1
         ],
         "title": {
          "text": "age"
         }
        },
        "yaxis": {
         "anchor": "x",
         "domain": [
          0,
          1
         ],
         "title": {
          "text": "percentage (%)"
         }
        }
       }
      },
      "text/html": [
       "<div>                            <div id=\"f8d7a1bc-ff7c-4786-b05e-b3ed08910cc9\" class=\"plotly-graph-div\" style=\"height:525px; width:100%;\"></div>            <script type=\"text/javascript\">                require([\"plotly\"], function(Plotly) {                    window.PLOTLYENV=window.PLOTLYENV || {};                                    if (document.getElementById(\"f8d7a1bc-ff7c-4786-b05e-b3ed08910cc9\")) {                    Plotly.newPlot(                        \"f8d7a1bc-ff7c-4786-b05e-b3ed08910cc9\",                        [{\"alignmentgroup\": \"True\", \"hovertemplate\": \"age=%{x}<br>percentage (%)=%{text}<extra></extra>\", \"legendgroup\": \"\", \"marker\": {\"color\": \"green\"}, \"name\": \"\", \"offsetgroup\": \"\", \"orientation\": \"v\", \"showlegend\": false, \"text\": [12.4, 18.5, 29.5, 16.4, 13.7, 6.0, 2.7, 0.6, 0.3], \"textposition\": \"outside\", \"texttemplate\": \"%{text:.2s}\", \"type\": \"bar\", \"x\": [\"18-21\", \"22-24\", \"25-29\", \"30-34\", \"35-39\", \"40-44\", \"45-49\", \"50-54\", \"60-69\"], \"xaxis\": \"x\", \"y\": [12.4, 18.5, 29.5, 16.4, 13.7, 6.0, 2.7, 0.6, 0.3], \"yaxis\": \"y\"}],                        {\"barmode\": \"relative\", \"legend\": {\"tracegroupgap\": 0}, \"plot_bgcolor\": \"white\", \"template\": {\"data\": {\"bar\": [{\"error_x\": {\"color\": \"#2a3f5f\"}, \"error_y\": {\"color\": \"#2a3f5f\"}, \"marker\": {\"line\": {\"color\": \"#E5ECF6\", \"width\": 0.5}}, \"type\": \"bar\"}], \"barpolar\": [{\"marker\": {\"line\": {\"color\": \"#E5ECF6\", \"width\": 0.5}}, \"type\": \"barpolar\"}], \"carpet\": [{\"aaxis\": {\"endlinecolor\": \"#2a3f5f\", \"gridcolor\": \"white\", \"linecolor\": \"white\", \"minorgridcolor\": \"white\", \"startlinecolor\": \"#2a3f5f\"}, \"baxis\": {\"endlinecolor\": \"#2a3f5f\", \"gridcolor\": \"white\", \"linecolor\": \"white\", \"minorgridcolor\": \"white\", \"startlinecolor\": \"#2a3f5f\"}, \"type\": \"carpet\"}], \"choropleth\": [{\"colorbar\": {\"outlinewidth\": 0, \"ticks\": \"\"}, \"type\": \"choropleth\"}], \"contour\": [{\"colorbar\": {\"outlinewidth\": 0, \"ticks\": \"\"}, \"colorscale\": [[0.0, \"#0d0887\"], [0.1111111111111111, \"#46039f\"], [0.2222222222222222, \"#7201a8\"], [0.3333333333333333, \"#9c179e\"], [0.4444444444444444, \"#bd3786\"], [0.5555555555555556, \"#d8576b\"], [0.6666666666666666, \"#ed7953\"], [0.7777777777777778, \"#fb9f3a\"], [0.8888888888888888, \"#fdca26\"], [1.0, \"#f0f921\"]], \"type\": \"contour\"}], \"contourcarpet\": [{\"colorbar\": {\"outlinewidth\": 0, \"ticks\": \"\"}, \"type\": \"contourcarpet\"}], \"heatmap\": [{\"colorbar\": {\"outlinewidth\": 0, \"ticks\": \"\"}, \"colorscale\": [[0.0, \"#0d0887\"], [0.1111111111111111, \"#46039f\"], [0.2222222222222222, \"#7201a8\"], [0.3333333333333333, \"#9c179e\"], [0.4444444444444444, \"#bd3786\"], [0.5555555555555556, \"#d8576b\"], [0.6666666666666666, \"#ed7953\"], [0.7777777777777778, \"#fb9f3a\"], [0.8888888888888888, \"#fdca26\"], [1.0, \"#f0f921\"]], \"type\": \"heatmap\"}], \"heatmapgl\": [{\"colorbar\": {\"outlinewidth\": 0, \"ticks\": \"\"}, \"colorscale\": [[0.0, \"#0d0887\"], [0.1111111111111111, \"#46039f\"], [0.2222222222222222, \"#7201a8\"], [0.3333333333333333, \"#9c179e\"], [0.4444444444444444, \"#bd3786\"], [0.5555555555555556, \"#d8576b\"], [0.6666666666666666, \"#ed7953\"], [0.7777777777777778, \"#fb9f3a\"], [0.8888888888888888, \"#fdca26\"], [1.0, \"#f0f921\"]], \"type\": \"heatmapgl\"}], \"histogram\": [{\"marker\": {\"colorbar\": {\"outlinewidth\": 0, \"ticks\": \"\"}}, \"type\": \"histogram\"}], \"histogram2d\": [{\"colorbar\": {\"outlinewidth\": 0, \"ticks\": \"\"}, \"colorscale\": [[0.0, \"#0d0887\"], [0.1111111111111111, \"#46039f\"], [0.2222222222222222, \"#7201a8\"], [0.3333333333333333, \"#9c179e\"], [0.4444444444444444, \"#bd3786\"], [0.5555555555555556, \"#d8576b\"], [0.6666666666666666, \"#ed7953\"], [0.7777777777777778, \"#fb9f3a\"], [0.8888888888888888, \"#fdca26\"], [1.0, \"#f0f921\"]], \"type\": \"histogram2d\"}], \"histogram2dcontour\": [{\"colorbar\": {\"outlinewidth\": 0, \"ticks\": \"\"}, \"colorscale\": [[0.0, \"#0d0887\"], [0.1111111111111111, \"#46039f\"], [0.2222222222222222, \"#7201a8\"], [0.3333333333333333, \"#9c179e\"], [0.4444444444444444, \"#bd3786\"], [0.5555555555555556, \"#d8576b\"], [0.6666666666666666, \"#ed7953\"], [0.7777777777777778, \"#fb9f3a\"], [0.8888888888888888, \"#fdca26\"], [1.0, \"#f0f921\"]], \"type\": \"histogram2dcontour\"}], \"mesh3d\": [{\"colorbar\": {\"outlinewidth\": 0, \"ticks\": \"\"}, \"type\": \"mesh3d\"}], \"parcoords\": [{\"line\": {\"colorbar\": {\"outlinewidth\": 0, \"ticks\": \"\"}}, \"type\": \"parcoords\"}], \"pie\": [{\"automargin\": true, \"type\": \"pie\"}], \"scatter\": [{\"marker\": {\"colorbar\": {\"outlinewidth\": 0, \"ticks\": \"\"}}, \"type\": \"scatter\"}], \"scatter3d\": [{\"line\": {\"colorbar\": {\"outlinewidth\": 0, \"ticks\": \"\"}}, \"marker\": {\"colorbar\": {\"outlinewidth\": 0, \"ticks\": \"\"}}, \"type\": \"scatter3d\"}], \"scattercarpet\": [{\"marker\": {\"colorbar\": {\"outlinewidth\": 0, \"ticks\": \"\"}}, \"type\": \"scattercarpet\"}], \"scattergeo\": [{\"marker\": {\"colorbar\": {\"outlinewidth\": 0, \"ticks\": \"\"}}, \"type\": \"scattergeo\"}], \"scattergl\": [{\"marker\": {\"colorbar\": {\"outlinewidth\": 0, \"ticks\": \"\"}}, \"type\": \"scattergl\"}], \"scattermapbox\": [{\"marker\": {\"colorbar\": {\"outlinewidth\": 0, \"ticks\": \"\"}}, \"type\": \"scattermapbox\"}], \"scatterpolar\": [{\"marker\": {\"colorbar\": {\"outlinewidth\": 0, \"ticks\": \"\"}}, \"type\": \"scatterpolar\"}], \"scatterpolargl\": [{\"marker\": {\"colorbar\": {\"outlinewidth\": 0, \"ticks\": \"\"}}, \"type\": \"scatterpolargl\"}], \"scatterternary\": [{\"marker\": {\"colorbar\": {\"outlinewidth\": 0, \"ticks\": \"\"}}, \"type\": \"scatterternary\"}], \"surface\": [{\"colorbar\": {\"outlinewidth\": 0, \"ticks\": \"\"}, \"colorscale\": [[0.0, \"#0d0887\"], [0.1111111111111111, \"#46039f\"], [0.2222222222222222, \"#7201a8\"], [0.3333333333333333, \"#9c179e\"], [0.4444444444444444, \"#bd3786\"], [0.5555555555555556, \"#d8576b\"], [0.6666666666666666, \"#ed7953\"], [0.7777777777777778, \"#fb9f3a\"], [0.8888888888888888, \"#fdca26\"], [1.0, \"#f0f921\"]], \"type\": \"surface\"}], \"table\": [{\"cells\": {\"fill\": {\"color\": \"#EBF0F8\"}, \"line\": {\"color\": \"white\"}}, \"header\": {\"fill\": {\"color\": \"#C8D4E3\"}, \"line\": {\"color\": \"white\"}}, \"type\": \"table\"}]}, \"layout\": {\"annotationdefaults\": {\"arrowcolor\": \"#2a3f5f\", \"arrowhead\": 0, \"arrowwidth\": 1}, \"autotypenumbers\": \"strict\", \"coloraxis\": {\"colorbar\": {\"outlinewidth\": 0, \"ticks\": \"\"}}, \"colorscale\": {\"diverging\": [[0, \"#8e0152\"], [0.1, \"#c51b7d\"], [0.2, \"#de77ae\"], [0.3, \"#f1b6da\"], [0.4, \"#fde0ef\"], [0.5, \"#f7f7f7\"], [0.6, \"#e6f5d0\"], [0.7, \"#b8e186\"], [0.8, \"#7fbc41\"], [0.9, \"#4d9221\"], [1, \"#276419\"]], \"sequential\": [[0.0, \"#0d0887\"], [0.1111111111111111, \"#46039f\"], [0.2222222222222222, \"#7201a8\"], [0.3333333333333333, \"#9c179e\"], [0.4444444444444444, \"#bd3786\"], [0.5555555555555556, \"#d8576b\"], [0.6666666666666666, \"#ed7953\"], [0.7777777777777778, \"#fb9f3a\"], [0.8888888888888888, \"#fdca26\"], [1.0, \"#f0f921\"]], \"sequentialminus\": [[0.0, \"#0d0887\"], [0.1111111111111111, \"#46039f\"], [0.2222222222222222, \"#7201a8\"], [0.3333333333333333, \"#9c179e\"], [0.4444444444444444, \"#bd3786\"], [0.5555555555555556, \"#d8576b\"], [0.6666666666666666, \"#ed7953\"], [0.7777777777777778, \"#fb9f3a\"], [0.8888888888888888, \"#fdca26\"], [1.0, \"#f0f921\"]]}, \"colorway\": [\"#636efa\", \"#EF553B\", \"#00cc96\", \"#ab63fa\", \"#FFA15A\", \"#19d3f3\", \"#FF6692\", \"#B6E880\", \"#FF97FF\", \"#FECB52\"], \"font\": {\"color\": \"#2a3f5f\"}, \"geo\": {\"bgcolor\": \"white\", \"lakecolor\": \"white\", \"landcolor\": \"#E5ECF6\", \"showlakes\": true, \"showland\": true, \"subunitcolor\": \"white\"}, \"hoverlabel\": {\"align\": \"left\"}, \"hovermode\": \"closest\", \"mapbox\": {\"style\": \"light\"}, \"paper_bgcolor\": \"white\", \"plot_bgcolor\": \"#E5ECF6\", \"polar\": {\"angularaxis\": {\"gridcolor\": \"white\", \"linecolor\": \"white\", \"ticks\": \"\"}, \"bgcolor\": \"#E5ECF6\", \"radialaxis\": {\"gridcolor\": \"white\", \"linecolor\": \"white\", \"ticks\": \"\"}}, \"scene\": {\"xaxis\": {\"backgroundcolor\": \"#E5ECF6\", \"gridcolor\": \"white\", \"gridwidth\": 2, \"linecolor\": \"white\", \"showbackground\": true, \"ticks\": \"\", \"zerolinecolor\": \"white\"}, \"yaxis\": {\"backgroundcolor\": \"#E5ECF6\", \"gridcolor\": \"white\", \"gridwidth\": 2, \"linecolor\": \"white\", \"showbackground\": true, \"ticks\": \"\", \"zerolinecolor\": \"white\"}, \"zaxis\": {\"backgroundcolor\": \"#E5ECF6\", \"gridcolor\": \"white\", \"gridwidth\": 2, \"linecolor\": \"white\", \"showbackground\": true, \"ticks\": \"\", \"zerolinecolor\": \"white\"}}, \"shapedefaults\": {\"line\": {\"color\": \"#2a3f5f\"}}, \"ternary\": {\"aaxis\": {\"gridcolor\": \"white\", \"linecolor\": \"white\", \"ticks\": \"\"}, \"baxis\": {\"gridcolor\": \"white\", \"linecolor\": \"white\", \"ticks\": \"\"}, \"bgcolor\": \"#E5ECF6\", \"caxis\": {\"gridcolor\": \"white\", \"linecolor\": \"white\", \"ticks\": \"\"}}, \"title\": {\"x\": 0.05}, \"xaxis\": {\"automargin\": true, \"gridcolor\": \"white\", \"linecolor\": \"white\", \"ticks\": \"\", \"title\": {\"standoff\": 15}, \"zerolinecolor\": \"white\", \"zerolinewidth\": 2}, \"yaxis\": {\"automargin\": true, \"gridcolor\": \"white\", \"linecolor\": \"white\", \"ticks\": \"\", \"title\": {\"standoff\": 15}, \"zerolinecolor\": \"white\", \"zerolinewidth\": 2}}}, \"title\": {\"text\": \"Age of Nigerian Kagglers\"}, \"uniformtext\": {\"minsize\": 8, \"mode\": \"hide\"}, \"xaxis\": {\"anchor\": \"y\", \"domain\": [0.0, 1.0], \"title\": {\"text\": \"age\"}}, \"yaxis\": {\"anchor\": \"x\", \"domain\": [0.0, 1.0], \"title\": {\"text\": \"percentage (%)\"}}},                        {\"responsive\": true}                    ).then(function(){\n",
       "                            \n",
       "var gd = document.getElementById('f8d7a1bc-ff7c-4786-b05e-b3ed08910cc9');\n",
       "var x = new MutationObserver(function (mutations, observer) {{\n",
       "        var display = window.getComputedStyle(gd).display;\n",
       "        if (!display || display === 'none') {{\n",
       "            console.log([gd, 'removed!']);\n",
       "            Plotly.purge(gd);\n",
       "            observer.disconnect();\n",
       "        }}\n",
       "}});\n",
       "\n",
       "// Listen for the removal of the full notebook cells\n",
       "var notebookContainer = gd.closest('#notebook-container');\n",
       "if (notebookContainer) {{\n",
       "    x.observe(notebookContainer, {childList: true});\n",
       "}}\n",
       "\n",
       "// Listen for the clearing of the current output cell\n",
       "var outputEl = gd.closest('.output');\n",
       "if (outputEl) {{\n",
       "    x.observe(outputEl, {childList: true});\n",
       "}}\n",
       "\n",
       "                        })                };                });            </script>        </div>"
      ]
     },
     "metadata": {},
     "output_type": "display_data"
    }
   ],
   "source": [
    "age_ng = nigeria[\"Q1\"].value_counts(normalize=True) \n",
    "age_ng = age_ng.mul(100)\n",
    "age_ng = age_ng.round(decimals=1)\n",
    "age_ng = pd.DataFrame(data=age_ng)\n",
    "age_ng.reset_index(inplace=True)\n",
    "age_ng.columns = [\"age\",\"percentage (%)\"] \n",
    "age_ng.sort_values(by=\"age\", inplace=True)\n",
    "\n",
    "\n",
    "fig = px.bar(age_ng, x=\"age\", y=\"percentage (%)\", text='percentage (%)', \n",
    "             title=\"Age of Nigerian Kagglers\", orientation=\"v\")\n",
    "fig.update_traces(texttemplate='%{text:.2s}', textposition='outside', marker_color=\"green\", ) \n",
    "fig.update_layout(uniformtext_minsize=8, uniformtext_mode='hide', plot_bgcolor = \"white\")\n",
    "\n",
    "fig.show()"
   ]
  },
  {
   "cell_type": "code",
   "execution_count": 5,
   "metadata": {},
   "outputs": [
    {
     "data": {
      "text/html": [
       "<div>\n",
       "<style scoped>\n",
       "    .dataframe tbody tr th:only-of-type {\n",
       "        vertical-align: middle;\n",
       "    }\n",
       "\n",
       "    .dataframe tbody tr th {\n",
       "        vertical-align: top;\n",
       "    }\n",
       "\n",
       "    .dataframe thead th {\n",
       "        text-align: right;\n",
       "    }\n",
       "</style>\n",
       "<table border=\"1\" class=\"dataframe\">\n",
       "  <thead>\n",
       "    <tr style=\"text-align: right;\">\n",
       "      <th></th>\n",
       "      <th>age</th>\n",
       "      <th>percentage (%)</th>\n",
       "    </tr>\n",
       "  </thead>\n",
       "  <tbody>\n",
       "    <tr>\n",
       "      <th>4</th>\n",
       "      <td>18-21</td>\n",
       "      <td>12.4</td>\n",
       "    </tr>\n",
       "    <tr>\n",
       "      <th>1</th>\n",
       "      <td>22-24</td>\n",
       "      <td>18.5</td>\n",
       "    </tr>\n",
       "    <tr>\n",
       "      <th>0</th>\n",
       "      <td>25-29</td>\n",
       "      <td>29.5</td>\n",
       "    </tr>\n",
       "    <tr>\n",
       "      <th>2</th>\n",
       "      <td>30-34</td>\n",
       "      <td>16.4</td>\n",
       "    </tr>\n",
       "    <tr>\n",
       "      <th>3</th>\n",
       "      <td>35-39</td>\n",
       "      <td>13.7</td>\n",
       "    </tr>\n",
       "    <tr>\n",
       "      <th>5</th>\n",
       "      <td>40-44</td>\n",
       "      <td>6.0</td>\n",
       "    </tr>\n",
       "    <tr>\n",
       "      <th>6</th>\n",
       "      <td>45-49</td>\n",
       "      <td>2.7</td>\n",
       "    </tr>\n",
       "    <tr>\n",
       "      <th>7</th>\n",
       "      <td>50-54</td>\n",
       "      <td>0.6</td>\n",
       "    </tr>\n",
       "    <tr>\n",
       "      <th>8</th>\n",
       "      <td>60-69</td>\n",
       "      <td>0.3</td>\n",
       "    </tr>\n",
       "  </tbody>\n",
       "</table>\n",
       "</div>"
      ],
      "text/plain": [
       "     age  percentage (%)\n",
       "4  18-21            12.4\n",
       "1  22-24            18.5\n",
       "0  25-29            29.5\n",
       "2  30-34            16.4\n",
       "3  35-39            13.7\n",
       "5  40-44             6.0\n",
       "6  45-49             2.7\n",
       "7  50-54             0.6\n",
       "8  60-69             0.3"
      ]
     },
     "execution_count": 5,
     "metadata": {},
     "output_type": "execute_result"
    }
   ],
   "source": [
    "age_ng"
   ]
  },
  {
   "cell_type": "code",
   "execution_count": 6,
   "metadata": {},
   "outputs": [
    {
     "data": {
      "text/html": [
       "<div>\n",
       "<style scoped>\n",
       "    .dataframe tbody tr th:only-of-type {\n",
       "        vertical-align: middle;\n",
       "    }\n",
       "\n",
       "    .dataframe tbody tr th {\n",
       "        vertical-align: top;\n",
       "    }\n",
       "\n",
       "    .dataframe thead th {\n",
       "        text-align: right;\n",
       "    }\n",
       "</style>\n",
       "<table border=\"1\" class=\"dataframe\">\n",
       "  <thead>\n",
       "    <tr style=\"text-align: right;\">\n",
       "      <th></th>\n",
       "      <th>age</th>\n",
       "      <th>percentage (%)</th>\n",
       "    </tr>\n",
       "  </thead>\n",
       "  <tbody>\n",
       "    <tr>\n",
       "      <th>4</th>\n",
       "      <td>18-21</td>\n",
       "      <td>12.4</td>\n",
       "    </tr>\n",
       "    <tr>\n",
       "      <th>1</th>\n",
       "      <td>22-24</td>\n",
       "      <td>18.5</td>\n",
       "    </tr>\n",
       "    <tr>\n",
       "      <th>0</th>\n",
       "      <td>25-29</td>\n",
       "      <td>29.5</td>\n",
       "    </tr>\n",
       "    <tr>\n",
       "      <th>2</th>\n",
       "      <td>30-34</td>\n",
       "      <td>16.4</td>\n",
       "    </tr>\n",
       "    <tr>\n",
       "      <th>3</th>\n",
       "      <td>35-39</td>\n",
       "      <td>13.7</td>\n",
       "    </tr>\n",
       "    <tr>\n",
       "      <th>5</th>\n",
       "      <td>40-44</td>\n",
       "      <td>6.0</td>\n",
       "    </tr>\n",
       "    <tr>\n",
       "      <th>6</th>\n",
       "      <td>45-49</td>\n",
       "      <td>2.7</td>\n",
       "    </tr>\n",
       "    <tr>\n",
       "      <th>7</th>\n",
       "      <td>50-54</td>\n",
       "      <td>0.6</td>\n",
       "    </tr>\n",
       "    <tr>\n",
       "      <th>8</th>\n",
       "      <td>60-69</td>\n",
       "      <td>0.3</td>\n",
       "    </tr>\n",
       "  </tbody>\n",
       "</table>\n",
       "</div>"
      ],
      "text/plain": [
       "     age  percentage (%)\n",
       "4  18-21            12.4\n",
       "1  22-24            18.5\n",
       "0  25-29            29.5\n",
       "2  30-34            16.4\n",
       "3  35-39            13.7\n",
       "5  40-44             6.0\n",
       "6  45-49             2.7\n",
       "7  50-54             0.6\n",
       "8  60-69             0.3"
      ]
     },
     "execution_count": 6,
     "metadata": {},
     "output_type": "execute_result"
    }
   ],
   "source": [
    "age_ng_2 = nigeria[\"Q1\"].value_counts(normalize=True).mul(100).round(decimals=1).reset_index()\n",
    "\n",
    "age_ng_2.columns = [\"age\",\"percentage (%)\"] \n",
    "\n",
    "age_ng_2.sort_values(by=\"age\", inplace=True)\n",
    "\n",
    "age_ng_2"
   ]
  },
  {
   "cell_type": "code",
   "execution_count": 7,
   "metadata": {},
   "outputs": [],
   "source": [
    "def count_then_percent_2(dataframe_2, col_name):\n",
    "    \"\"\"\n",
    "    A helper function to return value counts as percentage.\n",
    "    \"\"\"\n",
    "    percentage_2 = dataframe_2[col_name].value_counts(normalize=True).mul(100).round(decimals=1).reset_index()\n",
    "    \n",
    "    return percentage_2"
   ]
  },
  {
   "cell_type": "code",
   "execution_count": 8,
   "metadata": {},
   "outputs": [
    {
     "data": {
      "text/html": [
       "<div>\n",
       "<style scoped>\n",
       "    .dataframe tbody tr th:only-of-type {\n",
       "        vertical-align: middle;\n",
       "    }\n",
       "\n",
       "    .dataframe tbody tr th {\n",
       "        vertical-align: top;\n",
       "    }\n",
       "\n",
       "    .dataframe thead th {\n",
       "        text-align: right;\n",
       "    }\n",
       "</style>\n",
       "<table border=\"1\" class=\"dataframe\">\n",
       "  <thead>\n",
       "    <tr style=\"text-align: right;\">\n",
       "      <th></th>\n",
       "      <th>index</th>\n",
       "      <th>Q1</th>\n",
       "    </tr>\n",
       "  </thead>\n",
       "  <tbody>\n",
       "    <tr>\n",
       "      <th>0</th>\n",
       "      <td>25-29</td>\n",
       "      <td>29.5</td>\n",
       "    </tr>\n",
       "    <tr>\n",
       "      <th>1</th>\n",
       "      <td>22-24</td>\n",
       "      <td>18.5</td>\n",
       "    </tr>\n",
       "    <tr>\n",
       "      <th>2</th>\n",
       "      <td>30-34</td>\n",
       "      <td>16.4</td>\n",
       "    </tr>\n",
       "    <tr>\n",
       "      <th>3</th>\n",
       "      <td>35-39</td>\n",
       "      <td>13.7</td>\n",
       "    </tr>\n",
       "    <tr>\n",
       "      <th>4</th>\n",
       "      <td>18-21</td>\n",
       "      <td>12.4</td>\n",
       "    </tr>\n",
       "    <tr>\n",
       "      <th>5</th>\n",
       "      <td>40-44</td>\n",
       "      <td>6.0</td>\n",
       "    </tr>\n",
       "    <tr>\n",
       "      <th>6</th>\n",
       "      <td>45-49</td>\n",
       "      <td>2.7</td>\n",
       "    </tr>\n",
       "    <tr>\n",
       "      <th>7</th>\n",
       "      <td>50-54</td>\n",
       "      <td>0.6</td>\n",
       "    </tr>\n",
       "    <tr>\n",
       "      <th>8</th>\n",
       "      <td>60-69</td>\n",
       "      <td>0.3</td>\n",
       "    </tr>\n",
       "  </tbody>\n",
       "</table>\n",
       "</div>"
      ],
      "text/plain": [
       "   index    Q1\n",
       "0  25-29  29.5\n",
       "1  22-24  18.5\n",
       "2  30-34  16.4\n",
       "3  35-39  13.7\n",
       "4  18-21  12.4\n",
       "5  40-44   6.0\n",
       "6  45-49   2.7\n",
       "7  50-54   0.6\n",
       "8  60-69   0.3"
      ]
     },
     "execution_count": 8,
     "metadata": {},
     "output_type": "execute_result"
    }
   ],
   "source": [
    "count_then_percent_2(nigeria, \"Q1\")"
   ]
  },
  {
   "cell_type": "code",
   "execution_count": 9,
   "metadata": {},
   "outputs": [],
   "source": [
    "age_ng_3 = count_then_percent_2(nigeria, \"Q1\")"
   ]
  },
  {
   "cell_type": "code",
   "execution_count": 10,
   "metadata": {},
   "outputs": [
    {
     "data": {
      "application/vnd.plotly.v1+json": {
       "config": {
        "plotlyServerURL": "https://plotly.com"
       },
       "data": [
        {
         "alignmentgroup": "True",
         "hovertemplate": "index=%{x}<br>Q1=%{text}<extra></extra>",
         "legendgroup": "",
         "marker": {
          "color": "green"
         },
         "name": "",
         "offsetgroup": "",
         "orientation": "v",
         "showlegend": false,
         "text": [
          29.5,
          18.5,
          16.4,
          13.7,
          12.4,
          6,
          2.7,
          0.6,
          0.3
         ],
         "textposition": "outside",
         "texttemplate": "%{text:.2s}",
         "type": "bar",
         "x": [
          "25-29",
          "22-24",
          "30-34",
          "35-39",
          "18-21",
          "40-44",
          "45-49",
          "50-54",
          "60-69"
         ],
         "xaxis": "x",
         "y": [
          29.5,
          18.5,
          16.4,
          13.7,
          12.4,
          6,
          2.7,
          0.6,
          0.3
         ],
         "yaxis": "y"
        }
       ],
       "layout": {
        "barmode": "relative",
        "legend": {
         "tracegroupgap": 0
        },
        "plot_bgcolor": "white",
        "template": {
         "data": {
          "bar": [
           {
            "error_x": {
             "color": "#2a3f5f"
            },
            "error_y": {
             "color": "#2a3f5f"
            },
            "marker": {
             "line": {
              "color": "#E5ECF6",
              "width": 0.5
             }
            },
            "type": "bar"
           }
          ],
          "barpolar": [
           {
            "marker": {
             "line": {
              "color": "#E5ECF6",
              "width": 0.5
             }
            },
            "type": "barpolar"
           }
          ],
          "carpet": [
           {
            "aaxis": {
             "endlinecolor": "#2a3f5f",
             "gridcolor": "white",
             "linecolor": "white",
             "minorgridcolor": "white",
             "startlinecolor": "#2a3f5f"
            },
            "baxis": {
             "endlinecolor": "#2a3f5f",
             "gridcolor": "white",
             "linecolor": "white",
             "minorgridcolor": "white",
             "startlinecolor": "#2a3f5f"
            },
            "type": "carpet"
           }
          ],
          "choropleth": [
           {
            "colorbar": {
             "outlinewidth": 0,
             "ticks": ""
            },
            "type": "choropleth"
           }
          ],
          "contour": [
           {
            "colorbar": {
             "outlinewidth": 0,
             "ticks": ""
            },
            "colorscale": [
             [
              0,
              "#0d0887"
             ],
             [
              0.1111111111111111,
              "#46039f"
             ],
             [
              0.2222222222222222,
              "#7201a8"
             ],
             [
              0.3333333333333333,
              "#9c179e"
             ],
             [
              0.4444444444444444,
              "#bd3786"
             ],
             [
              0.5555555555555556,
              "#d8576b"
             ],
             [
              0.6666666666666666,
              "#ed7953"
             ],
             [
              0.7777777777777778,
              "#fb9f3a"
             ],
             [
              0.8888888888888888,
              "#fdca26"
             ],
             [
              1,
              "#f0f921"
             ]
            ],
            "type": "contour"
           }
          ],
          "contourcarpet": [
           {
            "colorbar": {
             "outlinewidth": 0,
             "ticks": ""
            },
            "type": "contourcarpet"
           }
          ],
          "heatmap": [
           {
            "colorbar": {
             "outlinewidth": 0,
             "ticks": ""
            },
            "colorscale": [
             [
              0,
              "#0d0887"
             ],
             [
              0.1111111111111111,
              "#46039f"
             ],
             [
              0.2222222222222222,
              "#7201a8"
             ],
             [
              0.3333333333333333,
              "#9c179e"
             ],
             [
              0.4444444444444444,
              "#bd3786"
             ],
             [
              0.5555555555555556,
              "#d8576b"
             ],
             [
              0.6666666666666666,
              "#ed7953"
             ],
             [
              0.7777777777777778,
              "#fb9f3a"
             ],
             [
              0.8888888888888888,
              "#fdca26"
             ],
             [
              1,
              "#f0f921"
             ]
            ],
            "type": "heatmap"
           }
          ],
          "heatmapgl": [
           {
            "colorbar": {
             "outlinewidth": 0,
             "ticks": ""
            },
            "colorscale": [
             [
              0,
              "#0d0887"
             ],
             [
              0.1111111111111111,
              "#46039f"
             ],
             [
              0.2222222222222222,
              "#7201a8"
             ],
             [
              0.3333333333333333,
              "#9c179e"
             ],
             [
              0.4444444444444444,
              "#bd3786"
             ],
             [
              0.5555555555555556,
              "#d8576b"
             ],
             [
              0.6666666666666666,
              "#ed7953"
             ],
             [
              0.7777777777777778,
              "#fb9f3a"
             ],
             [
              0.8888888888888888,
              "#fdca26"
             ],
             [
              1,
              "#f0f921"
             ]
            ],
            "type": "heatmapgl"
           }
          ],
          "histogram": [
           {
            "marker": {
             "colorbar": {
              "outlinewidth": 0,
              "ticks": ""
             }
            },
            "type": "histogram"
           }
          ],
          "histogram2d": [
           {
            "colorbar": {
             "outlinewidth": 0,
             "ticks": ""
            },
            "colorscale": [
             [
              0,
              "#0d0887"
             ],
             [
              0.1111111111111111,
              "#46039f"
             ],
             [
              0.2222222222222222,
              "#7201a8"
             ],
             [
              0.3333333333333333,
              "#9c179e"
             ],
             [
              0.4444444444444444,
              "#bd3786"
             ],
             [
              0.5555555555555556,
              "#d8576b"
             ],
             [
              0.6666666666666666,
              "#ed7953"
             ],
             [
              0.7777777777777778,
              "#fb9f3a"
             ],
             [
              0.8888888888888888,
              "#fdca26"
             ],
             [
              1,
              "#f0f921"
             ]
            ],
            "type": "histogram2d"
           }
          ],
          "histogram2dcontour": [
           {
            "colorbar": {
             "outlinewidth": 0,
             "ticks": ""
            },
            "colorscale": [
             [
              0,
              "#0d0887"
             ],
             [
              0.1111111111111111,
              "#46039f"
             ],
             [
              0.2222222222222222,
              "#7201a8"
             ],
             [
              0.3333333333333333,
              "#9c179e"
             ],
             [
              0.4444444444444444,
              "#bd3786"
             ],
             [
              0.5555555555555556,
              "#d8576b"
             ],
             [
              0.6666666666666666,
              "#ed7953"
             ],
             [
              0.7777777777777778,
              "#fb9f3a"
             ],
             [
              0.8888888888888888,
              "#fdca26"
             ],
             [
              1,
              "#f0f921"
             ]
            ],
            "type": "histogram2dcontour"
           }
          ],
          "mesh3d": [
           {
            "colorbar": {
             "outlinewidth": 0,
             "ticks": ""
            },
            "type": "mesh3d"
           }
          ],
          "parcoords": [
           {
            "line": {
             "colorbar": {
              "outlinewidth": 0,
              "ticks": ""
             }
            },
            "type": "parcoords"
           }
          ],
          "pie": [
           {
            "automargin": true,
            "type": "pie"
           }
          ],
          "scatter": [
           {
            "marker": {
             "colorbar": {
              "outlinewidth": 0,
              "ticks": ""
             }
            },
            "type": "scatter"
           }
          ],
          "scatter3d": [
           {
            "line": {
             "colorbar": {
              "outlinewidth": 0,
              "ticks": ""
             }
            },
            "marker": {
             "colorbar": {
              "outlinewidth": 0,
              "ticks": ""
             }
            },
            "type": "scatter3d"
           }
          ],
          "scattercarpet": [
           {
            "marker": {
             "colorbar": {
              "outlinewidth": 0,
              "ticks": ""
             }
            },
            "type": "scattercarpet"
           }
          ],
          "scattergeo": [
           {
            "marker": {
             "colorbar": {
              "outlinewidth": 0,
              "ticks": ""
             }
            },
            "type": "scattergeo"
           }
          ],
          "scattergl": [
           {
            "marker": {
             "colorbar": {
              "outlinewidth": 0,
              "ticks": ""
             }
            },
            "type": "scattergl"
           }
          ],
          "scattermapbox": [
           {
            "marker": {
             "colorbar": {
              "outlinewidth": 0,
              "ticks": ""
             }
            },
            "type": "scattermapbox"
           }
          ],
          "scatterpolar": [
           {
            "marker": {
             "colorbar": {
              "outlinewidth": 0,
              "ticks": ""
             }
            },
            "type": "scatterpolar"
           }
          ],
          "scatterpolargl": [
           {
            "marker": {
             "colorbar": {
              "outlinewidth": 0,
              "ticks": ""
             }
            },
            "type": "scatterpolargl"
           }
          ],
          "scatterternary": [
           {
            "marker": {
             "colorbar": {
              "outlinewidth": 0,
              "ticks": ""
             }
            },
            "type": "scatterternary"
           }
          ],
          "surface": [
           {
            "colorbar": {
             "outlinewidth": 0,
             "ticks": ""
            },
            "colorscale": [
             [
              0,
              "#0d0887"
             ],
             [
              0.1111111111111111,
              "#46039f"
             ],
             [
              0.2222222222222222,
              "#7201a8"
             ],
             [
              0.3333333333333333,
              "#9c179e"
             ],
             [
              0.4444444444444444,
              "#bd3786"
             ],
             [
              0.5555555555555556,
              "#d8576b"
             ],
             [
              0.6666666666666666,
              "#ed7953"
             ],
             [
              0.7777777777777778,
              "#fb9f3a"
             ],
             [
              0.8888888888888888,
              "#fdca26"
             ],
             [
              1,
              "#f0f921"
             ]
            ],
            "type": "surface"
           }
          ],
          "table": [
           {
            "cells": {
             "fill": {
              "color": "#EBF0F8"
             },
             "line": {
              "color": "white"
             }
            },
            "header": {
             "fill": {
              "color": "#C8D4E3"
             },
             "line": {
              "color": "white"
             }
            },
            "type": "table"
           }
          ]
         },
         "layout": {
          "annotationdefaults": {
           "arrowcolor": "#2a3f5f",
           "arrowhead": 0,
           "arrowwidth": 1
          },
          "autotypenumbers": "strict",
          "coloraxis": {
           "colorbar": {
            "outlinewidth": 0,
            "ticks": ""
           }
          },
          "colorscale": {
           "diverging": [
            [
             0,
             "#8e0152"
            ],
            [
             0.1,
             "#c51b7d"
            ],
            [
             0.2,
             "#de77ae"
            ],
            [
             0.3,
             "#f1b6da"
            ],
            [
             0.4,
             "#fde0ef"
            ],
            [
             0.5,
             "#f7f7f7"
            ],
            [
             0.6,
             "#e6f5d0"
            ],
            [
             0.7,
             "#b8e186"
            ],
            [
             0.8,
             "#7fbc41"
            ],
            [
             0.9,
             "#4d9221"
            ],
            [
             1,
             "#276419"
            ]
           ],
           "sequential": [
            [
             0,
             "#0d0887"
            ],
            [
             0.1111111111111111,
             "#46039f"
            ],
            [
             0.2222222222222222,
             "#7201a8"
            ],
            [
             0.3333333333333333,
             "#9c179e"
            ],
            [
             0.4444444444444444,
             "#bd3786"
            ],
            [
             0.5555555555555556,
             "#d8576b"
            ],
            [
             0.6666666666666666,
             "#ed7953"
            ],
            [
             0.7777777777777778,
             "#fb9f3a"
            ],
            [
             0.8888888888888888,
             "#fdca26"
            ],
            [
             1,
             "#f0f921"
            ]
           ],
           "sequentialminus": [
            [
             0,
             "#0d0887"
            ],
            [
             0.1111111111111111,
             "#46039f"
            ],
            [
             0.2222222222222222,
             "#7201a8"
            ],
            [
             0.3333333333333333,
             "#9c179e"
            ],
            [
             0.4444444444444444,
             "#bd3786"
            ],
            [
             0.5555555555555556,
             "#d8576b"
            ],
            [
             0.6666666666666666,
             "#ed7953"
            ],
            [
             0.7777777777777778,
             "#fb9f3a"
            ],
            [
             0.8888888888888888,
             "#fdca26"
            ],
            [
             1,
             "#f0f921"
            ]
           ]
          },
          "colorway": [
           "#636efa",
           "#EF553B",
           "#00cc96",
           "#ab63fa",
           "#FFA15A",
           "#19d3f3",
           "#FF6692",
           "#B6E880",
           "#FF97FF",
           "#FECB52"
          ],
          "font": {
           "color": "#2a3f5f"
          },
          "geo": {
           "bgcolor": "white",
           "lakecolor": "white",
           "landcolor": "#E5ECF6",
           "showlakes": true,
           "showland": true,
           "subunitcolor": "white"
          },
          "hoverlabel": {
           "align": "left"
          },
          "hovermode": "closest",
          "mapbox": {
           "style": "light"
          },
          "paper_bgcolor": "white",
          "plot_bgcolor": "#E5ECF6",
          "polar": {
           "angularaxis": {
            "gridcolor": "white",
            "linecolor": "white",
            "ticks": ""
           },
           "bgcolor": "#E5ECF6",
           "radialaxis": {
            "gridcolor": "white",
            "linecolor": "white",
            "ticks": ""
           }
          },
          "scene": {
           "xaxis": {
            "backgroundcolor": "#E5ECF6",
            "gridcolor": "white",
            "gridwidth": 2,
            "linecolor": "white",
            "showbackground": true,
            "ticks": "",
            "zerolinecolor": "white"
           },
           "yaxis": {
            "backgroundcolor": "#E5ECF6",
            "gridcolor": "white",
            "gridwidth": 2,
            "linecolor": "white",
            "showbackground": true,
            "ticks": "",
            "zerolinecolor": "white"
           },
           "zaxis": {
            "backgroundcolor": "#E5ECF6",
            "gridcolor": "white",
            "gridwidth": 2,
            "linecolor": "white",
            "showbackground": true,
            "ticks": "",
            "zerolinecolor": "white"
           }
          },
          "shapedefaults": {
           "line": {
            "color": "#2a3f5f"
           }
          },
          "ternary": {
           "aaxis": {
            "gridcolor": "white",
            "linecolor": "white",
            "ticks": ""
           },
           "baxis": {
            "gridcolor": "white",
            "linecolor": "white",
            "ticks": ""
           },
           "bgcolor": "#E5ECF6",
           "caxis": {
            "gridcolor": "white",
            "linecolor": "white",
            "ticks": ""
           }
          },
          "title": {
           "x": 0.05
          },
          "xaxis": {
           "automargin": true,
           "gridcolor": "white",
           "linecolor": "white",
           "ticks": "",
           "title": {
            "standoff": 15
           },
           "zerolinecolor": "white",
           "zerolinewidth": 2
          },
          "yaxis": {
           "automargin": true,
           "gridcolor": "white",
           "linecolor": "white",
           "ticks": "",
           "title": {
            "standoff": 15
           },
           "zerolinecolor": "white",
           "zerolinewidth": 2
          }
         }
        },
        "title": {
         "text": "Age of Nigerian Kagglers"
        },
        "uniformtext": {
         "minsize": 8,
         "mode": "hide"
        },
        "xaxis": {
         "anchor": "y",
         "domain": [
          0,
          1
         ],
         "title": {
          "text": "index"
         }
        },
        "yaxis": {
         "anchor": "x",
         "domain": [
          0,
          1
         ],
         "title": {
          "text": "Q1"
         }
        }
       }
      },
      "text/html": [
       "<div>                            <div id=\"4326c450-5176-4b9b-9876-f422aa4a75db\" class=\"plotly-graph-div\" style=\"height:525px; width:100%;\"></div>            <script type=\"text/javascript\">                require([\"plotly\"], function(Plotly) {                    window.PLOTLYENV=window.PLOTLYENV || {};                                    if (document.getElementById(\"4326c450-5176-4b9b-9876-f422aa4a75db\")) {                    Plotly.newPlot(                        \"4326c450-5176-4b9b-9876-f422aa4a75db\",                        [{\"alignmentgroup\": \"True\", \"hovertemplate\": \"index=%{x}<br>Q1=%{text}<extra></extra>\", \"legendgroup\": \"\", \"marker\": {\"color\": \"green\"}, \"name\": \"\", \"offsetgroup\": \"\", \"orientation\": \"v\", \"showlegend\": false, \"text\": [29.5, 18.5, 16.4, 13.7, 12.4, 6.0, 2.7, 0.6, 0.3], \"textposition\": \"outside\", \"texttemplate\": \"%{text:.2s}\", \"type\": \"bar\", \"x\": [\"25-29\", \"22-24\", \"30-34\", \"35-39\", \"18-21\", \"40-44\", \"45-49\", \"50-54\", \"60-69\"], \"xaxis\": \"x\", \"y\": [29.5, 18.5, 16.4, 13.7, 12.4, 6.0, 2.7, 0.6, 0.3], \"yaxis\": \"y\"}],                        {\"barmode\": \"relative\", \"legend\": {\"tracegroupgap\": 0}, \"plot_bgcolor\": \"white\", \"template\": {\"data\": {\"bar\": [{\"error_x\": {\"color\": \"#2a3f5f\"}, \"error_y\": {\"color\": \"#2a3f5f\"}, \"marker\": {\"line\": {\"color\": \"#E5ECF6\", \"width\": 0.5}}, \"type\": \"bar\"}], \"barpolar\": [{\"marker\": {\"line\": {\"color\": \"#E5ECF6\", \"width\": 0.5}}, \"type\": \"barpolar\"}], \"carpet\": [{\"aaxis\": {\"endlinecolor\": \"#2a3f5f\", \"gridcolor\": \"white\", \"linecolor\": \"white\", \"minorgridcolor\": \"white\", \"startlinecolor\": \"#2a3f5f\"}, \"baxis\": {\"endlinecolor\": \"#2a3f5f\", \"gridcolor\": \"white\", \"linecolor\": \"white\", \"minorgridcolor\": \"white\", \"startlinecolor\": \"#2a3f5f\"}, \"type\": \"carpet\"}], \"choropleth\": [{\"colorbar\": {\"outlinewidth\": 0, \"ticks\": \"\"}, \"type\": \"choropleth\"}], \"contour\": [{\"colorbar\": {\"outlinewidth\": 0, \"ticks\": \"\"}, \"colorscale\": [[0.0, \"#0d0887\"], [0.1111111111111111, \"#46039f\"], [0.2222222222222222, \"#7201a8\"], [0.3333333333333333, \"#9c179e\"], [0.4444444444444444, \"#bd3786\"], [0.5555555555555556, \"#d8576b\"], [0.6666666666666666, \"#ed7953\"], [0.7777777777777778, \"#fb9f3a\"], [0.8888888888888888, \"#fdca26\"], [1.0, \"#f0f921\"]], \"type\": \"contour\"}], \"contourcarpet\": [{\"colorbar\": {\"outlinewidth\": 0, \"ticks\": \"\"}, \"type\": \"contourcarpet\"}], \"heatmap\": [{\"colorbar\": {\"outlinewidth\": 0, \"ticks\": \"\"}, \"colorscale\": [[0.0, \"#0d0887\"], [0.1111111111111111, \"#46039f\"], [0.2222222222222222, \"#7201a8\"], [0.3333333333333333, \"#9c179e\"], [0.4444444444444444, \"#bd3786\"], [0.5555555555555556, \"#d8576b\"], [0.6666666666666666, \"#ed7953\"], [0.7777777777777778, \"#fb9f3a\"], [0.8888888888888888, \"#fdca26\"], [1.0, \"#f0f921\"]], \"type\": \"heatmap\"}], \"heatmapgl\": [{\"colorbar\": {\"outlinewidth\": 0, \"ticks\": \"\"}, \"colorscale\": [[0.0, \"#0d0887\"], [0.1111111111111111, \"#46039f\"], [0.2222222222222222, \"#7201a8\"], [0.3333333333333333, \"#9c179e\"], [0.4444444444444444, \"#bd3786\"], [0.5555555555555556, \"#d8576b\"], [0.6666666666666666, \"#ed7953\"], [0.7777777777777778, \"#fb9f3a\"], [0.8888888888888888, \"#fdca26\"], [1.0, \"#f0f921\"]], \"type\": \"heatmapgl\"}], \"histogram\": [{\"marker\": {\"colorbar\": {\"outlinewidth\": 0, \"ticks\": \"\"}}, \"type\": \"histogram\"}], \"histogram2d\": [{\"colorbar\": {\"outlinewidth\": 0, \"ticks\": \"\"}, \"colorscale\": [[0.0, \"#0d0887\"], [0.1111111111111111, \"#46039f\"], [0.2222222222222222, \"#7201a8\"], [0.3333333333333333, \"#9c179e\"], [0.4444444444444444, \"#bd3786\"], [0.5555555555555556, \"#d8576b\"], [0.6666666666666666, \"#ed7953\"], [0.7777777777777778, \"#fb9f3a\"], [0.8888888888888888, \"#fdca26\"], [1.0, \"#f0f921\"]], \"type\": \"histogram2d\"}], \"histogram2dcontour\": [{\"colorbar\": {\"outlinewidth\": 0, \"ticks\": \"\"}, \"colorscale\": [[0.0, \"#0d0887\"], [0.1111111111111111, \"#46039f\"], [0.2222222222222222, \"#7201a8\"], [0.3333333333333333, \"#9c179e\"], [0.4444444444444444, \"#bd3786\"], [0.5555555555555556, \"#d8576b\"], [0.6666666666666666, \"#ed7953\"], [0.7777777777777778, \"#fb9f3a\"], [0.8888888888888888, \"#fdca26\"], [1.0, \"#f0f921\"]], \"type\": \"histogram2dcontour\"}], \"mesh3d\": [{\"colorbar\": {\"outlinewidth\": 0, \"ticks\": \"\"}, \"type\": \"mesh3d\"}], \"parcoords\": [{\"line\": {\"colorbar\": {\"outlinewidth\": 0, \"ticks\": \"\"}}, \"type\": \"parcoords\"}], \"pie\": [{\"automargin\": true, \"type\": \"pie\"}], \"scatter\": [{\"marker\": {\"colorbar\": {\"outlinewidth\": 0, \"ticks\": \"\"}}, \"type\": \"scatter\"}], \"scatter3d\": [{\"line\": {\"colorbar\": {\"outlinewidth\": 0, \"ticks\": \"\"}}, \"marker\": {\"colorbar\": {\"outlinewidth\": 0, \"ticks\": \"\"}}, \"type\": \"scatter3d\"}], \"scattercarpet\": [{\"marker\": {\"colorbar\": {\"outlinewidth\": 0, \"ticks\": \"\"}}, \"type\": \"scattercarpet\"}], \"scattergeo\": [{\"marker\": {\"colorbar\": {\"outlinewidth\": 0, \"ticks\": \"\"}}, \"type\": \"scattergeo\"}], \"scattergl\": [{\"marker\": {\"colorbar\": {\"outlinewidth\": 0, \"ticks\": \"\"}}, \"type\": \"scattergl\"}], \"scattermapbox\": [{\"marker\": {\"colorbar\": {\"outlinewidth\": 0, \"ticks\": \"\"}}, \"type\": \"scattermapbox\"}], \"scatterpolar\": [{\"marker\": {\"colorbar\": {\"outlinewidth\": 0, \"ticks\": \"\"}}, \"type\": \"scatterpolar\"}], \"scatterpolargl\": [{\"marker\": {\"colorbar\": {\"outlinewidth\": 0, \"ticks\": \"\"}}, \"type\": \"scatterpolargl\"}], \"scatterternary\": [{\"marker\": {\"colorbar\": {\"outlinewidth\": 0, \"ticks\": \"\"}}, \"type\": \"scatterternary\"}], \"surface\": [{\"colorbar\": {\"outlinewidth\": 0, \"ticks\": \"\"}, \"colorscale\": [[0.0, \"#0d0887\"], [0.1111111111111111, \"#46039f\"], [0.2222222222222222, \"#7201a8\"], [0.3333333333333333, \"#9c179e\"], [0.4444444444444444, \"#bd3786\"], [0.5555555555555556, \"#d8576b\"], [0.6666666666666666, \"#ed7953\"], [0.7777777777777778, \"#fb9f3a\"], [0.8888888888888888, \"#fdca26\"], [1.0, \"#f0f921\"]], \"type\": \"surface\"}], \"table\": [{\"cells\": {\"fill\": {\"color\": \"#EBF0F8\"}, \"line\": {\"color\": \"white\"}}, \"header\": {\"fill\": {\"color\": \"#C8D4E3\"}, \"line\": {\"color\": \"white\"}}, \"type\": \"table\"}]}, \"layout\": {\"annotationdefaults\": {\"arrowcolor\": \"#2a3f5f\", \"arrowhead\": 0, \"arrowwidth\": 1}, \"autotypenumbers\": \"strict\", \"coloraxis\": {\"colorbar\": {\"outlinewidth\": 0, \"ticks\": \"\"}}, \"colorscale\": {\"diverging\": [[0, \"#8e0152\"], [0.1, \"#c51b7d\"], [0.2, \"#de77ae\"], [0.3, \"#f1b6da\"], [0.4, \"#fde0ef\"], [0.5, \"#f7f7f7\"], [0.6, \"#e6f5d0\"], [0.7, \"#b8e186\"], [0.8, \"#7fbc41\"], [0.9, \"#4d9221\"], [1, \"#276419\"]], \"sequential\": [[0.0, \"#0d0887\"], [0.1111111111111111, \"#46039f\"], [0.2222222222222222, \"#7201a8\"], [0.3333333333333333, \"#9c179e\"], [0.4444444444444444, \"#bd3786\"], [0.5555555555555556, \"#d8576b\"], [0.6666666666666666, \"#ed7953\"], [0.7777777777777778, \"#fb9f3a\"], [0.8888888888888888, \"#fdca26\"], [1.0, \"#f0f921\"]], \"sequentialminus\": [[0.0, \"#0d0887\"], [0.1111111111111111, \"#46039f\"], [0.2222222222222222, \"#7201a8\"], [0.3333333333333333, \"#9c179e\"], [0.4444444444444444, \"#bd3786\"], [0.5555555555555556, \"#d8576b\"], [0.6666666666666666, \"#ed7953\"], [0.7777777777777778, \"#fb9f3a\"], [0.8888888888888888, \"#fdca26\"], [1.0, \"#f0f921\"]]}, \"colorway\": [\"#636efa\", \"#EF553B\", \"#00cc96\", \"#ab63fa\", \"#FFA15A\", \"#19d3f3\", \"#FF6692\", \"#B6E880\", \"#FF97FF\", \"#FECB52\"], \"font\": {\"color\": \"#2a3f5f\"}, \"geo\": {\"bgcolor\": \"white\", \"lakecolor\": \"white\", \"landcolor\": \"#E5ECF6\", \"showlakes\": true, \"showland\": true, \"subunitcolor\": \"white\"}, \"hoverlabel\": {\"align\": \"left\"}, \"hovermode\": \"closest\", \"mapbox\": {\"style\": \"light\"}, \"paper_bgcolor\": \"white\", \"plot_bgcolor\": \"#E5ECF6\", \"polar\": {\"angularaxis\": {\"gridcolor\": \"white\", \"linecolor\": \"white\", \"ticks\": \"\"}, \"bgcolor\": \"#E5ECF6\", \"radialaxis\": {\"gridcolor\": \"white\", \"linecolor\": \"white\", \"ticks\": \"\"}}, \"scene\": {\"xaxis\": {\"backgroundcolor\": \"#E5ECF6\", \"gridcolor\": \"white\", \"gridwidth\": 2, \"linecolor\": \"white\", \"showbackground\": true, \"ticks\": \"\", \"zerolinecolor\": \"white\"}, \"yaxis\": {\"backgroundcolor\": \"#E5ECF6\", \"gridcolor\": \"white\", \"gridwidth\": 2, \"linecolor\": \"white\", \"showbackground\": true, \"ticks\": \"\", \"zerolinecolor\": \"white\"}, \"zaxis\": {\"backgroundcolor\": \"#E5ECF6\", \"gridcolor\": \"white\", \"gridwidth\": 2, \"linecolor\": \"white\", \"showbackground\": true, \"ticks\": \"\", \"zerolinecolor\": \"white\"}}, \"shapedefaults\": {\"line\": {\"color\": \"#2a3f5f\"}}, \"ternary\": {\"aaxis\": {\"gridcolor\": \"white\", \"linecolor\": \"white\", \"ticks\": \"\"}, \"baxis\": {\"gridcolor\": \"white\", \"linecolor\": \"white\", \"ticks\": \"\"}, \"bgcolor\": \"#E5ECF6\", \"caxis\": {\"gridcolor\": \"white\", \"linecolor\": \"white\", \"ticks\": \"\"}}, \"title\": {\"x\": 0.05}, \"xaxis\": {\"automargin\": true, \"gridcolor\": \"white\", \"linecolor\": \"white\", \"ticks\": \"\", \"title\": {\"standoff\": 15}, \"zerolinecolor\": \"white\", \"zerolinewidth\": 2}, \"yaxis\": {\"automargin\": true, \"gridcolor\": \"white\", \"linecolor\": \"white\", \"ticks\": \"\", \"title\": {\"standoff\": 15}, \"zerolinecolor\": \"white\", \"zerolinewidth\": 2}}}, \"title\": {\"text\": \"Age of Nigerian Kagglers\"}, \"uniformtext\": {\"minsize\": 8, \"mode\": \"hide\"}, \"xaxis\": {\"anchor\": \"y\", \"domain\": [0.0, 1.0], \"title\": {\"text\": \"index\"}}, \"yaxis\": {\"anchor\": \"x\", \"domain\": [0.0, 1.0], \"title\": {\"text\": \"Q1\"}}},                        {\"responsive\": true}                    ).then(function(){\n",
       "                            \n",
       "var gd = document.getElementById('4326c450-5176-4b9b-9876-f422aa4a75db');\n",
       "var x = new MutationObserver(function (mutations, observer) {{\n",
       "        var display = window.getComputedStyle(gd).display;\n",
       "        if (!display || display === 'none') {{\n",
       "            console.log([gd, 'removed!']);\n",
       "            Plotly.purge(gd);\n",
       "            observer.disconnect();\n",
       "        }}\n",
       "}});\n",
       "\n",
       "// Listen for the removal of the full notebook cells\n",
       "var notebookContainer = gd.closest('#notebook-container');\n",
       "if (notebookContainer) {{\n",
       "    x.observe(notebookContainer, {childList: true});\n",
       "}}\n",
       "\n",
       "// Listen for the clearing of the current output cell\n",
       "var outputEl = gd.closest('.output');\n",
       "if (outputEl) {{\n",
       "    x.observe(outputEl, {childList: true});\n",
       "}}\n",
       "\n",
       "                        })                };                });            </script>        </div>"
      ]
     },
     "metadata": {},
     "output_type": "display_data"
    }
   ],
   "source": [
    "fig = px.bar(age_ng_3, x=\"index\", y=\"Q1\", text='Q1', \n",
    "             title=\"Age of Nigerian Kagglers\", orientation=\"v\")\n",
    "fig.update_traces(texttemplate='%{text:.2s}', textposition='outside', marker_color=\"green\", ) \n",
    "fig.update_layout(uniformtext_minsize=8, uniformtext_mode='hide', plot_bgcolor = \"white\")\n",
    "\n",
    "fig.show()"
   ]
  },
  {
   "cell_type": "code",
   "execution_count": 11,
   "metadata": {},
   "outputs": [],
   "source": [
    "def count_then_return_percent(dataframe,column_name):\n",
    "    '''\n",
    "    A helper function to return value counts as percentages.\n",
    "    '''\n",
    "    counts = dataframe[column_name].value_counts(dropna=False)\n",
    "    percentages = round(counts*100/(dataframe[column_name].count()),1)\n",
    "    return percentages"
   ]
  },
  {
   "cell_type": "code",
   "execution_count": 12,
   "metadata": {},
   "outputs": [],
   "source": [
    "def plotly_bar_chart(response_counts,title,y_axis_title,orientation):\n",
    "    '''\n",
    "    This function creates a bar chart.\n",
    "    '''\n",
    "    response_counts_series = pd.Series(response_counts)\n",
    "    fig = px.bar(response_counts_series,\n",
    "             labels={\"index\": '',\"value\": y_axis_title},\n",
    "             text=response_counts_series.values,\n",
    "             orientation=orientation,)\n",
    "    fig.update_layout(showlegend=False,\n",
    "                      title={'text': title+' in 2021',\n",
    "                             'y':0.95,\n",
    "                             'x':0.5,})\n",
    "    fig.show()"
   ]
  },
  {
   "cell_type": "code",
   "execution_count": 13,
   "metadata": {},
   "outputs": [
    {
     "data": {
      "application/vnd.plotly.v1+json": {
       "config": {
        "plotlyServerURL": "https://plotly.com"
       },
       "data": [
        {
         "alignmentgroup": "True",
         "hovertemplate": "variable=Q1<br>% of respondents=%{x}<br>=%{y}<br>text=%{text}<extra></extra>",
         "legendgroup": "Q1",
         "marker": {
          "color": "#636efa"
         },
         "name": "Q1",
         "offsetgroup": "Q1",
         "orientation": "h",
         "showlegend": true,
         "text": [
          18.9,
          18.1,
          19,
          13.2,
          9.6,
          7.3,
          5.3,
          3.7,
          2.3,
          2.1,
          0.5,
          0
         ],
         "textposition": "auto",
         "type": "bar",
         "x": [
          18.9,
          18.1,
          19,
          13.2,
          9.6,
          7.3,
          5.3,
          3.7,
          2.3,
          2.1,
          0.5,
          0
         ],
         "xaxis": "x",
         "y": [
          "18-21",
          "22-24",
          "25-29",
          "30-34",
          "35-39",
          "40-44",
          "45-49",
          "50-54",
          "55-59",
          "60-69",
          "70+",
          "What is your age (# years)?"
         ],
         "yaxis": "y"
        }
       ],
       "layout": {
        "barmode": "relative",
        "legend": {
         "title": {
          "text": "variable"
         },
         "tracegroupgap": 0
        },
        "margin": {
         "t": 60
        },
        "showlegend": false,
        "template": {
         "data": {
          "bar": [
           {
            "error_x": {
             "color": "#2a3f5f"
            },
            "error_y": {
             "color": "#2a3f5f"
            },
            "marker": {
             "line": {
              "color": "#E5ECF6",
              "width": 0.5
             }
            },
            "type": "bar"
           }
          ],
          "barpolar": [
           {
            "marker": {
             "line": {
              "color": "#E5ECF6",
              "width": 0.5
             }
            },
            "type": "barpolar"
           }
          ],
          "carpet": [
           {
            "aaxis": {
             "endlinecolor": "#2a3f5f",
             "gridcolor": "white",
             "linecolor": "white",
             "minorgridcolor": "white",
             "startlinecolor": "#2a3f5f"
            },
            "baxis": {
             "endlinecolor": "#2a3f5f",
             "gridcolor": "white",
             "linecolor": "white",
             "minorgridcolor": "white",
             "startlinecolor": "#2a3f5f"
            },
            "type": "carpet"
           }
          ],
          "choropleth": [
           {
            "colorbar": {
             "outlinewidth": 0,
             "ticks": ""
            },
            "type": "choropleth"
           }
          ],
          "contour": [
           {
            "colorbar": {
             "outlinewidth": 0,
             "ticks": ""
            },
            "colorscale": [
             [
              0,
              "#0d0887"
             ],
             [
              0.1111111111111111,
              "#46039f"
             ],
             [
              0.2222222222222222,
              "#7201a8"
             ],
             [
              0.3333333333333333,
              "#9c179e"
             ],
             [
              0.4444444444444444,
              "#bd3786"
             ],
             [
              0.5555555555555556,
              "#d8576b"
             ],
             [
              0.6666666666666666,
              "#ed7953"
             ],
             [
              0.7777777777777778,
              "#fb9f3a"
             ],
             [
              0.8888888888888888,
              "#fdca26"
             ],
             [
              1,
              "#f0f921"
             ]
            ],
            "type": "contour"
           }
          ],
          "contourcarpet": [
           {
            "colorbar": {
             "outlinewidth": 0,
             "ticks": ""
            },
            "type": "contourcarpet"
           }
          ],
          "heatmap": [
           {
            "colorbar": {
             "outlinewidth": 0,
             "ticks": ""
            },
            "colorscale": [
             [
              0,
              "#0d0887"
             ],
             [
              0.1111111111111111,
              "#46039f"
             ],
             [
              0.2222222222222222,
              "#7201a8"
             ],
             [
              0.3333333333333333,
              "#9c179e"
             ],
             [
              0.4444444444444444,
              "#bd3786"
             ],
             [
              0.5555555555555556,
              "#d8576b"
             ],
             [
              0.6666666666666666,
              "#ed7953"
             ],
             [
              0.7777777777777778,
              "#fb9f3a"
             ],
             [
              0.8888888888888888,
              "#fdca26"
             ],
             [
              1,
              "#f0f921"
             ]
            ],
            "type": "heatmap"
           }
          ],
          "heatmapgl": [
           {
            "colorbar": {
             "outlinewidth": 0,
             "ticks": ""
            },
            "colorscale": [
             [
              0,
              "#0d0887"
             ],
             [
              0.1111111111111111,
              "#46039f"
             ],
             [
              0.2222222222222222,
              "#7201a8"
             ],
             [
              0.3333333333333333,
              "#9c179e"
             ],
             [
              0.4444444444444444,
              "#bd3786"
             ],
             [
              0.5555555555555556,
              "#d8576b"
             ],
             [
              0.6666666666666666,
              "#ed7953"
             ],
             [
              0.7777777777777778,
              "#fb9f3a"
             ],
             [
              0.8888888888888888,
              "#fdca26"
             ],
             [
              1,
              "#f0f921"
             ]
            ],
            "type": "heatmapgl"
           }
          ],
          "histogram": [
           {
            "marker": {
             "colorbar": {
              "outlinewidth": 0,
              "ticks": ""
             }
            },
            "type": "histogram"
           }
          ],
          "histogram2d": [
           {
            "colorbar": {
             "outlinewidth": 0,
             "ticks": ""
            },
            "colorscale": [
             [
              0,
              "#0d0887"
             ],
             [
              0.1111111111111111,
              "#46039f"
             ],
             [
              0.2222222222222222,
              "#7201a8"
             ],
             [
              0.3333333333333333,
              "#9c179e"
             ],
             [
              0.4444444444444444,
              "#bd3786"
             ],
             [
              0.5555555555555556,
              "#d8576b"
             ],
             [
              0.6666666666666666,
              "#ed7953"
             ],
             [
              0.7777777777777778,
              "#fb9f3a"
             ],
             [
              0.8888888888888888,
              "#fdca26"
             ],
             [
              1,
              "#f0f921"
             ]
            ],
            "type": "histogram2d"
           }
          ],
          "histogram2dcontour": [
           {
            "colorbar": {
             "outlinewidth": 0,
             "ticks": ""
            },
            "colorscale": [
             [
              0,
              "#0d0887"
             ],
             [
              0.1111111111111111,
              "#46039f"
             ],
             [
              0.2222222222222222,
              "#7201a8"
             ],
             [
              0.3333333333333333,
              "#9c179e"
             ],
             [
              0.4444444444444444,
              "#bd3786"
             ],
             [
              0.5555555555555556,
              "#d8576b"
             ],
             [
              0.6666666666666666,
              "#ed7953"
             ],
             [
              0.7777777777777778,
              "#fb9f3a"
             ],
             [
              0.8888888888888888,
              "#fdca26"
             ],
             [
              1,
              "#f0f921"
             ]
            ],
            "type": "histogram2dcontour"
           }
          ],
          "mesh3d": [
           {
            "colorbar": {
             "outlinewidth": 0,
             "ticks": ""
            },
            "type": "mesh3d"
           }
          ],
          "parcoords": [
           {
            "line": {
             "colorbar": {
              "outlinewidth": 0,
              "ticks": ""
             }
            },
            "type": "parcoords"
           }
          ],
          "pie": [
           {
            "automargin": true,
            "type": "pie"
           }
          ],
          "scatter": [
           {
            "marker": {
             "colorbar": {
              "outlinewidth": 0,
              "ticks": ""
             }
            },
            "type": "scatter"
           }
          ],
          "scatter3d": [
           {
            "line": {
             "colorbar": {
              "outlinewidth": 0,
              "ticks": ""
             }
            },
            "marker": {
             "colorbar": {
              "outlinewidth": 0,
              "ticks": ""
             }
            },
            "type": "scatter3d"
           }
          ],
          "scattercarpet": [
           {
            "marker": {
             "colorbar": {
              "outlinewidth": 0,
              "ticks": ""
             }
            },
            "type": "scattercarpet"
           }
          ],
          "scattergeo": [
           {
            "marker": {
             "colorbar": {
              "outlinewidth": 0,
              "ticks": ""
             }
            },
            "type": "scattergeo"
           }
          ],
          "scattergl": [
           {
            "marker": {
             "colorbar": {
              "outlinewidth": 0,
              "ticks": ""
             }
            },
            "type": "scattergl"
           }
          ],
          "scattermapbox": [
           {
            "marker": {
             "colorbar": {
              "outlinewidth": 0,
              "ticks": ""
             }
            },
            "type": "scattermapbox"
           }
          ],
          "scatterpolar": [
           {
            "marker": {
             "colorbar": {
              "outlinewidth": 0,
              "ticks": ""
             }
            },
            "type": "scatterpolar"
           }
          ],
          "scatterpolargl": [
           {
            "marker": {
             "colorbar": {
              "outlinewidth": 0,
              "ticks": ""
             }
            },
            "type": "scatterpolargl"
           }
          ],
          "scatterternary": [
           {
            "marker": {
             "colorbar": {
              "outlinewidth": 0,
              "ticks": ""
             }
            },
            "type": "scatterternary"
           }
          ],
          "surface": [
           {
            "colorbar": {
             "outlinewidth": 0,
             "ticks": ""
            },
            "colorscale": [
             [
              0,
              "#0d0887"
             ],
             [
              0.1111111111111111,
              "#46039f"
             ],
             [
              0.2222222222222222,
              "#7201a8"
             ],
             [
              0.3333333333333333,
              "#9c179e"
             ],
             [
              0.4444444444444444,
              "#bd3786"
             ],
             [
              0.5555555555555556,
              "#d8576b"
             ],
             [
              0.6666666666666666,
              "#ed7953"
             ],
             [
              0.7777777777777778,
              "#fb9f3a"
             ],
             [
              0.8888888888888888,
              "#fdca26"
             ],
             [
              1,
              "#f0f921"
             ]
            ],
            "type": "surface"
           }
          ],
          "table": [
           {
            "cells": {
             "fill": {
              "color": "#EBF0F8"
             },
             "line": {
              "color": "white"
             }
            },
            "header": {
             "fill": {
              "color": "#C8D4E3"
             },
             "line": {
              "color": "white"
             }
            },
            "type": "table"
           }
          ]
         },
         "layout": {
          "annotationdefaults": {
           "arrowcolor": "#2a3f5f",
           "arrowhead": 0,
           "arrowwidth": 1
          },
          "autotypenumbers": "strict",
          "coloraxis": {
           "colorbar": {
            "outlinewidth": 0,
            "ticks": ""
           }
          },
          "colorscale": {
           "diverging": [
            [
             0,
             "#8e0152"
            ],
            [
             0.1,
             "#c51b7d"
            ],
            [
             0.2,
             "#de77ae"
            ],
            [
             0.3,
             "#f1b6da"
            ],
            [
             0.4,
             "#fde0ef"
            ],
            [
             0.5,
             "#f7f7f7"
            ],
            [
             0.6,
             "#e6f5d0"
            ],
            [
             0.7,
             "#b8e186"
            ],
            [
             0.8,
             "#7fbc41"
            ],
            [
             0.9,
             "#4d9221"
            ],
            [
             1,
             "#276419"
            ]
           ],
           "sequential": [
            [
             0,
             "#0d0887"
            ],
            [
             0.1111111111111111,
             "#46039f"
            ],
            [
             0.2222222222222222,
             "#7201a8"
            ],
            [
             0.3333333333333333,
             "#9c179e"
            ],
            [
             0.4444444444444444,
             "#bd3786"
            ],
            [
             0.5555555555555556,
             "#d8576b"
            ],
            [
             0.6666666666666666,
             "#ed7953"
            ],
            [
             0.7777777777777778,
             "#fb9f3a"
            ],
            [
             0.8888888888888888,
             "#fdca26"
            ],
            [
             1,
             "#f0f921"
            ]
           ],
           "sequentialminus": [
            [
             0,
             "#0d0887"
            ],
            [
             0.1111111111111111,
             "#46039f"
            ],
            [
             0.2222222222222222,
             "#7201a8"
            ],
            [
             0.3333333333333333,
             "#9c179e"
            ],
            [
             0.4444444444444444,
             "#bd3786"
            ],
            [
             0.5555555555555556,
             "#d8576b"
            ],
            [
             0.6666666666666666,
             "#ed7953"
            ],
            [
             0.7777777777777778,
             "#fb9f3a"
            ],
            [
             0.8888888888888888,
             "#fdca26"
            ],
            [
             1,
             "#f0f921"
            ]
           ]
          },
          "colorway": [
           "#636efa",
           "#EF553B",
           "#00cc96",
           "#ab63fa",
           "#FFA15A",
           "#19d3f3",
           "#FF6692",
           "#B6E880",
           "#FF97FF",
           "#FECB52"
          ],
          "font": {
           "color": "#2a3f5f"
          },
          "geo": {
           "bgcolor": "white",
           "lakecolor": "white",
           "landcolor": "#E5ECF6",
           "showlakes": true,
           "showland": true,
           "subunitcolor": "white"
          },
          "hoverlabel": {
           "align": "left"
          },
          "hovermode": "closest",
          "mapbox": {
           "style": "light"
          },
          "paper_bgcolor": "white",
          "plot_bgcolor": "#E5ECF6",
          "polar": {
           "angularaxis": {
            "gridcolor": "white",
            "linecolor": "white",
            "ticks": ""
           },
           "bgcolor": "#E5ECF6",
           "radialaxis": {
            "gridcolor": "white",
            "linecolor": "white",
            "ticks": ""
           }
          },
          "scene": {
           "xaxis": {
            "backgroundcolor": "#E5ECF6",
            "gridcolor": "white",
            "gridwidth": 2,
            "linecolor": "white",
            "showbackground": true,
            "ticks": "",
            "zerolinecolor": "white"
           },
           "yaxis": {
            "backgroundcolor": "#E5ECF6",
            "gridcolor": "white",
            "gridwidth": 2,
            "linecolor": "white",
            "showbackground": true,
            "ticks": "",
            "zerolinecolor": "white"
           },
           "zaxis": {
            "backgroundcolor": "#E5ECF6",
            "gridcolor": "white",
            "gridwidth": 2,
            "linecolor": "white",
            "showbackground": true,
            "ticks": "",
            "zerolinecolor": "white"
           }
          },
          "shapedefaults": {
           "line": {
            "color": "#2a3f5f"
           }
          },
          "ternary": {
           "aaxis": {
            "gridcolor": "white",
            "linecolor": "white",
            "ticks": ""
           },
           "baxis": {
            "gridcolor": "white",
            "linecolor": "white",
            "ticks": ""
           },
           "bgcolor": "#E5ECF6",
           "caxis": {
            "gridcolor": "white",
            "linecolor": "white",
            "ticks": ""
           }
          },
          "title": {
           "x": 0.05
          },
          "xaxis": {
           "automargin": true,
           "gridcolor": "white",
           "linecolor": "white",
           "ticks": "",
           "title": {
            "standoff": 15
           },
           "zerolinecolor": "white",
           "zerolinewidth": 2
          },
          "yaxis": {
           "automargin": true,
           "gridcolor": "white",
           "linecolor": "white",
           "ticks": "",
           "title": {
            "standoff": 15
           },
           "zerolinecolor": "white",
           "zerolinewidth": 2
          }
         }
        },
        "title": {
         "text": "Age Distributions on Kaggle in 2021",
         "x": 0.5,
         "y": 0.95
        },
        "xaxis": {
         "anchor": "y",
         "domain": [
          0,
          1
         ],
         "title": {
          "text": "% of respondents"
         }
        },
        "yaxis": {
         "anchor": "x",
         "domain": [
          0,
          1
         ],
         "title": {
          "text": ""
         }
        }
       }
      },
      "text/html": [
       "<div>                            <div id=\"394b797d-846c-45ac-8cb1-766e112eee88\" class=\"plotly-graph-div\" style=\"height:525px; width:100%;\"></div>            <script type=\"text/javascript\">                require([\"plotly\"], function(Plotly) {                    window.PLOTLYENV=window.PLOTLYENV || {};                                    if (document.getElementById(\"394b797d-846c-45ac-8cb1-766e112eee88\")) {                    Plotly.newPlot(                        \"394b797d-846c-45ac-8cb1-766e112eee88\",                        [{\"alignmentgroup\": \"True\", \"hovertemplate\": \"variable=Q1<br>% of respondents=%{x}<br>=%{y}<br>text=%{text}<extra></extra>\", \"legendgroup\": \"Q1\", \"marker\": {\"color\": \"#636efa\"}, \"name\": \"Q1\", \"offsetgroup\": \"Q1\", \"orientation\": \"h\", \"showlegend\": true, \"text\": [18.9, 18.1, 19.0, 13.2, 9.6, 7.3, 5.3, 3.7, 2.3, 2.1, 0.5, 0.0], \"textposition\": \"auto\", \"type\": \"bar\", \"x\": [18.9, 18.1, 19.0, 13.2, 9.6, 7.3, 5.3, 3.7, 2.3, 2.1, 0.5, 0.0], \"xaxis\": \"x\", \"y\": [\"18-21\", \"22-24\", \"25-29\", \"30-34\", \"35-39\", \"40-44\", \"45-49\", \"50-54\", \"55-59\", \"60-69\", \"70+\", \"What is your age (# years)?\"], \"yaxis\": \"y\"}],                        {\"barmode\": \"relative\", \"legend\": {\"title\": {\"text\": \"variable\"}, \"tracegroupgap\": 0}, \"margin\": {\"t\": 60}, \"showlegend\": false, \"template\": {\"data\": {\"bar\": [{\"error_x\": {\"color\": \"#2a3f5f\"}, \"error_y\": {\"color\": \"#2a3f5f\"}, \"marker\": {\"line\": {\"color\": \"#E5ECF6\", \"width\": 0.5}}, \"type\": \"bar\"}], \"barpolar\": [{\"marker\": {\"line\": {\"color\": \"#E5ECF6\", \"width\": 0.5}}, \"type\": \"barpolar\"}], \"carpet\": [{\"aaxis\": {\"endlinecolor\": \"#2a3f5f\", \"gridcolor\": \"white\", \"linecolor\": \"white\", \"minorgridcolor\": \"white\", \"startlinecolor\": \"#2a3f5f\"}, \"baxis\": {\"endlinecolor\": \"#2a3f5f\", \"gridcolor\": \"white\", \"linecolor\": \"white\", \"minorgridcolor\": \"white\", \"startlinecolor\": \"#2a3f5f\"}, \"type\": \"carpet\"}], \"choropleth\": [{\"colorbar\": {\"outlinewidth\": 0, \"ticks\": \"\"}, \"type\": \"choropleth\"}], \"contour\": [{\"colorbar\": {\"outlinewidth\": 0, \"ticks\": \"\"}, \"colorscale\": [[0.0, \"#0d0887\"], [0.1111111111111111, \"#46039f\"], [0.2222222222222222, \"#7201a8\"], [0.3333333333333333, \"#9c179e\"], [0.4444444444444444, \"#bd3786\"], [0.5555555555555556, \"#d8576b\"], [0.6666666666666666, \"#ed7953\"], [0.7777777777777778, \"#fb9f3a\"], [0.8888888888888888, \"#fdca26\"], [1.0, \"#f0f921\"]], \"type\": \"contour\"}], \"contourcarpet\": [{\"colorbar\": {\"outlinewidth\": 0, \"ticks\": \"\"}, \"type\": \"contourcarpet\"}], \"heatmap\": [{\"colorbar\": {\"outlinewidth\": 0, \"ticks\": \"\"}, \"colorscale\": [[0.0, \"#0d0887\"], [0.1111111111111111, \"#46039f\"], [0.2222222222222222, \"#7201a8\"], [0.3333333333333333, \"#9c179e\"], [0.4444444444444444, \"#bd3786\"], [0.5555555555555556, \"#d8576b\"], [0.6666666666666666, \"#ed7953\"], [0.7777777777777778, \"#fb9f3a\"], [0.8888888888888888, \"#fdca26\"], [1.0, \"#f0f921\"]], \"type\": \"heatmap\"}], \"heatmapgl\": [{\"colorbar\": {\"outlinewidth\": 0, \"ticks\": \"\"}, \"colorscale\": [[0.0, \"#0d0887\"], [0.1111111111111111, \"#46039f\"], [0.2222222222222222, \"#7201a8\"], [0.3333333333333333, \"#9c179e\"], [0.4444444444444444, \"#bd3786\"], [0.5555555555555556, \"#d8576b\"], [0.6666666666666666, \"#ed7953\"], [0.7777777777777778, \"#fb9f3a\"], [0.8888888888888888, \"#fdca26\"], [1.0, \"#f0f921\"]], \"type\": \"heatmapgl\"}], \"histogram\": [{\"marker\": {\"colorbar\": {\"outlinewidth\": 0, \"ticks\": \"\"}}, \"type\": \"histogram\"}], \"histogram2d\": [{\"colorbar\": {\"outlinewidth\": 0, \"ticks\": \"\"}, \"colorscale\": [[0.0, \"#0d0887\"], [0.1111111111111111, \"#46039f\"], [0.2222222222222222, \"#7201a8\"], [0.3333333333333333, \"#9c179e\"], [0.4444444444444444, \"#bd3786\"], [0.5555555555555556, \"#d8576b\"], [0.6666666666666666, \"#ed7953\"], [0.7777777777777778, \"#fb9f3a\"], [0.8888888888888888, \"#fdca26\"], [1.0, \"#f0f921\"]], \"type\": \"histogram2d\"}], \"histogram2dcontour\": [{\"colorbar\": {\"outlinewidth\": 0, \"ticks\": \"\"}, \"colorscale\": [[0.0, \"#0d0887\"], [0.1111111111111111, \"#46039f\"], [0.2222222222222222, \"#7201a8\"], [0.3333333333333333, \"#9c179e\"], [0.4444444444444444, \"#bd3786\"], [0.5555555555555556, \"#d8576b\"], [0.6666666666666666, \"#ed7953\"], [0.7777777777777778, \"#fb9f3a\"], [0.8888888888888888, \"#fdca26\"], [1.0, \"#f0f921\"]], \"type\": \"histogram2dcontour\"}], \"mesh3d\": [{\"colorbar\": {\"outlinewidth\": 0, \"ticks\": \"\"}, \"type\": \"mesh3d\"}], \"parcoords\": [{\"line\": {\"colorbar\": {\"outlinewidth\": 0, \"ticks\": \"\"}}, \"type\": \"parcoords\"}], \"pie\": [{\"automargin\": true, \"type\": \"pie\"}], \"scatter\": [{\"marker\": {\"colorbar\": {\"outlinewidth\": 0, \"ticks\": \"\"}}, \"type\": \"scatter\"}], \"scatter3d\": [{\"line\": {\"colorbar\": {\"outlinewidth\": 0, \"ticks\": \"\"}}, \"marker\": {\"colorbar\": {\"outlinewidth\": 0, \"ticks\": \"\"}}, \"type\": \"scatter3d\"}], \"scattercarpet\": [{\"marker\": {\"colorbar\": {\"outlinewidth\": 0, \"ticks\": \"\"}}, \"type\": \"scattercarpet\"}], \"scattergeo\": [{\"marker\": {\"colorbar\": {\"outlinewidth\": 0, \"ticks\": \"\"}}, \"type\": \"scattergeo\"}], \"scattergl\": [{\"marker\": {\"colorbar\": {\"outlinewidth\": 0, \"ticks\": \"\"}}, \"type\": \"scattergl\"}], \"scattermapbox\": [{\"marker\": {\"colorbar\": {\"outlinewidth\": 0, \"ticks\": \"\"}}, \"type\": \"scattermapbox\"}], \"scatterpolar\": [{\"marker\": {\"colorbar\": {\"outlinewidth\": 0, \"ticks\": \"\"}}, \"type\": \"scatterpolar\"}], \"scatterpolargl\": [{\"marker\": {\"colorbar\": {\"outlinewidth\": 0, \"ticks\": \"\"}}, \"type\": \"scatterpolargl\"}], \"scatterternary\": [{\"marker\": {\"colorbar\": {\"outlinewidth\": 0, \"ticks\": \"\"}}, \"type\": \"scatterternary\"}], \"surface\": [{\"colorbar\": {\"outlinewidth\": 0, \"ticks\": \"\"}, \"colorscale\": [[0.0, \"#0d0887\"], [0.1111111111111111, \"#46039f\"], [0.2222222222222222, \"#7201a8\"], [0.3333333333333333, \"#9c179e\"], [0.4444444444444444, \"#bd3786\"], [0.5555555555555556, \"#d8576b\"], [0.6666666666666666, \"#ed7953\"], [0.7777777777777778, \"#fb9f3a\"], [0.8888888888888888, \"#fdca26\"], [1.0, \"#f0f921\"]], \"type\": \"surface\"}], \"table\": [{\"cells\": {\"fill\": {\"color\": \"#EBF0F8\"}, \"line\": {\"color\": \"white\"}}, \"header\": {\"fill\": {\"color\": \"#C8D4E3\"}, \"line\": {\"color\": \"white\"}}, \"type\": \"table\"}]}, \"layout\": {\"annotationdefaults\": {\"arrowcolor\": \"#2a3f5f\", \"arrowhead\": 0, \"arrowwidth\": 1}, \"autotypenumbers\": \"strict\", \"coloraxis\": {\"colorbar\": {\"outlinewidth\": 0, \"ticks\": \"\"}}, \"colorscale\": {\"diverging\": [[0, \"#8e0152\"], [0.1, \"#c51b7d\"], [0.2, \"#de77ae\"], [0.3, \"#f1b6da\"], [0.4, \"#fde0ef\"], [0.5, \"#f7f7f7\"], [0.6, \"#e6f5d0\"], [0.7, \"#b8e186\"], [0.8, \"#7fbc41\"], [0.9, \"#4d9221\"], [1, \"#276419\"]], \"sequential\": [[0.0, \"#0d0887\"], [0.1111111111111111, \"#46039f\"], [0.2222222222222222, \"#7201a8\"], [0.3333333333333333, \"#9c179e\"], [0.4444444444444444, \"#bd3786\"], [0.5555555555555556, \"#d8576b\"], [0.6666666666666666, \"#ed7953\"], [0.7777777777777778, \"#fb9f3a\"], [0.8888888888888888, \"#fdca26\"], [1.0, \"#f0f921\"]], \"sequentialminus\": [[0.0, \"#0d0887\"], [0.1111111111111111, \"#46039f\"], [0.2222222222222222, \"#7201a8\"], [0.3333333333333333, \"#9c179e\"], [0.4444444444444444, \"#bd3786\"], [0.5555555555555556, \"#d8576b\"], [0.6666666666666666, \"#ed7953\"], [0.7777777777777778, \"#fb9f3a\"], [0.8888888888888888, \"#fdca26\"], [1.0, \"#f0f921\"]]}, \"colorway\": [\"#636efa\", \"#EF553B\", \"#00cc96\", \"#ab63fa\", \"#FFA15A\", \"#19d3f3\", \"#FF6692\", \"#B6E880\", \"#FF97FF\", \"#FECB52\"], \"font\": {\"color\": \"#2a3f5f\"}, \"geo\": {\"bgcolor\": \"white\", \"lakecolor\": \"white\", \"landcolor\": \"#E5ECF6\", \"showlakes\": true, \"showland\": true, \"subunitcolor\": \"white\"}, \"hoverlabel\": {\"align\": \"left\"}, \"hovermode\": \"closest\", \"mapbox\": {\"style\": \"light\"}, \"paper_bgcolor\": \"white\", \"plot_bgcolor\": \"#E5ECF6\", \"polar\": {\"angularaxis\": {\"gridcolor\": \"white\", \"linecolor\": \"white\", \"ticks\": \"\"}, \"bgcolor\": \"#E5ECF6\", \"radialaxis\": {\"gridcolor\": \"white\", \"linecolor\": \"white\", \"ticks\": \"\"}}, \"scene\": {\"xaxis\": {\"backgroundcolor\": \"#E5ECF6\", \"gridcolor\": \"white\", \"gridwidth\": 2, \"linecolor\": \"white\", \"showbackground\": true, \"ticks\": \"\", \"zerolinecolor\": \"white\"}, \"yaxis\": {\"backgroundcolor\": \"#E5ECF6\", \"gridcolor\": \"white\", \"gridwidth\": 2, \"linecolor\": \"white\", \"showbackground\": true, \"ticks\": \"\", \"zerolinecolor\": \"white\"}, \"zaxis\": {\"backgroundcolor\": \"#E5ECF6\", \"gridcolor\": \"white\", \"gridwidth\": 2, \"linecolor\": \"white\", \"showbackground\": true, \"ticks\": \"\", \"zerolinecolor\": \"white\"}}, \"shapedefaults\": {\"line\": {\"color\": \"#2a3f5f\"}}, \"ternary\": {\"aaxis\": {\"gridcolor\": \"white\", \"linecolor\": \"white\", \"ticks\": \"\"}, \"baxis\": {\"gridcolor\": \"white\", \"linecolor\": \"white\", \"ticks\": \"\"}, \"bgcolor\": \"#E5ECF6\", \"caxis\": {\"gridcolor\": \"white\", \"linecolor\": \"white\", \"ticks\": \"\"}}, \"title\": {\"x\": 0.05}, \"xaxis\": {\"automargin\": true, \"gridcolor\": \"white\", \"linecolor\": \"white\", \"ticks\": \"\", \"title\": {\"standoff\": 15}, \"zerolinecolor\": \"white\", \"zerolinewidth\": 2}, \"yaxis\": {\"automargin\": true, \"gridcolor\": \"white\", \"linecolor\": \"white\", \"ticks\": \"\", \"title\": {\"standoff\": 15}, \"zerolinecolor\": \"white\", \"zerolinewidth\": 2}}}, \"title\": {\"text\": \"Age Distributions on Kaggle in 2021\", \"x\": 0.5, \"y\": 0.95}, \"xaxis\": {\"anchor\": \"y\", \"domain\": [0.0, 1.0], \"title\": {\"text\": \"% of respondents\"}}, \"yaxis\": {\"anchor\": \"x\", \"domain\": [0.0, 1.0], \"title\": {\"text\": \"\"}}},                        {\"responsive\": true}                    ).then(function(){\n",
       "                            \n",
       "var gd = document.getElementById('394b797d-846c-45ac-8cb1-766e112eee88');\n",
       "var x = new MutationObserver(function (mutations, observer) {{\n",
       "        var display = window.getComputedStyle(gd).display;\n",
       "        if (!display || display === 'none') {{\n",
       "            console.log([gd, 'removed!']);\n",
       "            Plotly.purge(gd);\n",
       "            observer.disconnect();\n",
       "        }}\n",
       "}});\n",
       "\n",
       "// Listen for the removal of the full notebook cells\n",
       "var notebookContainer = gd.closest('#notebook-container');\n",
       "if (notebookContainer) {{\n",
       "    x.observe(notebookContainer, {childList: true});\n",
       "}}\n",
       "\n",
       "// Listen for the clearing of the current output cell\n",
       "var outputEl = gd.closest('.output');\n",
       "if (outputEl) {{\n",
       "    x.observe(outputEl, {childList: true});\n",
       "}}\n",
       "\n",
       "                        })                };                });            </script>        </div>"
      ]
     },
     "metadata": {},
     "output_type": "display_data"
    }
   ],
   "source": [
    "question_name = 'Q1'\n",
    "percentages = count_then_return_percent(responses_df_2021,question_name).sort_index()\n",
    "title_for_chart = 'Age Distributions on Kaggle'\n",
    "title_for_y_axis = '% of respondents'\n",
    "orientation_for_chart = 'h'\n",
    "  \n",
    "plotly_bar_chart(response_counts=percentages,\n",
    "                 title=title_for_chart,\n",
    "                 y_axis_title=title_for_y_axis,\n",
    "                 orientation=orientation_for_chart) "
   ]
  },
  {
   "cell_type": "code",
   "execution_count": 14,
   "metadata": {},
   "outputs": [
    {
     "data": {
      "text/plain": [
       "18-21                          18.9\n",
       "22-24                          18.1\n",
       "25-29                          19.0\n",
       "30-34                          13.2\n",
       "35-39                           9.6\n",
       "40-44                           7.3\n",
       "45-49                           5.3\n",
       "50-54                           3.7\n",
       "55-59                           2.3\n",
       "60-69                           2.1\n",
       "70+                             0.5\n",
       "What is your age (# years)?     0.0\n",
       "Name: Q1, dtype: float64"
      ]
     },
     "execution_count": 14,
     "metadata": {},
     "output_type": "execute_result"
    }
   ],
   "source": [
    "percentages"
   ]
  },
  {
   "cell_type": "code",
   "execution_count": 15,
   "metadata": {},
   "outputs": [
    {
     "data": {
      "application/vnd.plotly.v1+json": {
       "config": {
        "plotlyServerURL": "https://plotly.com"
       },
       "data": [
        {
         "alignmentgroup": "True",
         "hovertemplate": "percentage (%)=%{text}<br>age=%{y}<extra></extra>",
         "legendgroup": "",
         "marker": {
          "color": "green"
         },
         "name": "",
         "offsetgroup": "",
         "orientation": "h",
         "showlegend": false,
         "text": [
          12.4,
          18.5,
          29.5,
          16.4,
          13.7,
          6,
          2.7,
          0.6,
          0.3
         ],
         "textposition": "outside",
         "texttemplate": "%{text:.2s}",
         "type": "bar",
         "x": [
          12.4,
          18.5,
          29.5,
          16.4,
          13.7,
          6,
          2.7,
          0.6,
          0.3
         ],
         "xaxis": "x",
         "y": [
          "18-21",
          "22-24",
          "25-29",
          "30-34",
          "35-39",
          "40-44",
          "45-49",
          "50-54",
          "60-69"
         ],
         "yaxis": "y"
        }
       ],
       "layout": {
        "barmode": "relative",
        "legend": {
         "tracegroupgap": 0
        },
        "plot_bgcolor": "white",
        "template": {
         "data": {
          "bar": [
           {
            "error_x": {
             "color": "#2a3f5f"
            },
            "error_y": {
             "color": "#2a3f5f"
            },
            "marker": {
             "line": {
              "color": "#E5ECF6",
              "width": 0.5
             }
            },
            "type": "bar"
           }
          ],
          "barpolar": [
           {
            "marker": {
             "line": {
              "color": "#E5ECF6",
              "width": 0.5
             }
            },
            "type": "barpolar"
           }
          ],
          "carpet": [
           {
            "aaxis": {
             "endlinecolor": "#2a3f5f",
             "gridcolor": "white",
             "linecolor": "white",
             "minorgridcolor": "white",
             "startlinecolor": "#2a3f5f"
            },
            "baxis": {
             "endlinecolor": "#2a3f5f",
             "gridcolor": "white",
             "linecolor": "white",
             "minorgridcolor": "white",
             "startlinecolor": "#2a3f5f"
            },
            "type": "carpet"
           }
          ],
          "choropleth": [
           {
            "colorbar": {
             "outlinewidth": 0,
             "ticks": ""
            },
            "type": "choropleth"
           }
          ],
          "contour": [
           {
            "colorbar": {
             "outlinewidth": 0,
             "ticks": ""
            },
            "colorscale": [
             [
              0,
              "#0d0887"
             ],
             [
              0.1111111111111111,
              "#46039f"
             ],
             [
              0.2222222222222222,
              "#7201a8"
             ],
             [
              0.3333333333333333,
              "#9c179e"
             ],
             [
              0.4444444444444444,
              "#bd3786"
             ],
             [
              0.5555555555555556,
              "#d8576b"
             ],
             [
              0.6666666666666666,
              "#ed7953"
             ],
             [
              0.7777777777777778,
              "#fb9f3a"
             ],
             [
              0.8888888888888888,
              "#fdca26"
             ],
             [
              1,
              "#f0f921"
             ]
            ],
            "type": "contour"
           }
          ],
          "contourcarpet": [
           {
            "colorbar": {
             "outlinewidth": 0,
             "ticks": ""
            },
            "type": "contourcarpet"
           }
          ],
          "heatmap": [
           {
            "colorbar": {
             "outlinewidth": 0,
             "ticks": ""
            },
            "colorscale": [
             [
              0,
              "#0d0887"
             ],
             [
              0.1111111111111111,
              "#46039f"
             ],
             [
              0.2222222222222222,
              "#7201a8"
             ],
             [
              0.3333333333333333,
              "#9c179e"
             ],
             [
              0.4444444444444444,
              "#bd3786"
             ],
             [
              0.5555555555555556,
              "#d8576b"
             ],
             [
              0.6666666666666666,
              "#ed7953"
             ],
             [
              0.7777777777777778,
              "#fb9f3a"
             ],
             [
              0.8888888888888888,
              "#fdca26"
             ],
             [
              1,
              "#f0f921"
             ]
            ],
            "type": "heatmap"
           }
          ],
          "heatmapgl": [
           {
            "colorbar": {
             "outlinewidth": 0,
             "ticks": ""
            },
            "colorscale": [
             [
              0,
              "#0d0887"
             ],
             [
              0.1111111111111111,
              "#46039f"
             ],
             [
              0.2222222222222222,
              "#7201a8"
             ],
             [
              0.3333333333333333,
              "#9c179e"
             ],
             [
              0.4444444444444444,
              "#bd3786"
             ],
             [
              0.5555555555555556,
              "#d8576b"
             ],
             [
              0.6666666666666666,
              "#ed7953"
             ],
             [
              0.7777777777777778,
              "#fb9f3a"
             ],
             [
              0.8888888888888888,
              "#fdca26"
             ],
             [
              1,
              "#f0f921"
             ]
            ],
            "type": "heatmapgl"
           }
          ],
          "histogram": [
           {
            "marker": {
             "colorbar": {
              "outlinewidth": 0,
              "ticks": ""
             }
            },
            "type": "histogram"
           }
          ],
          "histogram2d": [
           {
            "colorbar": {
             "outlinewidth": 0,
             "ticks": ""
            },
            "colorscale": [
             [
              0,
              "#0d0887"
             ],
             [
              0.1111111111111111,
              "#46039f"
             ],
             [
              0.2222222222222222,
              "#7201a8"
             ],
             [
              0.3333333333333333,
              "#9c179e"
             ],
             [
              0.4444444444444444,
              "#bd3786"
             ],
             [
              0.5555555555555556,
              "#d8576b"
             ],
             [
              0.6666666666666666,
              "#ed7953"
             ],
             [
              0.7777777777777778,
              "#fb9f3a"
             ],
             [
              0.8888888888888888,
              "#fdca26"
             ],
             [
              1,
              "#f0f921"
             ]
            ],
            "type": "histogram2d"
           }
          ],
          "histogram2dcontour": [
           {
            "colorbar": {
             "outlinewidth": 0,
             "ticks": ""
            },
            "colorscale": [
             [
              0,
              "#0d0887"
             ],
             [
              0.1111111111111111,
              "#46039f"
             ],
             [
              0.2222222222222222,
              "#7201a8"
             ],
             [
              0.3333333333333333,
              "#9c179e"
             ],
             [
              0.4444444444444444,
              "#bd3786"
             ],
             [
              0.5555555555555556,
              "#d8576b"
             ],
             [
              0.6666666666666666,
              "#ed7953"
             ],
             [
              0.7777777777777778,
              "#fb9f3a"
             ],
             [
              0.8888888888888888,
              "#fdca26"
             ],
             [
              1,
              "#f0f921"
             ]
            ],
            "type": "histogram2dcontour"
           }
          ],
          "mesh3d": [
           {
            "colorbar": {
             "outlinewidth": 0,
             "ticks": ""
            },
            "type": "mesh3d"
           }
          ],
          "parcoords": [
           {
            "line": {
             "colorbar": {
              "outlinewidth": 0,
              "ticks": ""
             }
            },
            "type": "parcoords"
           }
          ],
          "pie": [
           {
            "automargin": true,
            "type": "pie"
           }
          ],
          "scatter": [
           {
            "marker": {
             "colorbar": {
              "outlinewidth": 0,
              "ticks": ""
             }
            },
            "type": "scatter"
           }
          ],
          "scatter3d": [
           {
            "line": {
             "colorbar": {
              "outlinewidth": 0,
              "ticks": ""
             }
            },
            "marker": {
             "colorbar": {
              "outlinewidth": 0,
              "ticks": ""
             }
            },
            "type": "scatter3d"
           }
          ],
          "scattercarpet": [
           {
            "marker": {
             "colorbar": {
              "outlinewidth": 0,
              "ticks": ""
             }
            },
            "type": "scattercarpet"
           }
          ],
          "scattergeo": [
           {
            "marker": {
             "colorbar": {
              "outlinewidth": 0,
              "ticks": ""
             }
            },
            "type": "scattergeo"
           }
          ],
          "scattergl": [
           {
            "marker": {
             "colorbar": {
              "outlinewidth": 0,
              "ticks": ""
             }
            },
            "type": "scattergl"
           }
          ],
          "scattermapbox": [
           {
            "marker": {
             "colorbar": {
              "outlinewidth": 0,
              "ticks": ""
             }
            },
            "type": "scattermapbox"
           }
          ],
          "scatterpolar": [
           {
            "marker": {
             "colorbar": {
              "outlinewidth": 0,
              "ticks": ""
             }
            },
            "type": "scatterpolar"
           }
          ],
          "scatterpolargl": [
           {
            "marker": {
             "colorbar": {
              "outlinewidth": 0,
              "ticks": ""
             }
            },
            "type": "scatterpolargl"
           }
          ],
          "scatterternary": [
           {
            "marker": {
             "colorbar": {
              "outlinewidth": 0,
              "ticks": ""
             }
            },
            "type": "scatterternary"
           }
          ],
          "surface": [
           {
            "colorbar": {
             "outlinewidth": 0,
             "ticks": ""
            },
            "colorscale": [
             [
              0,
              "#0d0887"
             ],
             [
              0.1111111111111111,
              "#46039f"
             ],
             [
              0.2222222222222222,
              "#7201a8"
             ],
             [
              0.3333333333333333,
              "#9c179e"
             ],
             [
              0.4444444444444444,
              "#bd3786"
             ],
             [
              0.5555555555555556,
              "#d8576b"
             ],
             [
              0.6666666666666666,
              "#ed7953"
             ],
             [
              0.7777777777777778,
              "#fb9f3a"
             ],
             [
              0.8888888888888888,
              "#fdca26"
             ],
             [
              1,
              "#f0f921"
             ]
            ],
            "type": "surface"
           }
          ],
          "table": [
           {
            "cells": {
             "fill": {
              "color": "#EBF0F8"
             },
             "line": {
              "color": "white"
             }
            },
            "header": {
             "fill": {
              "color": "#C8D4E3"
             },
             "line": {
              "color": "white"
             }
            },
            "type": "table"
           }
          ]
         },
         "layout": {
          "annotationdefaults": {
           "arrowcolor": "#2a3f5f",
           "arrowhead": 0,
           "arrowwidth": 1
          },
          "autotypenumbers": "strict",
          "coloraxis": {
           "colorbar": {
            "outlinewidth": 0,
            "ticks": ""
           }
          },
          "colorscale": {
           "diverging": [
            [
             0,
             "#8e0152"
            ],
            [
             0.1,
             "#c51b7d"
            ],
            [
             0.2,
             "#de77ae"
            ],
            [
             0.3,
             "#f1b6da"
            ],
            [
             0.4,
             "#fde0ef"
            ],
            [
             0.5,
             "#f7f7f7"
            ],
            [
             0.6,
             "#e6f5d0"
            ],
            [
             0.7,
             "#b8e186"
            ],
            [
             0.8,
             "#7fbc41"
            ],
            [
             0.9,
             "#4d9221"
            ],
            [
             1,
             "#276419"
            ]
           ],
           "sequential": [
            [
             0,
             "#0d0887"
            ],
            [
             0.1111111111111111,
             "#46039f"
            ],
            [
             0.2222222222222222,
             "#7201a8"
            ],
            [
             0.3333333333333333,
             "#9c179e"
            ],
            [
             0.4444444444444444,
             "#bd3786"
            ],
            [
             0.5555555555555556,
             "#d8576b"
            ],
            [
             0.6666666666666666,
             "#ed7953"
            ],
            [
             0.7777777777777778,
             "#fb9f3a"
            ],
            [
             0.8888888888888888,
             "#fdca26"
            ],
            [
             1,
             "#f0f921"
            ]
           ],
           "sequentialminus": [
            [
             0,
             "#0d0887"
            ],
            [
             0.1111111111111111,
             "#46039f"
            ],
            [
             0.2222222222222222,
             "#7201a8"
            ],
            [
             0.3333333333333333,
             "#9c179e"
            ],
            [
             0.4444444444444444,
             "#bd3786"
            ],
            [
             0.5555555555555556,
             "#d8576b"
            ],
            [
             0.6666666666666666,
             "#ed7953"
            ],
            [
             0.7777777777777778,
             "#fb9f3a"
            ],
            [
             0.8888888888888888,
             "#fdca26"
            ],
            [
             1,
             "#f0f921"
            ]
           ]
          },
          "colorway": [
           "#636efa",
           "#EF553B",
           "#00cc96",
           "#ab63fa",
           "#FFA15A",
           "#19d3f3",
           "#FF6692",
           "#B6E880",
           "#FF97FF",
           "#FECB52"
          ],
          "font": {
           "color": "#2a3f5f"
          },
          "geo": {
           "bgcolor": "white",
           "lakecolor": "white",
           "landcolor": "#E5ECF6",
           "showlakes": true,
           "showland": true,
           "subunitcolor": "white"
          },
          "hoverlabel": {
           "align": "left"
          },
          "hovermode": "closest",
          "mapbox": {
           "style": "light"
          },
          "paper_bgcolor": "white",
          "plot_bgcolor": "#E5ECF6",
          "polar": {
           "angularaxis": {
            "gridcolor": "white",
            "linecolor": "white",
            "ticks": ""
           },
           "bgcolor": "#E5ECF6",
           "radialaxis": {
            "gridcolor": "white",
            "linecolor": "white",
            "ticks": ""
           }
          },
          "scene": {
           "xaxis": {
            "backgroundcolor": "#E5ECF6",
            "gridcolor": "white",
            "gridwidth": 2,
            "linecolor": "white",
            "showbackground": true,
            "ticks": "",
            "zerolinecolor": "white"
           },
           "yaxis": {
            "backgroundcolor": "#E5ECF6",
            "gridcolor": "white",
            "gridwidth": 2,
            "linecolor": "white",
            "showbackground": true,
            "ticks": "",
            "zerolinecolor": "white"
           },
           "zaxis": {
            "backgroundcolor": "#E5ECF6",
            "gridcolor": "white",
            "gridwidth": 2,
            "linecolor": "white",
            "showbackground": true,
            "ticks": "",
            "zerolinecolor": "white"
           }
          },
          "shapedefaults": {
           "line": {
            "color": "#2a3f5f"
           }
          },
          "ternary": {
           "aaxis": {
            "gridcolor": "white",
            "linecolor": "white",
            "ticks": ""
           },
           "baxis": {
            "gridcolor": "white",
            "linecolor": "white",
            "ticks": ""
           },
           "bgcolor": "#E5ECF6",
           "caxis": {
            "gridcolor": "white",
            "linecolor": "white",
            "ticks": ""
           }
          },
          "title": {
           "x": 0.05
          },
          "xaxis": {
           "automargin": true,
           "gridcolor": "white",
           "linecolor": "white",
           "ticks": "",
           "title": {
            "standoff": 15
           },
           "zerolinecolor": "white",
           "zerolinewidth": 2
          },
          "yaxis": {
           "automargin": true,
           "gridcolor": "white",
           "linecolor": "white",
           "ticks": "",
           "title": {
            "standoff": 15
           },
           "zerolinecolor": "white",
           "zerolinewidth": 2
          }
         }
        },
        "title": {
         "text": "Age of Nigerian Kagglers"
        },
        "uniformtext": {
         "minsize": 8,
         "mode": "hide"
        },
        "xaxis": {
         "anchor": "y",
         "domain": [
          0,
          1
         ],
         "title": {
          "text": "percentage (%)"
         }
        },
        "yaxis": {
         "anchor": "x",
         "domain": [
          0,
          1
         ],
         "title": {
          "text": "age"
         }
        }
       }
      },
      "text/html": [
       "<div>                            <div id=\"5db74900-3c75-4024-a266-196d6514eaad\" class=\"plotly-graph-div\" style=\"height:525px; width:100%;\"></div>            <script type=\"text/javascript\">                require([\"plotly\"], function(Plotly) {                    window.PLOTLYENV=window.PLOTLYENV || {};                                    if (document.getElementById(\"5db74900-3c75-4024-a266-196d6514eaad\")) {                    Plotly.newPlot(                        \"5db74900-3c75-4024-a266-196d6514eaad\",                        [{\"alignmentgroup\": \"True\", \"hovertemplate\": \"percentage (%)=%{text}<br>age=%{y}<extra></extra>\", \"legendgroup\": \"\", \"marker\": {\"color\": \"green\"}, \"name\": \"\", \"offsetgroup\": \"\", \"orientation\": \"h\", \"showlegend\": false, \"text\": [12.4, 18.5, 29.5, 16.4, 13.7, 6.0, 2.7, 0.6, 0.3], \"textposition\": \"outside\", \"texttemplate\": \"%{text:.2s}\", \"type\": \"bar\", \"x\": [12.4, 18.5, 29.5, 16.4, 13.7, 6.0, 2.7, 0.6, 0.3], \"xaxis\": \"x\", \"y\": [\"18-21\", \"22-24\", \"25-29\", \"30-34\", \"35-39\", \"40-44\", \"45-49\", \"50-54\", \"60-69\"], \"yaxis\": \"y\"}],                        {\"barmode\": \"relative\", \"legend\": {\"tracegroupgap\": 0}, \"plot_bgcolor\": \"white\", \"template\": {\"data\": {\"bar\": [{\"error_x\": {\"color\": \"#2a3f5f\"}, \"error_y\": {\"color\": \"#2a3f5f\"}, \"marker\": {\"line\": {\"color\": \"#E5ECF6\", \"width\": 0.5}}, \"type\": \"bar\"}], \"barpolar\": [{\"marker\": {\"line\": {\"color\": \"#E5ECF6\", \"width\": 0.5}}, \"type\": \"barpolar\"}], \"carpet\": [{\"aaxis\": {\"endlinecolor\": \"#2a3f5f\", \"gridcolor\": \"white\", \"linecolor\": \"white\", \"minorgridcolor\": \"white\", \"startlinecolor\": \"#2a3f5f\"}, \"baxis\": {\"endlinecolor\": \"#2a3f5f\", \"gridcolor\": \"white\", \"linecolor\": \"white\", \"minorgridcolor\": \"white\", \"startlinecolor\": \"#2a3f5f\"}, \"type\": \"carpet\"}], \"choropleth\": [{\"colorbar\": {\"outlinewidth\": 0, \"ticks\": \"\"}, \"type\": \"choropleth\"}], \"contour\": [{\"colorbar\": {\"outlinewidth\": 0, \"ticks\": \"\"}, \"colorscale\": [[0.0, \"#0d0887\"], [0.1111111111111111, \"#46039f\"], [0.2222222222222222, \"#7201a8\"], [0.3333333333333333, \"#9c179e\"], [0.4444444444444444, \"#bd3786\"], [0.5555555555555556, \"#d8576b\"], [0.6666666666666666, \"#ed7953\"], [0.7777777777777778, \"#fb9f3a\"], [0.8888888888888888, \"#fdca26\"], [1.0, \"#f0f921\"]], \"type\": \"contour\"}], \"contourcarpet\": [{\"colorbar\": {\"outlinewidth\": 0, \"ticks\": \"\"}, \"type\": \"contourcarpet\"}], \"heatmap\": [{\"colorbar\": {\"outlinewidth\": 0, \"ticks\": \"\"}, \"colorscale\": [[0.0, \"#0d0887\"], [0.1111111111111111, \"#46039f\"], [0.2222222222222222, \"#7201a8\"], [0.3333333333333333, \"#9c179e\"], [0.4444444444444444, \"#bd3786\"], [0.5555555555555556, \"#d8576b\"], [0.6666666666666666, \"#ed7953\"], [0.7777777777777778, \"#fb9f3a\"], [0.8888888888888888, \"#fdca26\"], [1.0, \"#f0f921\"]], \"type\": \"heatmap\"}], \"heatmapgl\": [{\"colorbar\": {\"outlinewidth\": 0, \"ticks\": \"\"}, \"colorscale\": [[0.0, \"#0d0887\"], [0.1111111111111111, \"#46039f\"], [0.2222222222222222, \"#7201a8\"], [0.3333333333333333, \"#9c179e\"], [0.4444444444444444, \"#bd3786\"], [0.5555555555555556, \"#d8576b\"], [0.6666666666666666, \"#ed7953\"], [0.7777777777777778, \"#fb9f3a\"], [0.8888888888888888, \"#fdca26\"], [1.0, \"#f0f921\"]], \"type\": \"heatmapgl\"}], \"histogram\": [{\"marker\": {\"colorbar\": {\"outlinewidth\": 0, \"ticks\": \"\"}}, \"type\": \"histogram\"}], \"histogram2d\": [{\"colorbar\": {\"outlinewidth\": 0, \"ticks\": \"\"}, \"colorscale\": [[0.0, \"#0d0887\"], [0.1111111111111111, \"#46039f\"], [0.2222222222222222, \"#7201a8\"], [0.3333333333333333, \"#9c179e\"], [0.4444444444444444, \"#bd3786\"], [0.5555555555555556, \"#d8576b\"], [0.6666666666666666, \"#ed7953\"], [0.7777777777777778, \"#fb9f3a\"], [0.8888888888888888, \"#fdca26\"], [1.0, \"#f0f921\"]], \"type\": \"histogram2d\"}], \"histogram2dcontour\": [{\"colorbar\": {\"outlinewidth\": 0, \"ticks\": \"\"}, \"colorscale\": [[0.0, \"#0d0887\"], [0.1111111111111111, \"#46039f\"], [0.2222222222222222, \"#7201a8\"], [0.3333333333333333, \"#9c179e\"], [0.4444444444444444, \"#bd3786\"], [0.5555555555555556, \"#d8576b\"], [0.6666666666666666, \"#ed7953\"], [0.7777777777777778, \"#fb9f3a\"], [0.8888888888888888, \"#fdca26\"], [1.0, \"#f0f921\"]], \"type\": \"histogram2dcontour\"}], \"mesh3d\": [{\"colorbar\": {\"outlinewidth\": 0, \"ticks\": \"\"}, \"type\": \"mesh3d\"}], \"parcoords\": [{\"line\": {\"colorbar\": {\"outlinewidth\": 0, \"ticks\": \"\"}}, \"type\": \"parcoords\"}], \"pie\": [{\"automargin\": true, \"type\": \"pie\"}], \"scatter\": [{\"marker\": {\"colorbar\": {\"outlinewidth\": 0, \"ticks\": \"\"}}, \"type\": \"scatter\"}], \"scatter3d\": [{\"line\": {\"colorbar\": {\"outlinewidth\": 0, \"ticks\": \"\"}}, \"marker\": {\"colorbar\": {\"outlinewidth\": 0, \"ticks\": \"\"}}, \"type\": \"scatter3d\"}], \"scattercarpet\": [{\"marker\": {\"colorbar\": {\"outlinewidth\": 0, \"ticks\": \"\"}}, \"type\": \"scattercarpet\"}], \"scattergeo\": [{\"marker\": {\"colorbar\": {\"outlinewidth\": 0, \"ticks\": \"\"}}, \"type\": \"scattergeo\"}], \"scattergl\": [{\"marker\": {\"colorbar\": {\"outlinewidth\": 0, \"ticks\": \"\"}}, \"type\": \"scattergl\"}], \"scattermapbox\": [{\"marker\": {\"colorbar\": {\"outlinewidth\": 0, \"ticks\": \"\"}}, \"type\": \"scattermapbox\"}], \"scatterpolar\": [{\"marker\": {\"colorbar\": {\"outlinewidth\": 0, \"ticks\": \"\"}}, \"type\": \"scatterpolar\"}], \"scatterpolargl\": [{\"marker\": {\"colorbar\": {\"outlinewidth\": 0, \"ticks\": \"\"}}, \"type\": \"scatterpolargl\"}], \"scatterternary\": [{\"marker\": {\"colorbar\": {\"outlinewidth\": 0, \"ticks\": \"\"}}, \"type\": \"scatterternary\"}], \"surface\": [{\"colorbar\": {\"outlinewidth\": 0, \"ticks\": \"\"}, \"colorscale\": [[0.0, \"#0d0887\"], [0.1111111111111111, \"#46039f\"], [0.2222222222222222, \"#7201a8\"], [0.3333333333333333, \"#9c179e\"], [0.4444444444444444, \"#bd3786\"], [0.5555555555555556, \"#d8576b\"], [0.6666666666666666, \"#ed7953\"], [0.7777777777777778, \"#fb9f3a\"], [0.8888888888888888, \"#fdca26\"], [1.0, \"#f0f921\"]], \"type\": \"surface\"}], \"table\": [{\"cells\": {\"fill\": {\"color\": \"#EBF0F8\"}, \"line\": {\"color\": \"white\"}}, \"header\": {\"fill\": {\"color\": \"#C8D4E3\"}, \"line\": {\"color\": \"white\"}}, \"type\": \"table\"}]}, \"layout\": {\"annotationdefaults\": {\"arrowcolor\": \"#2a3f5f\", \"arrowhead\": 0, \"arrowwidth\": 1}, \"autotypenumbers\": \"strict\", \"coloraxis\": {\"colorbar\": {\"outlinewidth\": 0, \"ticks\": \"\"}}, \"colorscale\": {\"diverging\": [[0, \"#8e0152\"], [0.1, \"#c51b7d\"], [0.2, \"#de77ae\"], [0.3, \"#f1b6da\"], [0.4, \"#fde0ef\"], [0.5, \"#f7f7f7\"], [0.6, \"#e6f5d0\"], [0.7, \"#b8e186\"], [0.8, \"#7fbc41\"], [0.9, \"#4d9221\"], [1, \"#276419\"]], \"sequential\": [[0.0, \"#0d0887\"], [0.1111111111111111, \"#46039f\"], [0.2222222222222222, \"#7201a8\"], [0.3333333333333333, \"#9c179e\"], [0.4444444444444444, \"#bd3786\"], [0.5555555555555556, \"#d8576b\"], [0.6666666666666666, \"#ed7953\"], [0.7777777777777778, \"#fb9f3a\"], [0.8888888888888888, \"#fdca26\"], [1.0, \"#f0f921\"]], \"sequentialminus\": [[0.0, \"#0d0887\"], [0.1111111111111111, \"#46039f\"], [0.2222222222222222, \"#7201a8\"], [0.3333333333333333, \"#9c179e\"], [0.4444444444444444, \"#bd3786\"], [0.5555555555555556, \"#d8576b\"], [0.6666666666666666, \"#ed7953\"], [0.7777777777777778, \"#fb9f3a\"], [0.8888888888888888, \"#fdca26\"], [1.0, \"#f0f921\"]]}, \"colorway\": [\"#636efa\", \"#EF553B\", \"#00cc96\", \"#ab63fa\", \"#FFA15A\", \"#19d3f3\", \"#FF6692\", \"#B6E880\", \"#FF97FF\", \"#FECB52\"], \"font\": {\"color\": \"#2a3f5f\"}, \"geo\": {\"bgcolor\": \"white\", \"lakecolor\": \"white\", \"landcolor\": \"#E5ECF6\", \"showlakes\": true, \"showland\": true, \"subunitcolor\": \"white\"}, \"hoverlabel\": {\"align\": \"left\"}, \"hovermode\": \"closest\", \"mapbox\": {\"style\": \"light\"}, \"paper_bgcolor\": \"white\", \"plot_bgcolor\": \"#E5ECF6\", \"polar\": {\"angularaxis\": {\"gridcolor\": \"white\", \"linecolor\": \"white\", \"ticks\": \"\"}, \"bgcolor\": \"#E5ECF6\", \"radialaxis\": {\"gridcolor\": \"white\", \"linecolor\": \"white\", \"ticks\": \"\"}}, \"scene\": {\"xaxis\": {\"backgroundcolor\": \"#E5ECF6\", \"gridcolor\": \"white\", \"gridwidth\": 2, \"linecolor\": \"white\", \"showbackground\": true, \"ticks\": \"\", \"zerolinecolor\": \"white\"}, \"yaxis\": {\"backgroundcolor\": \"#E5ECF6\", \"gridcolor\": \"white\", \"gridwidth\": 2, \"linecolor\": \"white\", \"showbackground\": true, \"ticks\": \"\", \"zerolinecolor\": \"white\"}, \"zaxis\": {\"backgroundcolor\": \"#E5ECF6\", \"gridcolor\": \"white\", \"gridwidth\": 2, \"linecolor\": \"white\", \"showbackground\": true, \"ticks\": \"\", \"zerolinecolor\": \"white\"}}, \"shapedefaults\": {\"line\": {\"color\": \"#2a3f5f\"}}, \"ternary\": {\"aaxis\": {\"gridcolor\": \"white\", \"linecolor\": \"white\", \"ticks\": \"\"}, \"baxis\": {\"gridcolor\": \"white\", \"linecolor\": \"white\", \"ticks\": \"\"}, \"bgcolor\": \"#E5ECF6\", \"caxis\": {\"gridcolor\": \"white\", \"linecolor\": \"white\", \"ticks\": \"\"}}, \"title\": {\"x\": 0.05}, \"xaxis\": {\"automargin\": true, \"gridcolor\": \"white\", \"linecolor\": \"white\", \"ticks\": \"\", \"title\": {\"standoff\": 15}, \"zerolinecolor\": \"white\", \"zerolinewidth\": 2}, \"yaxis\": {\"automargin\": true, \"gridcolor\": \"white\", \"linecolor\": \"white\", \"ticks\": \"\", \"title\": {\"standoff\": 15}, \"zerolinecolor\": \"white\", \"zerolinewidth\": 2}}}, \"title\": {\"text\": \"Age of Nigerian Kagglers\"}, \"uniformtext\": {\"minsize\": 8, \"mode\": \"hide\"}, \"xaxis\": {\"anchor\": \"y\", \"domain\": [0.0, 1.0], \"title\": {\"text\": \"percentage (%)\"}}, \"yaxis\": {\"anchor\": \"x\", \"domain\": [0.0, 1.0], \"title\": {\"text\": \"age\"}}},                        {\"responsive\": true}                    ).then(function(){\n",
       "                            \n",
       "var gd = document.getElementById('5db74900-3c75-4024-a266-196d6514eaad');\n",
       "var x = new MutationObserver(function (mutations, observer) {{\n",
       "        var display = window.getComputedStyle(gd).display;\n",
       "        if (!display || display === 'none') {{\n",
       "            console.log([gd, 'removed!']);\n",
       "            Plotly.purge(gd);\n",
       "            observer.disconnect();\n",
       "        }}\n",
       "}});\n",
       "\n",
       "// Listen for the removal of the full notebook cells\n",
       "var notebookContainer = gd.closest('#notebook-container');\n",
       "if (notebookContainer) {{\n",
       "    x.observe(notebookContainer, {childList: true});\n",
       "}}\n",
       "\n",
       "// Listen for the clearing of the current output cell\n",
       "var outputEl = gd.closest('.output');\n",
       "if (outputEl) {{\n",
       "    x.observe(outputEl, {childList: true});\n",
       "}}\n",
       "\n",
       "                        })                };                });            </script>        </div>"
      ]
     },
     "metadata": {},
     "output_type": "display_data"
    }
   ],
   "source": [
    "age_ng = nigeria[\"Q1\"].value_counts(normalize=True) \n",
    "age_ng = age_ng.mul(100)\n",
    "age_ng = age_ng.round(decimals=1)\n",
    "age_ng = pd.DataFrame(data=age_ng)\n",
    "age_ng.reset_index(inplace=True)\n",
    "age_ng.columns = [\"age\",\"percentage (%)\"] \n",
    "age_ng.sort_values(by=\"age\", inplace=True)\n",
    "\n",
    "\n",
    "fig = px.bar(age_ng, y=\"age\", x=\"percentage (%)\", text='percentage (%)', \n",
    "             title=\"Age of Nigerian Kagglers\", orientation=\"h\")\n",
    "fig.update_traces(texttemplate='%{text:.2s}', textposition='outside', marker_color=\"green\", ) \n",
    "fig.update_layout(uniformtext_minsize=8, uniformtext_mode='hide', plot_bgcolor = \"white\")\n",
    "\n",
    "fig.show()"
   ]
  },
  {
   "cell_type": "code",
   "execution_count": 16,
   "metadata": {},
   "outputs": [],
   "source": [
    "def sort_dictionary_by_percent(dataframe,list_of_columns_for_a_single_question,dictionary_of_counts_for_a_single_question): \n",
    "    ''' \n",
    "    A helper function that can be used to sort a dictionary.   \n",
    "    It is an adaptation of a similar function\n",
    "    from https://www.kaggle.com/sonmou/what-topics-from-where-to-learn-data-science.\n",
    "    '''\n",
    "    dictionary = count_then_return_percent_for_multiple_column_questions(dataframe,\n",
    "                                                                list_of_columns_for_a_single_question,\n",
    "                                                                dictionary_of_counts_for_a_single_question)\n",
    "    dictionary = {v:k    for(k,v) in dictionary.items()}\n",
    "    list_tuples = sorted(dictionary.items(), reverse=False) \n",
    "    dictionary = {v:k for (k,v) in list_tuples}   \n",
    "    return dictionary"
   ]
  },
  {
   "cell_type": "code",
   "execution_count": 17,
   "metadata": {},
   "outputs": [],
   "source": [
    "q7_dictionary_of_counts_2021 = {\n",
    "    'Python' : (responses_df_2021['Q7_Part_1'].count()),\n",
    "    'R': (responses_df_2021['Q7_Part_2'].count()),\n",
    "    'SQL' : (responses_df_2021['Q7_Part_3'].count()),\n",
    "    'C' : (responses_df_2021['Q7_Part_4'].count()),\n",
    "    'C++' : (responses_df_2021['Q7_Part_5'].count()),\n",
    "    'Java' : (responses_df_2021['Q7_Part_6'].count()),\n",
    "    'Javascript' : (responses_df_2021['Q7_Part_7'].count()),\n",
    "    'Julia' : (responses_df_2021['Q7_Part_8'].count()),\n",
    "    'Swift' : (responses_df_2021['Q7_Part_9'].count()),\n",
    "    'Bash' : (responses_df_2021['Q7_Part_10'].count()),\n",
    "    'MATLAB' : (responses_df_2021['Q7_Part_11'].count()),\n",
    "    'None' : (responses_df_2021['Q7_Part_12'].count()),\n",
    "    'Other' : (responses_df_2021['Q7_OTHER'].count())\n",
    "}"
   ]
  },
  {
   "cell_type": "code",
   "execution_count": 18,
   "metadata": {},
   "outputs": [],
   "source": [
    "q7_list_of_columns_2021 = ['Q7_Part_1',\n",
    "                      'Q7_Part_2',\n",
    "                      'Q7_Part_3',\n",
    "                      'Q7_Part_4',\n",
    "                      'Q7_Part_5',\n",
    "                      'Q7_Part_6',\n",
    "                      'Q7_Part_7',\n",
    "                      'Q7_Part_8',\n",
    "                      'Q7_Part_9',\n",
    "                      'Q7_Part_10',\n",
    "                      'Q7_Part_11',\n",
    "                      'Q7_Part_12',\n",
    "                      'Q7_OTHER']"
   ]
  },
  {
   "cell_type": "code",
   "execution_count": 19,
   "metadata": {},
   "outputs": [],
   "source": [
    "def count_then_return_percent_for_multiple_column_questions(dataframe,list_of_columns_for_a_single_question,dictionary_of_counts_for_a_single_question):\n",
    "    '''\n",
    "    A helper function to convert counts to percentages.\n",
    "    '''\n",
    "    df = dataframe\n",
    "    subset = list_of_columns_for_a_single_question\n",
    "    df = df[subset]\n",
    "    df = df.dropna(how='all')\n",
    "    total_count = len(df) \n",
    "    dictionary = dictionary_of_counts_for_a_single_question\n",
    "    for i in dictionary:\n",
    "        dictionary[i] = round(float(dictionary[i]*100/total_count),1)\n",
    "    return dictionary "
   ]
  },
  {
   "cell_type": "code",
   "execution_count": 20,
   "metadata": {},
   "outputs": [
    {
     "data": {
      "application/vnd.plotly.v1+json": {
       "config": {
        "plotlyServerURL": "https://plotly.com"
       },
       "data": [
        {
         "alignmentgroup": "True",
         "hovertemplate": "variable=0<br>% of respondents=%{x}<br>=%{y}<br>text=%{text}<extra></extra>",
         "legendgroup": "0",
         "marker": {
          "color": "#636efa"
         },
         "name": "0",
         "offsetgroup": "0",
         "orientation": "h",
         "showlegend": true,
         "text": [
          1,
          1.2,
          1.3,
          8.9,
          10.3,
          11.8,
          17.4,
          18.9,
          19.1,
          21.4,
          22.2,
          43.1,
          87.6
         ],
         "textposition": "auto",
         "type": "bar",
         "x": [
          1,
          1.2,
          1.3,
          8.9,
          10.3,
          11.8,
          17.4,
          18.9,
          19.1,
          21.4,
          22.2,
          43.1,
          87.6
         ],
         "xaxis": "x",
         "y": [
          "Swift",
          "Julia",
          "None",
          "Bash",
          "Other",
          "MATLAB",
          "Javascript",
          "C",
          "Java",
          "R",
          "C++",
          "SQL",
          "Python"
         ],
         "yaxis": "y"
        }
       ],
       "layout": {
        "barmode": "relative",
        "legend": {
         "title": {
          "text": "variable"
         },
         "tracegroupgap": 0
        },
        "margin": {
         "t": 60
        },
        "showlegend": false,
        "template": {
         "data": {
          "bar": [
           {
            "error_x": {
             "color": "#2a3f5f"
            },
            "error_y": {
             "color": "#2a3f5f"
            },
            "marker": {
             "line": {
              "color": "#E5ECF6",
              "width": 0.5
             }
            },
            "type": "bar"
           }
          ],
          "barpolar": [
           {
            "marker": {
             "line": {
              "color": "#E5ECF6",
              "width": 0.5
             }
            },
            "type": "barpolar"
           }
          ],
          "carpet": [
           {
            "aaxis": {
             "endlinecolor": "#2a3f5f",
             "gridcolor": "white",
             "linecolor": "white",
             "minorgridcolor": "white",
             "startlinecolor": "#2a3f5f"
            },
            "baxis": {
             "endlinecolor": "#2a3f5f",
             "gridcolor": "white",
             "linecolor": "white",
             "minorgridcolor": "white",
             "startlinecolor": "#2a3f5f"
            },
            "type": "carpet"
           }
          ],
          "choropleth": [
           {
            "colorbar": {
             "outlinewidth": 0,
             "ticks": ""
            },
            "type": "choropleth"
           }
          ],
          "contour": [
           {
            "colorbar": {
             "outlinewidth": 0,
             "ticks": ""
            },
            "colorscale": [
             [
              0,
              "#0d0887"
             ],
             [
              0.1111111111111111,
              "#46039f"
             ],
             [
              0.2222222222222222,
              "#7201a8"
             ],
             [
              0.3333333333333333,
              "#9c179e"
             ],
             [
              0.4444444444444444,
              "#bd3786"
             ],
             [
              0.5555555555555556,
              "#d8576b"
             ],
             [
              0.6666666666666666,
              "#ed7953"
             ],
             [
              0.7777777777777778,
              "#fb9f3a"
             ],
             [
              0.8888888888888888,
              "#fdca26"
             ],
             [
              1,
              "#f0f921"
             ]
            ],
            "type": "contour"
           }
          ],
          "contourcarpet": [
           {
            "colorbar": {
             "outlinewidth": 0,
             "ticks": ""
            },
            "type": "contourcarpet"
           }
          ],
          "heatmap": [
           {
            "colorbar": {
             "outlinewidth": 0,
             "ticks": ""
            },
            "colorscale": [
             [
              0,
              "#0d0887"
             ],
             [
              0.1111111111111111,
              "#46039f"
             ],
             [
              0.2222222222222222,
              "#7201a8"
             ],
             [
              0.3333333333333333,
              "#9c179e"
             ],
             [
              0.4444444444444444,
              "#bd3786"
             ],
             [
              0.5555555555555556,
              "#d8576b"
             ],
             [
              0.6666666666666666,
              "#ed7953"
             ],
             [
              0.7777777777777778,
              "#fb9f3a"
             ],
             [
              0.8888888888888888,
              "#fdca26"
             ],
             [
              1,
              "#f0f921"
             ]
            ],
            "type": "heatmap"
           }
          ],
          "heatmapgl": [
           {
            "colorbar": {
             "outlinewidth": 0,
             "ticks": ""
            },
            "colorscale": [
             [
              0,
              "#0d0887"
             ],
             [
              0.1111111111111111,
              "#46039f"
             ],
             [
              0.2222222222222222,
              "#7201a8"
             ],
             [
              0.3333333333333333,
              "#9c179e"
             ],
             [
              0.4444444444444444,
              "#bd3786"
             ],
             [
              0.5555555555555556,
              "#d8576b"
             ],
             [
              0.6666666666666666,
              "#ed7953"
             ],
             [
              0.7777777777777778,
              "#fb9f3a"
             ],
             [
              0.8888888888888888,
              "#fdca26"
             ],
             [
              1,
              "#f0f921"
             ]
            ],
            "type": "heatmapgl"
           }
          ],
          "histogram": [
           {
            "marker": {
             "colorbar": {
              "outlinewidth": 0,
              "ticks": ""
             }
            },
            "type": "histogram"
           }
          ],
          "histogram2d": [
           {
            "colorbar": {
             "outlinewidth": 0,
             "ticks": ""
            },
            "colorscale": [
             [
              0,
              "#0d0887"
             ],
             [
              0.1111111111111111,
              "#46039f"
             ],
             [
              0.2222222222222222,
              "#7201a8"
             ],
             [
              0.3333333333333333,
              "#9c179e"
             ],
             [
              0.4444444444444444,
              "#bd3786"
             ],
             [
              0.5555555555555556,
              "#d8576b"
             ],
             [
              0.6666666666666666,
              "#ed7953"
             ],
             [
              0.7777777777777778,
              "#fb9f3a"
             ],
             [
              0.8888888888888888,
              "#fdca26"
             ],
             [
              1,
              "#f0f921"
             ]
            ],
            "type": "histogram2d"
           }
          ],
          "histogram2dcontour": [
           {
            "colorbar": {
             "outlinewidth": 0,
             "ticks": ""
            },
            "colorscale": [
             [
              0,
              "#0d0887"
             ],
             [
              0.1111111111111111,
              "#46039f"
             ],
             [
              0.2222222222222222,
              "#7201a8"
             ],
             [
              0.3333333333333333,
              "#9c179e"
             ],
             [
              0.4444444444444444,
              "#bd3786"
             ],
             [
              0.5555555555555556,
              "#d8576b"
             ],
             [
              0.6666666666666666,
              "#ed7953"
             ],
             [
              0.7777777777777778,
              "#fb9f3a"
             ],
             [
              0.8888888888888888,
              "#fdca26"
             ],
             [
              1,
              "#f0f921"
             ]
            ],
            "type": "histogram2dcontour"
           }
          ],
          "mesh3d": [
           {
            "colorbar": {
             "outlinewidth": 0,
             "ticks": ""
            },
            "type": "mesh3d"
           }
          ],
          "parcoords": [
           {
            "line": {
             "colorbar": {
              "outlinewidth": 0,
              "ticks": ""
             }
            },
            "type": "parcoords"
           }
          ],
          "pie": [
           {
            "automargin": true,
            "type": "pie"
           }
          ],
          "scatter": [
           {
            "marker": {
             "colorbar": {
              "outlinewidth": 0,
              "ticks": ""
             }
            },
            "type": "scatter"
           }
          ],
          "scatter3d": [
           {
            "line": {
             "colorbar": {
              "outlinewidth": 0,
              "ticks": ""
             }
            },
            "marker": {
             "colorbar": {
              "outlinewidth": 0,
              "ticks": ""
             }
            },
            "type": "scatter3d"
           }
          ],
          "scattercarpet": [
           {
            "marker": {
             "colorbar": {
              "outlinewidth": 0,
              "ticks": ""
             }
            },
            "type": "scattercarpet"
           }
          ],
          "scattergeo": [
           {
            "marker": {
             "colorbar": {
              "outlinewidth": 0,
              "ticks": ""
             }
            },
            "type": "scattergeo"
           }
          ],
          "scattergl": [
           {
            "marker": {
             "colorbar": {
              "outlinewidth": 0,
              "ticks": ""
             }
            },
            "type": "scattergl"
           }
          ],
          "scattermapbox": [
           {
            "marker": {
             "colorbar": {
              "outlinewidth": 0,
              "ticks": ""
             }
            },
            "type": "scattermapbox"
           }
          ],
          "scatterpolar": [
           {
            "marker": {
             "colorbar": {
              "outlinewidth": 0,
              "ticks": ""
             }
            },
            "type": "scatterpolar"
           }
          ],
          "scatterpolargl": [
           {
            "marker": {
             "colorbar": {
              "outlinewidth": 0,
              "ticks": ""
             }
            },
            "type": "scatterpolargl"
           }
          ],
          "scatterternary": [
           {
            "marker": {
             "colorbar": {
              "outlinewidth": 0,
              "ticks": ""
             }
            },
            "type": "scatterternary"
           }
          ],
          "surface": [
           {
            "colorbar": {
             "outlinewidth": 0,
             "ticks": ""
            },
            "colorscale": [
             [
              0,
              "#0d0887"
             ],
             [
              0.1111111111111111,
              "#46039f"
             ],
             [
              0.2222222222222222,
              "#7201a8"
             ],
             [
              0.3333333333333333,
              "#9c179e"
             ],
             [
              0.4444444444444444,
              "#bd3786"
             ],
             [
              0.5555555555555556,
              "#d8576b"
             ],
             [
              0.6666666666666666,
              "#ed7953"
             ],
             [
              0.7777777777777778,
              "#fb9f3a"
             ],
             [
              0.8888888888888888,
              "#fdca26"
             ],
             [
              1,
              "#f0f921"
             ]
            ],
            "type": "surface"
           }
          ],
          "table": [
           {
            "cells": {
             "fill": {
              "color": "#EBF0F8"
             },
             "line": {
              "color": "white"
             }
            },
            "header": {
             "fill": {
              "color": "#C8D4E3"
             },
             "line": {
              "color": "white"
             }
            },
            "type": "table"
           }
          ]
         },
         "layout": {
          "annotationdefaults": {
           "arrowcolor": "#2a3f5f",
           "arrowhead": 0,
           "arrowwidth": 1
          },
          "autotypenumbers": "strict",
          "coloraxis": {
           "colorbar": {
            "outlinewidth": 0,
            "ticks": ""
           }
          },
          "colorscale": {
           "diverging": [
            [
             0,
             "#8e0152"
            ],
            [
             0.1,
             "#c51b7d"
            ],
            [
             0.2,
             "#de77ae"
            ],
            [
             0.3,
             "#f1b6da"
            ],
            [
             0.4,
             "#fde0ef"
            ],
            [
             0.5,
             "#f7f7f7"
            ],
            [
             0.6,
             "#e6f5d0"
            ],
            [
             0.7,
             "#b8e186"
            ],
            [
             0.8,
             "#7fbc41"
            ],
            [
             0.9,
             "#4d9221"
            ],
            [
             1,
             "#276419"
            ]
           ],
           "sequential": [
            [
             0,
             "#0d0887"
            ],
            [
             0.1111111111111111,
             "#46039f"
            ],
            [
             0.2222222222222222,
             "#7201a8"
            ],
            [
             0.3333333333333333,
             "#9c179e"
            ],
            [
             0.4444444444444444,
             "#bd3786"
            ],
            [
             0.5555555555555556,
             "#d8576b"
            ],
            [
             0.6666666666666666,
             "#ed7953"
            ],
            [
             0.7777777777777778,
             "#fb9f3a"
            ],
            [
             0.8888888888888888,
             "#fdca26"
            ],
            [
             1,
             "#f0f921"
            ]
           ],
           "sequentialminus": [
            [
             0,
             "#0d0887"
            ],
            [
             0.1111111111111111,
             "#46039f"
            ],
            [
             0.2222222222222222,
             "#7201a8"
            ],
            [
             0.3333333333333333,
             "#9c179e"
            ],
            [
             0.4444444444444444,
             "#bd3786"
            ],
            [
             0.5555555555555556,
             "#d8576b"
            ],
            [
             0.6666666666666666,
             "#ed7953"
            ],
            [
             0.7777777777777778,
             "#fb9f3a"
            ],
            [
             0.8888888888888888,
             "#fdca26"
            ],
            [
             1,
             "#f0f921"
            ]
           ]
          },
          "colorway": [
           "#636efa",
           "#EF553B",
           "#00cc96",
           "#ab63fa",
           "#FFA15A",
           "#19d3f3",
           "#FF6692",
           "#B6E880",
           "#FF97FF",
           "#FECB52"
          ],
          "font": {
           "color": "#2a3f5f"
          },
          "geo": {
           "bgcolor": "white",
           "lakecolor": "white",
           "landcolor": "#E5ECF6",
           "showlakes": true,
           "showland": true,
           "subunitcolor": "white"
          },
          "hoverlabel": {
           "align": "left"
          },
          "hovermode": "closest",
          "mapbox": {
           "style": "light"
          },
          "paper_bgcolor": "white",
          "plot_bgcolor": "#E5ECF6",
          "polar": {
           "angularaxis": {
            "gridcolor": "white",
            "linecolor": "white",
            "ticks": ""
           },
           "bgcolor": "#E5ECF6",
           "radialaxis": {
            "gridcolor": "white",
            "linecolor": "white",
            "ticks": ""
           }
          },
          "scene": {
           "xaxis": {
            "backgroundcolor": "#E5ECF6",
            "gridcolor": "white",
            "gridwidth": 2,
            "linecolor": "white",
            "showbackground": true,
            "ticks": "",
            "zerolinecolor": "white"
           },
           "yaxis": {
            "backgroundcolor": "#E5ECF6",
            "gridcolor": "white",
            "gridwidth": 2,
            "linecolor": "white",
            "showbackground": true,
            "ticks": "",
            "zerolinecolor": "white"
           },
           "zaxis": {
            "backgroundcolor": "#E5ECF6",
            "gridcolor": "white",
            "gridwidth": 2,
            "linecolor": "white",
            "showbackground": true,
            "ticks": "",
            "zerolinecolor": "white"
           }
          },
          "shapedefaults": {
           "line": {
            "color": "#2a3f5f"
           }
          },
          "ternary": {
           "aaxis": {
            "gridcolor": "white",
            "linecolor": "white",
            "ticks": ""
           },
           "baxis": {
            "gridcolor": "white",
            "linecolor": "white",
            "ticks": ""
           },
           "bgcolor": "#E5ECF6",
           "caxis": {
            "gridcolor": "white",
            "linecolor": "white",
            "ticks": ""
           }
          },
          "title": {
           "x": 0.05
          },
          "xaxis": {
           "automargin": true,
           "gridcolor": "white",
           "linecolor": "white",
           "ticks": "",
           "title": {
            "standoff": 15
           },
           "zerolinecolor": "white",
           "zerolinewidth": 2
          },
          "yaxis": {
           "automargin": true,
           "gridcolor": "white",
           "linecolor": "white",
           "ticks": "",
           "title": {
            "standoff": 15
           },
           "zerolinecolor": "white",
           "zerolinewidth": 2
          }
         }
        },
        "title": {
         "text": "Most Popular Progamming Languages in 2021",
         "x": 0.5,
         "y": 0.95
        },
        "xaxis": {
         "anchor": "y",
         "domain": [
          0,
          1
         ],
         "title": {
          "text": "% of respondents"
         }
        },
        "yaxis": {
         "anchor": "x",
         "domain": [
          0,
          1
         ],
         "title": {
          "text": ""
         }
        }
       }
      },
      "text/html": [
       "<div>                            <div id=\"8c3df081-9ef0-4cf9-b439-92e71939b158\" class=\"plotly-graph-div\" style=\"height:525px; width:100%;\"></div>            <script type=\"text/javascript\">                require([\"plotly\"], function(Plotly) {                    window.PLOTLYENV=window.PLOTLYENV || {};                                    if (document.getElementById(\"8c3df081-9ef0-4cf9-b439-92e71939b158\")) {                    Plotly.newPlot(                        \"8c3df081-9ef0-4cf9-b439-92e71939b158\",                        [{\"alignmentgroup\": \"True\", \"hovertemplate\": \"variable=0<br>% of respondents=%{x}<br>=%{y}<br>text=%{text}<extra></extra>\", \"legendgroup\": \"0\", \"marker\": {\"color\": \"#636efa\"}, \"name\": \"0\", \"offsetgroup\": \"0\", \"orientation\": \"h\", \"showlegend\": true, \"text\": [1.0, 1.2, 1.3, 8.9, 10.3, 11.8, 17.4, 18.9, 19.1, 21.4, 22.2, 43.1, 87.6], \"textposition\": \"auto\", \"type\": \"bar\", \"x\": [1.0, 1.2, 1.3, 8.9, 10.3, 11.8, 17.4, 18.9, 19.1, 21.4, 22.2, 43.1, 87.6], \"xaxis\": \"x\", \"y\": [\"Swift\", \"Julia\", \"None\", \"Bash\", \"Other\", \"MATLAB\", \"Javascript\", \"C\", \"Java\", \"R\", \"C++\", \"SQL\", \"Python\"], \"yaxis\": \"y\"}],                        {\"barmode\": \"relative\", \"legend\": {\"title\": {\"text\": \"variable\"}, \"tracegroupgap\": 0}, \"margin\": {\"t\": 60}, \"showlegend\": false, \"template\": {\"data\": {\"bar\": [{\"error_x\": {\"color\": \"#2a3f5f\"}, \"error_y\": {\"color\": \"#2a3f5f\"}, \"marker\": {\"line\": {\"color\": \"#E5ECF6\", \"width\": 0.5}}, \"type\": \"bar\"}], \"barpolar\": [{\"marker\": {\"line\": {\"color\": \"#E5ECF6\", \"width\": 0.5}}, \"type\": \"barpolar\"}], \"carpet\": [{\"aaxis\": {\"endlinecolor\": \"#2a3f5f\", \"gridcolor\": \"white\", \"linecolor\": \"white\", \"minorgridcolor\": \"white\", \"startlinecolor\": \"#2a3f5f\"}, \"baxis\": {\"endlinecolor\": \"#2a3f5f\", \"gridcolor\": \"white\", \"linecolor\": \"white\", \"minorgridcolor\": \"white\", \"startlinecolor\": \"#2a3f5f\"}, \"type\": \"carpet\"}], \"choropleth\": [{\"colorbar\": {\"outlinewidth\": 0, \"ticks\": \"\"}, \"type\": \"choropleth\"}], \"contour\": [{\"colorbar\": {\"outlinewidth\": 0, \"ticks\": \"\"}, \"colorscale\": [[0.0, \"#0d0887\"], [0.1111111111111111, \"#46039f\"], [0.2222222222222222, \"#7201a8\"], [0.3333333333333333, \"#9c179e\"], [0.4444444444444444, \"#bd3786\"], [0.5555555555555556, \"#d8576b\"], [0.6666666666666666, \"#ed7953\"], [0.7777777777777778, \"#fb9f3a\"], [0.8888888888888888, \"#fdca26\"], [1.0, \"#f0f921\"]], \"type\": \"contour\"}], \"contourcarpet\": [{\"colorbar\": {\"outlinewidth\": 0, \"ticks\": \"\"}, \"type\": \"contourcarpet\"}], \"heatmap\": [{\"colorbar\": {\"outlinewidth\": 0, \"ticks\": \"\"}, \"colorscale\": [[0.0, \"#0d0887\"], [0.1111111111111111, \"#46039f\"], [0.2222222222222222, \"#7201a8\"], [0.3333333333333333, \"#9c179e\"], [0.4444444444444444, \"#bd3786\"], [0.5555555555555556, \"#d8576b\"], [0.6666666666666666, \"#ed7953\"], [0.7777777777777778, \"#fb9f3a\"], [0.8888888888888888, \"#fdca26\"], [1.0, \"#f0f921\"]], \"type\": \"heatmap\"}], \"heatmapgl\": [{\"colorbar\": {\"outlinewidth\": 0, \"ticks\": \"\"}, \"colorscale\": [[0.0, \"#0d0887\"], [0.1111111111111111, \"#46039f\"], [0.2222222222222222, \"#7201a8\"], [0.3333333333333333, \"#9c179e\"], [0.4444444444444444, \"#bd3786\"], [0.5555555555555556, \"#d8576b\"], [0.6666666666666666, \"#ed7953\"], [0.7777777777777778, \"#fb9f3a\"], [0.8888888888888888, \"#fdca26\"], [1.0, \"#f0f921\"]], \"type\": \"heatmapgl\"}], \"histogram\": [{\"marker\": {\"colorbar\": {\"outlinewidth\": 0, \"ticks\": \"\"}}, \"type\": \"histogram\"}], \"histogram2d\": [{\"colorbar\": {\"outlinewidth\": 0, \"ticks\": \"\"}, \"colorscale\": [[0.0, \"#0d0887\"], [0.1111111111111111, \"#46039f\"], [0.2222222222222222, \"#7201a8\"], [0.3333333333333333, \"#9c179e\"], [0.4444444444444444, \"#bd3786\"], [0.5555555555555556, \"#d8576b\"], [0.6666666666666666, \"#ed7953\"], [0.7777777777777778, \"#fb9f3a\"], [0.8888888888888888, \"#fdca26\"], [1.0, \"#f0f921\"]], \"type\": \"histogram2d\"}], \"histogram2dcontour\": [{\"colorbar\": {\"outlinewidth\": 0, \"ticks\": \"\"}, \"colorscale\": [[0.0, \"#0d0887\"], [0.1111111111111111, \"#46039f\"], [0.2222222222222222, \"#7201a8\"], [0.3333333333333333, \"#9c179e\"], [0.4444444444444444, \"#bd3786\"], [0.5555555555555556, \"#d8576b\"], [0.6666666666666666, \"#ed7953\"], [0.7777777777777778, \"#fb9f3a\"], [0.8888888888888888, \"#fdca26\"], [1.0, \"#f0f921\"]], \"type\": \"histogram2dcontour\"}], \"mesh3d\": [{\"colorbar\": {\"outlinewidth\": 0, \"ticks\": \"\"}, \"type\": \"mesh3d\"}], \"parcoords\": [{\"line\": {\"colorbar\": {\"outlinewidth\": 0, \"ticks\": \"\"}}, \"type\": \"parcoords\"}], \"pie\": [{\"automargin\": true, \"type\": \"pie\"}], \"scatter\": [{\"marker\": {\"colorbar\": {\"outlinewidth\": 0, \"ticks\": \"\"}}, \"type\": \"scatter\"}], \"scatter3d\": [{\"line\": {\"colorbar\": {\"outlinewidth\": 0, \"ticks\": \"\"}}, \"marker\": {\"colorbar\": {\"outlinewidth\": 0, \"ticks\": \"\"}}, \"type\": \"scatter3d\"}], \"scattercarpet\": [{\"marker\": {\"colorbar\": {\"outlinewidth\": 0, \"ticks\": \"\"}}, \"type\": \"scattercarpet\"}], \"scattergeo\": [{\"marker\": {\"colorbar\": {\"outlinewidth\": 0, \"ticks\": \"\"}}, \"type\": \"scattergeo\"}], \"scattergl\": [{\"marker\": {\"colorbar\": {\"outlinewidth\": 0, \"ticks\": \"\"}}, \"type\": \"scattergl\"}], \"scattermapbox\": [{\"marker\": {\"colorbar\": {\"outlinewidth\": 0, \"ticks\": \"\"}}, \"type\": \"scattermapbox\"}], \"scatterpolar\": [{\"marker\": {\"colorbar\": {\"outlinewidth\": 0, \"ticks\": \"\"}}, \"type\": \"scatterpolar\"}], \"scatterpolargl\": [{\"marker\": {\"colorbar\": {\"outlinewidth\": 0, \"ticks\": \"\"}}, \"type\": \"scatterpolargl\"}], \"scatterternary\": [{\"marker\": {\"colorbar\": {\"outlinewidth\": 0, \"ticks\": \"\"}}, \"type\": \"scatterternary\"}], \"surface\": [{\"colorbar\": {\"outlinewidth\": 0, \"ticks\": \"\"}, \"colorscale\": [[0.0, \"#0d0887\"], [0.1111111111111111, \"#46039f\"], [0.2222222222222222, \"#7201a8\"], [0.3333333333333333, \"#9c179e\"], [0.4444444444444444, \"#bd3786\"], [0.5555555555555556, \"#d8576b\"], [0.6666666666666666, \"#ed7953\"], [0.7777777777777778, \"#fb9f3a\"], [0.8888888888888888, \"#fdca26\"], [1.0, \"#f0f921\"]], \"type\": \"surface\"}], \"table\": [{\"cells\": {\"fill\": {\"color\": \"#EBF0F8\"}, \"line\": {\"color\": \"white\"}}, \"header\": {\"fill\": {\"color\": \"#C8D4E3\"}, \"line\": {\"color\": \"white\"}}, \"type\": \"table\"}]}, \"layout\": {\"annotationdefaults\": {\"arrowcolor\": \"#2a3f5f\", \"arrowhead\": 0, \"arrowwidth\": 1}, \"autotypenumbers\": \"strict\", \"coloraxis\": {\"colorbar\": {\"outlinewidth\": 0, \"ticks\": \"\"}}, \"colorscale\": {\"diverging\": [[0, \"#8e0152\"], [0.1, \"#c51b7d\"], [0.2, \"#de77ae\"], [0.3, \"#f1b6da\"], [0.4, \"#fde0ef\"], [0.5, \"#f7f7f7\"], [0.6, \"#e6f5d0\"], [0.7, \"#b8e186\"], [0.8, \"#7fbc41\"], [0.9, \"#4d9221\"], [1, \"#276419\"]], \"sequential\": [[0.0, \"#0d0887\"], [0.1111111111111111, \"#46039f\"], [0.2222222222222222, \"#7201a8\"], [0.3333333333333333, \"#9c179e\"], [0.4444444444444444, \"#bd3786\"], [0.5555555555555556, \"#d8576b\"], [0.6666666666666666, \"#ed7953\"], [0.7777777777777778, \"#fb9f3a\"], [0.8888888888888888, \"#fdca26\"], [1.0, \"#f0f921\"]], \"sequentialminus\": [[0.0, \"#0d0887\"], [0.1111111111111111, \"#46039f\"], [0.2222222222222222, \"#7201a8\"], [0.3333333333333333, \"#9c179e\"], [0.4444444444444444, \"#bd3786\"], [0.5555555555555556, \"#d8576b\"], [0.6666666666666666, \"#ed7953\"], [0.7777777777777778, \"#fb9f3a\"], [0.8888888888888888, \"#fdca26\"], [1.0, \"#f0f921\"]]}, \"colorway\": [\"#636efa\", \"#EF553B\", \"#00cc96\", \"#ab63fa\", \"#FFA15A\", \"#19d3f3\", \"#FF6692\", \"#B6E880\", \"#FF97FF\", \"#FECB52\"], \"font\": {\"color\": \"#2a3f5f\"}, \"geo\": {\"bgcolor\": \"white\", \"lakecolor\": \"white\", \"landcolor\": \"#E5ECF6\", \"showlakes\": true, \"showland\": true, \"subunitcolor\": \"white\"}, \"hoverlabel\": {\"align\": \"left\"}, \"hovermode\": \"closest\", \"mapbox\": {\"style\": \"light\"}, \"paper_bgcolor\": \"white\", \"plot_bgcolor\": \"#E5ECF6\", \"polar\": {\"angularaxis\": {\"gridcolor\": \"white\", \"linecolor\": \"white\", \"ticks\": \"\"}, \"bgcolor\": \"#E5ECF6\", \"radialaxis\": {\"gridcolor\": \"white\", \"linecolor\": \"white\", \"ticks\": \"\"}}, \"scene\": {\"xaxis\": {\"backgroundcolor\": \"#E5ECF6\", \"gridcolor\": \"white\", \"gridwidth\": 2, \"linecolor\": \"white\", \"showbackground\": true, \"ticks\": \"\", \"zerolinecolor\": \"white\"}, \"yaxis\": {\"backgroundcolor\": \"#E5ECF6\", \"gridcolor\": \"white\", \"gridwidth\": 2, \"linecolor\": \"white\", \"showbackground\": true, \"ticks\": \"\", \"zerolinecolor\": \"white\"}, \"zaxis\": {\"backgroundcolor\": \"#E5ECF6\", \"gridcolor\": \"white\", \"gridwidth\": 2, \"linecolor\": \"white\", \"showbackground\": true, \"ticks\": \"\", \"zerolinecolor\": \"white\"}}, \"shapedefaults\": {\"line\": {\"color\": \"#2a3f5f\"}}, \"ternary\": {\"aaxis\": {\"gridcolor\": \"white\", \"linecolor\": \"white\", \"ticks\": \"\"}, \"baxis\": {\"gridcolor\": \"white\", \"linecolor\": \"white\", \"ticks\": \"\"}, \"bgcolor\": \"#E5ECF6\", \"caxis\": {\"gridcolor\": \"white\", \"linecolor\": \"white\", \"ticks\": \"\"}}, \"title\": {\"x\": 0.05}, \"xaxis\": {\"automargin\": true, \"gridcolor\": \"white\", \"linecolor\": \"white\", \"ticks\": \"\", \"title\": {\"standoff\": 15}, \"zerolinecolor\": \"white\", \"zerolinewidth\": 2}, \"yaxis\": {\"automargin\": true, \"gridcolor\": \"white\", \"linecolor\": \"white\", \"ticks\": \"\", \"title\": {\"standoff\": 15}, \"zerolinecolor\": \"white\", \"zerolinewidth\": 2}}}, \"title\": {\"text\": \"Most Popular Progamming Languages in 2021\", \"x\": 0.5, \"y\": 0.95}, \"xaxis\": {\"anchor\": \"y\", \"domain\": [0.0, 1.0], \"title\": {\"text\": \"% of respondents\"}}, \"yaxis\": {\"anchor\": \"x\", \"domain\": [0.0, 1.0], \"title\": {\"text\": \"\"}}},                        {\"responsive\": true}                    ).then(function(){\n",
       "                            \n",
       "var gd = document.getElementById('8c3df081-9ef0-4cf9-b439-92e71939b158');\n",
       "var x = new MutationObserver(function (mutations, observer) {{\n",
       "        var display = window.getComputedStyle(gd).display;\n",
       "        if (!display || display === 'none') {{\n",
       "            console.log([gd, 'removed!']);\n",
       "            Plotly.purge(gd);\n",
       "            observer.disconnect();\n",
       "        }}\n",
       "}});\n",
       "\n",
       "// Listen for the removal of the full notebook cells\n",
       "var notebookContainer = gd.closest('#notebook-container');\n",
       "if (notebookContainer) {{\n",
       "    x.observe(notebookContainer, {childList: true});\n",
       "}}\n",
       "\n",
       "// Listen for the clearing of the current output cell\n",
       "var outputEl = gd.closest('.output');\n",
       "if (outputEl) {{\n",
       "    x.observe(outputEl, {childList: true});\n",
       "}}\n",
       "\n",
       "                        })                };                });            </script>        </div>"
      ]
     },
     "metadata": {},
     "output_type": "display_data"
    }
   ],
   "source": [
    "question_name = 'Q7'\n",
    "dictionary_of_counts = sort_dictionary_by_percent(responses_df_2021,\n",
    "                                                  q7_list_of_columns_2021,\n",
    "                                                  q7_dictionary_of_counts_2021)\n",
    "title_for_chart = 'Most Popular Progamming Languages'\n",
    "title_for_y_axis = '% of respondents'\n",
    "orientation_for_chart = 'h'\n",
    "  \n",
    "plotly_bar_chart(response_counts=dictionary_of_counts,\n",
    "                 title=title_for_chart,\n",
    "                 y_axis_title=title_for_y_axis,\n",
    "                 orientation=orientation_for_chart) "
   ]
  },
  {
   "cell_type": "code",
   "execution_count": 21,
   "metadata": {},
   "outputs": [
    {
     "data": {
      "application/vnd.plotly.v1+json": {
       "config": {
        "plotlyServerURL": "https://plotly.com"
       },
       "data": [
        {
         "labels": [
          "Python",
          "SQL",
          "Javascript",
          "R",
          "MATLAB",
          "Java",
          "C++",
          "Other",
          "C",
          "None",
          "Bash",
          "Swift",
          "Julia"
         ],
         "marker": {
          "colorscale": [
           [
            0,
            "rgb(247,252,245)"
           ],
           [
            0.125,
            "rgb(229,245,224)"
           ],
           [
            0.25,
            "rgb(199,233,192)"
           ],
           [
            0.375,
            "rgb(161,217,155)"
           ],
           [
            0.5,
            "rgb(116,196,118)"
           ],
           [
            0.625,
            "rgb(65,171,93)"
           ],
           [
            0.75,
            "rgb(35,139,69)"
           ],
           [
            0.875,
            "rgb(0,109,44)"
           ],
           [
            1,
            "rgb(0,68,27)"
           ]
          ]
         },
         "parents": [
          "",
          "",
          "",
          "",
          "",
          "",
          "",
          "",
          "",
          "",
          "",
          "",
          ""
         ],
         "textinfo": "percent root+label+text",
         "type": "treemap",
         "values": [
          44.5,
          17.9,
          8.9,
          8.3,
          4.3,
          4.2,
          4.1,
          3.3,
          2.4,
          1.1,
          0.8,
          0.2,
          0.1
         ]
        }
       ],
       "layout": {
        "template": {
         "data": {
          "bar": [
           {
            "error_x": {
             "color": "#2a3f5f"
            },
            "error_y": {
             "color": "#2a3f5f"
            },
            "marker": {
             "line": {
              "color": "#E5ECF6",
              "width": 0.5
             }
            },
            "type": "bar"
           }
          ],
          "barpolar": [
           {
            "marker": {
             "line": {
              "color": "#E5ECF6",
              "width": 0.5
             }
            },
            "type": "barpolar"
           }
          ],
          "carpet": [
           {
            "aaxis": {
             "endlinecolor": "#2a3f5f",
             "gridcolor": "white",
             "linecolor": "white",
             "minorgridcolor": "white",
             "startlinecolor": "#2a3f5f"
            },
            "baxis": {
             "endlinecolor": "#2a3f5f",
             "gridcolor": "white",
             "linecolor": "white",
             "minorgridcolor": "white",
             "startlinecolor": "#2a3f5f"
            },
            "type": "carpet"
           }
          ],
          "choropleth": [
           {
            "colorbar": {
             "outlinewidth": 0,
             "ticks": ""
            },
            "type": "choropleth"
           }
          ],
          "contour": [
           {
            "colorbar": {
             "outlinewidth": 0,
             "ticks": ""
            },
            "colorscale": [
             [
              0,
              "#0d0887"
             ],
             [
              0.1111111111111111,
              "#46039f"
             ],
             [
              0.2222222222222222,
              "#7201a8"
             ],
             [
              0.3333333333333333,
              "#9c179e"
             ],
             [
              0.4444444444444444,
              "#bd3786"
             ],
             [
              0.5555555555555556,
              "#d8576b"
             ],
             [
              0.6666666666666666,
              "#ed7953"
             ],
             [
              0.7777777777777778,
              "#fb9f3a"
             ],
             [
              0.8888888888888888,
              "#fdca26"
             ],
             [
              1,
              "#f0f921"
             ]
            ],
            "type": "contour"
           }
          ],
          "contourcarpet": [
           {
            "colorbar": {
             "outlinewidth": 0,
             "ticks": ""
            },
            "type": "contourcarpet"
           }
          ],
          "heatmap": [
           {
            "colorbar": {
             "outlinewidth": 0,
             "ticks": ""
            },
            "colorscale": [
             [
              0,
              "#0d0887"
             ],
             [
              0.1111111111111111,
              "#46039f"
             ],
             [
              0.2222222222222222,
              "#7201a8"
             ],
             [
              0.3333333333333333,
              "#9c179e"
             ],
             [
              0.4444444444444444,
              "#bd3786"
             ],
             [
              0.5555555555555556,
              "#d8576b"
             ],
             [
              0.6666666666666666,
              "#ed7953"
             ],
             [
              0.7777777777777778,
              "#fb9f3a"
             ],
             [
              0.8888888888888888,
              "#fdca26"
             ],
             [
              1,
              "#f0f921"
             ]
            ],
            "type": "heatmap"
           }
          ],
          "heatmapgl": [
           {
            "colorbar": {
             "outlinewidth": 0,
             "ticks": ""
            },
            "colorscale": [
             [
              0,
              "#0d0887"
             ],
             [
              0.1111111111111111,
              "#46039f"
             ],
             [
              0.2222222222222222,
              "#7201a8"
             ],
             [
              0.3333333333333333,
              "#9c179e"
             ],
             [
              0.4444444444444444,
              "#bd3786"
             ],
             [
              0.5555555555555556,
              "#d8576b"
             ],
             [
              0.6666666666666666,
              "#ed7953"
             ],
             [
              0.7777777777777778,
              "#fb9f3a"
             ],
             [
              0.8888888888888888,
              "#fdca26"
             ],
             [
              1,
              "#f0f921"
             ]
            ],
            "type": "heatmapgl"
           }
          ],
          "histogram": [
           {
            "marker": {
             "colorbar": {
              "outlinewidth": 0,
              "ticks": ""
             }
            },
            "type": "histogram"
           }
          ],
          "histogram2d": [
           {
            "colorbar": {
             "outlinewidth": 0,
             "ticks": ""
            },
            "colorscale": [
             [
              0,
              "#0d0887"
             ],
             [
              0.1111111111111111,
              "#46039f"
             ],
             [
              0.2222222222222222,
              "#7201a8"
             ],
             [
              0.3333333333333333,
              "#9c179e"
             ],
             [
              0.4444444444444444,
              "#bd3786"
             ],
             [
              0.5555555555555556,
              "#d8576b"
             ],
             [
              0.6666666666666666,
              "#ed7953"
             ],
             [
              0.7777777777777778,
              "#fb9f3a"
             ],
             [
              0.8888888888888888,
              "#fdca26"
             ],
             [
              1,
              "#f0f921"
             ]
            ],
            "type": "histogram2d"
           }
          ],
          "histogram2dcontour": [
           {
            "colorbar": {
             "outlinewidth": 0,
             "ticks": ""
            },
            "colorscale": [
             [
              0,
              "#0d0887"
             ],
             [
              0.1111111111111111,
              "#46039f"
             ],
             [
              0.2222222222222222,
              "#7201a8"
             ],
             [
              0.3333333333333333,
              "#9c179e"
             ],
             [
              0.4444444444444444,
              "#bd3786"
             ],
             [
              0.5555555555555556,
              "#d8576b"
             ],
             [
              0.6666666666666666,
              "#ed7953"
             ],
             [
              0.7777777777777778,
              "#fb9f3a"
             ],
             [
              0.8888888888888888,
              "#fdca26"
             ],
             [
              1,
              "#f0f921"
             ]
            ],
            "type": "histogram2dcontour"
           }
          ],
          "mesh3d": [
           {
            "colorbar": {
             "outlinewidth": 0,
             "ticks": ""
            },
            "type": "mesh3d"
           }
          ],
          "parcoords": [
           {
            "line": {
             "colorbar": {
              "outlinewidth": 0,
              "ticks": ""
             }
            },
            "type": "parcoords"
           }
          ],
          "pie": [
           {
            "automargin": true,
            "type": "pie"
           }
          ],
          "scatter": [
           {
            "marker": {
             "colorbar": {
              "outlinewidth": 0,
              "ticks": ""
             }
            },
            "type": "scatter"
           }
          ],
          "scatter3d": [
           {
            "line": {
             "colorbar": {
              "outlinewidth": 0,
              "ticks": ""
             }
            },
            "marker": {
             "colorbar": {
              "outlinewidth": 0,
              "ticks": ""
             }
            },
            "type": "scatter3d"
           }
          ],
          "scattercarpet": [
           {
            "marker": {
             "colorbar": {
              "outlinewidth": 0,
              "ticks": ""
             }
            },
            "type": "scattercarpet"
           }
          ],
          "scattergeo": [
           {
            "marker": {
             "colorbar": {
              "outlinewidth": 0,
              "ticks": ""
             }
            },
            "type": "scattergeo"
           }
          ],
          "scattergl": [
           {
            "marker": {
             "colorbar": {
              "outlinewidth": 0,
              "ticks": ""
             }
            },
            "type": "scattergl"
           }
          ],
          "scattermapbox": [
           {
            "marker": {
             "colorbar": {
              "outlinewidth": 0,
              "ticks": ""
             }
            },
            "type": "scattermapbox"
           }
          ],
          "scatterpolar": [
           {
            "marker": {
             "colorbar": {
              "outlinewidth": 0,
              "ticks": ""
             }
            },
            "type": "scatterpolar"
           }
          ],
          "scatterpolargl": [
           {
            "marker": {
             "colorbar": {
              "outlinewidth": 0,
              "ticks": ""
             }
            },
            "type": "scatterpolargl"
           }
          ],
          "scatterternary": [
           {
            "marker": {
             "colorbar": {
              "outlinewidth": 0,
              "ticks": ""
             }
            },
            "type": "scatterternary"
           }
          ],
          "surface": [
           {
            "colorbar": {
             "outlinewidth": 0,
             "ticks": ""
            },
            "colorscale": [
             [
              0,
              "#0d0887"
             ],
             [
              0.1111111111111111,
              "#46039f"
             ],
             [
              0.2222222222222222,
              "#7201a8"
             ],
             [
              0.3333333333333333,
              "#9c179e"
             ],
             [
              0.4444444444444444,
              "#bd3786"
             ],
             [
              0.5555555555555556,
              "#d8576b"
             ],
             [
              0.6666666666666666,
              "#ed7953"
             ],
             [
              0.7777777777777778,
              "#fb9f3a"
             ],
             [
              0.8888888888888888,
              "#fdca26"
             ],
             [
              1,
              "#f0f921"
             ]
            ],
            "type": "surface"
           }
          ],
          "table": [
           {
            "cells": {
             "fill": {
              "color": "#EBF0F8"
             },
             "line": {
              "color": "white"
             }
            },
            "header": {
             "fill": {
              "color": "#C8D4E3"
             },
             "line": {
              "color": "white"
             }
            },
            "type": "table"
           }
          ]
         },
         "layout": {
          "annotationdefaults": {
           "arrowcolor": "#2a3f5f",
           "arrowhead": 0,
           "arrowwidth": 1
          },
          "autotypenumbers": "strict",
          "coloraxis": {
           "colorbar": {
            "outlinewidth": 0,
            "ticks": ""
           }
          },
          "colorscale": {
           "diverging": [
            [
             0,
             "#8e0152"
            ],
            [
             0.1,
             "#c51b7d"
            ],
            [
             0.2,
             "#de77ae"
            ],
            [
             0.3,
             "#f1b6da"
            ],
            [
             0.4,
             "#fde0ef"
            ],
            [
             0.5,
             "#f7f7f7"
            ],
            [
             0.6,
             "#e6f5d0"
            ],
            [
             0.7,
             "#b8e186"
            ],
            [
             0.8,
             "#7fbc41"
            ],
            [
             0.9,
             "#4d9221"
            ],
            [
             1,
             "#276419"
            ]
           ],
           "sequential": [
            [
             0,
             "#0d0887"
            ],
            [
             0.1111111111111111,
             "#46039f"
            ],
            [
             0.2222222222222222,
             "#7201a8"
            ],
            [
             0.3333333333333333,
             "#9c179e"
            ],
            [
             0.4444444444444444,
             "#bd3786"
            ],
            [
             0.5555555555555556,
             "#d8576b"
            ],
            [
             0.6666666666666666,
             "#ed7953"
            ],
            [
             0.7777777777777778,
             "#fb9f3a"
            ],
            [
             0.8888888888888888,
             "#fdca26"
            ],
            [
             1,
             "#f0f921"
            ]
           ],
           "sequentialminus": [
            [
             0,
             "#0d0887"
            ],
            [
             0.1111111111111111,
             "#46039f"
            ],
            [
             0.2222222222222222,
             "#7201a8"
            ],
            [
             0.3333333333333333,
             "#9c179e"
            ],
            [
             0.4444444444444444,
             "#bd3786"
            ],
            [
             0.5555555555555556,
             "#d8576b"
            ],
            [
             0.6666666666666666,
             "#ed7953"
            ],
            [
             0.7777777777777778,
             "#fb9f3a"
            ],
            [
             0.8888888888888888,
             "#fdca26"
            ],
            [
             1,
             "#f0f921"
            ]
           ]
          },
          "colorway": [
           "#636efa",
           "#EF553B",
           "#00cc96",
           "#ab63fa",
           "#FFA15A",
           "#19d3f3",
           "#FF6692",
           "#B6E880",
           "#FF97FF",
           "#FECB52"
          ],
          "font": {
           "color": "#2a3f5f"
          },
          "geo": {
           "bgcolor": "white",
           "lakecolor": "white",
           "landcolor": "#E5ECF6",
           "showlakes": true,
           "showland": true,
           "subunitcolor": "white"
          },
          "hoverlabel": {
           "align": "left"
          },
          "hovermode": "closest",
          "mapbox": {
           "style": "light"
          },
          "paper_bgcolor": "white",
          "plot_bgcolor": "#E5ECF6",
          "polar": {
           "angularaxis": {
            "gridcolor": "white",
            "linecolor": "white",
            "ticks": ""
           },
           "bgcolor": "#E5ECF6",
           "radialaxis": {
            "gridcolor": "white",
            "linecolor": "white",
            "ticks": ""
           }
          },
          "scene": {
           "xaxis": {
            "backgroundcolor": "#E5ECF6",
            "gridcolor": "white",
            "gridwidth": 2,
            "linecolor": "white",
            "showbackground": true,
            "ticks": "",
            "zerolinecolor": "white"
           },
           "yaxis": {
            "backgroundcolor": "#E5ECF6",
            "gridcolor": "white",
            "gridwidth": 2,
            "linecolor": "white",
            "showbackground": true,
            "ticks": "",
            "zerolinecolor": "white"
           },
           "zaxis": {
            "backgroundcolor": "#E5ECF6",
            "gridcolor": "white",
            "gridwidth": 2,
            "linecolor": "white",
            "showbackground": true,
            "ticks": "",
            "zerolinecolor": "white"
           }
          },
          "shapedefaults": {
           "line": {
            "color": "#2a3f5f"
           }
          },
          "ternary": {
           "aaxis": {
            "gridcolor": "white",
            "linecolor": "white",
            "ticks": ""
           },
           "baxis": {
            "gridcolor": "white",
            "linecolor": "white",
            "ticks": ""
           },
           "bgcolor": "#E5ECF6",
           "caxis": {
            "gridcolor": "white",
            "linecolor": "white",
            "ticks": ""
           }
          },
          "title": {
           "x": 0.05
          },
          "xaxis": {
           "automargin": true,
           "gridcolor": "white",
           "linecolor": "white",
           "ticks": "",
           "title": {
            "standoff": 15
           },
           "zerolinecolor": "white",
           "zerolinewidth": 2
          },
          "yaxis": {
           "automargin": true,
           "gridcolor": "white",
           "linecolor": "white",
           "ticks": "",
           "title": {
            "standoff": 15
           },
           "zerolinecolor": "white",
           "zerolinewidth": 2
          }
         }
        },
        "title": {
         "text": "Programming language used regularly by Nigerian Kagglers"
        },
        "uniformtext": {
         "minsize": 8,
         "mode": "hide"
        }
       }
      },
      "text/html": [
       "<div>                            <div id=\"780ff2e4-ace6-4c8c-a0b4-e84e73a0478a\" class=\"plotly-graph-div\" style=\"height:525px; width:100%;\"></div>            <script type=\"text/javascript\">                require([\"plotly\"], function(Plotly) {                    window.PLOTLYENV=window.PLOTLYENV || {};                                    if (document.getElementById(\"780ff2e4-ace6-4c8c-a0b4-e84e73a0478a\")) {                    Plotly.newPlot(                        \"780ff2e4-ace6-4c8c-a0b4-e84e73a0478a\",                        [{\"labels\": [\"Python\", \"SQL\", \"Javascript\", \"R\", \"MATLAB\", \"Java\", \"C++\", \"Other\", \"C\", \"None\", \"Bash\", \"Swift\", \"Julia\"], \"marker\": {\"colorscale\": [[0.0, \"rgb(247,252,245)\"], [0.125, \"rgb(229,245,224)\"], [0.25, \"rgb(199,233,192)\"], [0.375, \"rgb(161,217,155)\"], [0.5, \"rgb(116,196,118)\"], [0.625, \"rgb(65,171,93)\"], [0.75, \"rgb(35,139,69)\"], [0.875, \"rgb(0,109,44)\"], [1.0, \"rgb(0,68,27)\"]]}, \"parents\": [\"\", \"\", \"\", \"\", \"\", \"\", \"\", \"\", \"\", \"\", \"\", \"\", \"\"], \"textinfo\": \"percent root+label+text\", \"type\": \"treemap\", \"values\": [44.5, 17.9, 8.9, 8.3, 4.3, 4.2, 4.1, 3.3, 2.4, 1.1, 0.8, 0.2, 0.1]}],                        {\"template\": {\"data\": {\"bar\": [{\"error_x\": {\"color\": \"#2a3f5f\"}, \"error_y\": {\"color\": \"#2a3f5f\"}, \"marker\": {\"line\": {\"color\": \"#E5ECF6\", \"width\": 0.5}}, \"type\": \"bar\"}], \"barpolar\": [{\"marker\": {\"line\": {\"color\": \"#E5ECF6\", \"width\": 0.5}}, \"type\": \"barpolar\"}], \"carpet\": [{\"aaxis\": {\"endlinecolor\": \"#2a3f5f\", \"gridcolor\": \"white\", \"linecolor\": \"white\", \"minorgridcolor\": \"white\", \"startlinecolor\": \"#2a3f5f\"}, \"baxis\": {\"endlinecolor\": \"#2a3f5f\", \"gridcolor\": \"white\", \"linecolor\": \"white\", \"minorgridcolor\": \"white\", \"startlinecolor\": \"#2a3f5f\"}, \"type\": \"carpet\"}], \"choropleth\": [{\"colorbar\": {\"outlinewidth\": 0, \"ticks\": \"\"}, \"type\": \"choropleth\"}], \"contour\": [{\"colorbar\": {\"outlinewidth\": 0, \"ticks\": \"\"}, \"colorscale\": [[0.0, \"#0d0887\"], [0.1111111111111111, \"#46039f\"], [0.2222222222222222, \"#7201a8\"], [0.3333333333333333, \"#9c179e\"], [0.4444444444444444, \"#bd3786\"], [0.5555555555555556, \"#d8576b\"], [0.6666666666666666, \"#ed7953\"], [0.7777777777777778, \"#fb9f3a\"], [0.8888888888888888, \"#fdca26\"], [1.0, \"#f0f921\"]], \"type\": \"contour\"}], \"contourcarpet\": [{\"colorbar\": {\"outlinewidth\": 0, \"ticks\": \"\"}, \"type\": \"contourcarpet\"}], \"heatmap\": [{\"colorbar\": {\"outlinewidth\": 0, \"ticks\": \"\"}, \"colorscale\": [[0.0, \"#0d0887\"], [0.1111111111111111, \"#46039f\"], [0.2222222222222222, \"#7201a8\"], [0.3333333333333333, \"#9c179e\"], [0.4444444444444444, \"#bd3786\"], [0.5555555555555556, \"#d8576b\"], [0.6666666666666666, \"#ed7953\"], [0.7777777777777778, \"#fb9f3a\"], [0.8888888888888888, \"#fdca26\"], [1.0, \"#f0f921\"]], \"type\": \"heatmap\"}], \"heatmapgl\": [{\"colorbar\": {\"outlinewidth\": 0, \"ticks\": \"\"}, \"colorscale\": [[0.0, \"#0d0887\"], [0.1111111111111111, \"#46039f\"], [0.2222222222222222, \"#7201a8\"], [0.3333333333333333, \"#9c179e\"], [0.4444444444444444, \"#bd3786\"], [0.5555555555555556, \"#d8576b\"], [0.6666666666666666, \"#ed7953\"], [0.7777777777777778, \"#fb9f3a\"], [0.8888888888888888, \"#fdca26\"], [1.0, \"#f0f921\"]], \"type\": \"heatmapgl\"}], \"histogram\": [{\"marker\": {\"colorbar\": {\"outlinewidth\": 0, \"ticks\": \"\"}}, \"type\": \"histogram\"}], \"histogram2d\": [{\"colorbar\": {\"outlinewidth\": 0, \"ticks\": \"\"}, \"colorscale\": [[0.0, \"#0d0887\"], [0.1111111111111111, \"#46039f\"], [0.2222222222222222, \"#7201a8\"], [0.3333333333333333, \"#9c179e\"], [0.4444444444444444, \"#bd3786\"], [0.5555555555555556, \"#d8576b\"], [0.6666666666666666, \"#ed7953\"], [0.7777777777777778, \"#fb9f3a\"], [0.8888888888888888, \"#fdca26\"], [1.0, \"#f0f921\"]], \"type\": \"histogram2d\"}], \"histogram2dcontour\": [{\"colorbar\": {\"outlinewidth\": 0, \"ticks\": \"\"}, \"colorscale\": [[0.0, \"#0d0887\"], [0.1111111111111111, \"#46039f\"], [0.2222222222222222, \"#7201a8\"], [0.3333333333333333, \"#9c179e\"], [0.4444444444444444, \"#bd3786\"], [0.5555555555555556, \"#d8576b\"], [0.6666666666666666, \"#ed7953\"], [0.7777777777777778, \"#fb9f3a\"], [0.8888888888888888, \"#fdca26\"], [1.0, \"#f0f921\"]], \"type\": \"histogram2dcontour\"}], \"mesh3d\": [{\"colorbar\": {\"outlinewidth\": 0, \"ticks\": \"\"}, \"type\": \"mesh3d\"}], \"parcoords\": [{\"line\": {\"colorbar\": {\"outlinewidth\": 0, \"ticks\": \"\"}}, \"type\": \"parcoords\"}], \"pie\": [{\"automargin\": true, \"type\": \"pie\"}], \"scatter\": [{\"marker\": {\"colorbar\": {\"outlinewidth\": 0, \"ticks\": \"\"}}, \"type\": \"scatter\"}], \"scatter3d\": [{\"line\": {\"colorbar\": {\"outlinewidth\": 0, \"ticks\": \"\"}}, \"marker\": {\"colorbar\": {\"outlinewidth\": 0, \"ticks\": \"\"}}, \"type\": \"scatter3d\"}], \"scattercarpet\": [{\"marker\": {\"colorbar\": {\"outlinewidth\": 0, \"ticks\": \"\"}}, \"type\": \"scattercarpet\"}], \"scattergeo\": [{\"marker\": {\"colorbar\": {\"outlinewidth\": 0, \"ticks\": \"\"}}, \"type\": \"scattergeo\"}], \"scattergl\": [{\"marker\": {\"colorbar\": {\"outlinewidth\": 0, \"ticks\": \"\"}}, \"type\": \"scattergl\"}], \"scattermapbox\": [{\"marker\": {\"colorbar\": {\"outlinewidth\": 0, \"ticks\": \"\"}}, \"type\": \"scattermapbox\"}], \"scatterpolar\": [{\"marker\": {\"colorbar\": {\"outlinewidth\": 0, \"ticks\": \"\"}}, \"type\": \"scatterpolar\"}], \"scatterpolargl\": [{\"marker\": {\"colorbar\": {\"outlinewidth\": 0, \"ticks\": \"\"}}, \"type\": \"scatterpolargl\"}], \"scatterternary\": [{\"marker\": {\"colorbar\": {\"outlinewidth\": 0, \"ticks\": \"\"}}, \"type\": \"scatterternary\"}], \"surface\": [{\"colorbar\": {\"outlinewidth\": 0, \"ticks\": \"\"}, \"colorscale\": [[0.0, \"#0d0887\"], [0.1111111111111111, \"#46039f\"], [0.2222222222222222, \"#7201a8\"], [0.3333333333333333, \"#9c179e\"], [0.4444444444444444, \"#bd3786\"], [0.5555555555555556, \"#d8576b\"], [0.6666666666666666, \"#ed7953\"], [0.7777777777777778, \"#fb9f3a\"], [0.8888888888888888, \"#fdca26\"], [1.0, \"#f0f921\"]], \"type\": \"surface\"}], \"table\": [{\"cells\": {\"fill\": {\"color\": \"#EBF0F8\"}, \"line\": {\"color\": \"white\"}}, \"header\": {\"fill\": {\"color\": \"#C8D4E3\"}, \"line\": {\"color\": \"white\"}}, \"type\": \"table\"}]}, \"layout\": {\"annotationdefaults\": {\"arrowcolor\": \"#2a3f5f\", \"arrowhead\": 0, \"arrowwidth\": 1}, \"autotypenumbers\": \"strict\", \"coloraxis\": {\"colorbar\": {\"outlinewidth\": 0, \"ticks\": \"\"}}, \"colorscale\": {\"diverging\": [[0, \"#8e0152\"], [0.1, \"#c51b7d\"], [0.2, \"#de77ae\"], [0.3, \"#f1b6da\"], [0.4, \"#fde0ef\"], [0.5, \"#f7f7f7\"], [0.6, \"#e6f5d0\"], [0.7, \"#b8e186\"], [0.8, \"#7fbc41\"], [0.9, \"#4d9221\"], [1, \"#276419\"]], \"sequential\": [[0.0, \"#0d0887\"], [0.1111111111111111, \"#46039f\"], [0.2222222222222222, \"#7201a8\"], [0.3333333333333333, \"#9c179e\"], [0.4444444444444444, \"#bd3786\"], [0.5555555555555556, \"#d8576b\"], [0.6666666666666666, \"#ed7953\"], [0.7777777777777778, \"#fb9f3a\"], [0.8888888888888888, \"#fdca26\"], [1.0, \"#f0f921\"]], \"sequentialminus\": [[0.0, \"#0d0887\"], [0.1111111111111111, \"#46039f\"], [0.2222222222222222, \"#7201a8\"], [0.3333333333333333, \"#9c179e\"], [0.4444444444444444, \"#bd3786\"], [0.5555555555555556, \"#d8576b\"], [0.6666666666666666, \"#ed7953\"], [0.7777777777777778, \"#fb9f3a\"], [0.8888888888888888, \"#fdca26\"], [1.0, \"#f0f921\"]]}, \"colorway\": [\"#636efa\", \"#EF553B\", \"#00cc96\", \"#ab63fa\", \"#FFA15A\", \"#19d3f3\", \"#FF6692\", \"#B6E880\", \"#FF97FF\", \"#FECB52\"], \"font\": {\"color\": \"#2a3f5f\"}, \"geo\": {\"bgcolor\": \"white\", \"lakecolor\": \"white\", \"landcolor\": \"#E5ECF6\", \"showlakes\": true, \"showland\": true, \"subunitcolor\": \"white\"}, \"hoverlabel\": {\"align\": \"left\"}, \"hovermode\": \"closest\", \"mapbox\": {\"style\": \"light\"}, \"paper_bgcolor\": \"white\", \"plot_bgcolor\": \"#E5ECF6\", \"polar\": {\"angularaxis\": {\"gridcolor\": \"white\", \"linecolor\": \"white\", \"ticks\": \"\"}, \"bgcolor\": \"#E5ECF6\", \"radialaxis\": {\"gridcolor\": \"white\", \"linecolor\": \"white\", \"ticks\": \"\"}}, \"scene\": {\"xaxis\": {\"backgroundcolor\": \"#E5ECF6\", \"gridcolor\": \"white\", \"gridwidth\": 2, \"linecolor\": \"white\", \"showbackground\": true, \"ticks\": \"\", \"zerolinecolor\": \"white\"}, \"yaxis\": {\"backgroundcolor\": \"#E5ECF6\", \"gridcolor\": \"white\", \"gridwidth\": 2, \"linecolor\": \"white\", \"showbackground\": true, \"ticks\": \"\", \"zerolinecolor\": \"white\"}, \"zaxis\": {\"backgroundcolor\": \"#E5ECF6\", \"gridcolor\": \"white\", \"gridwidth\": 2, \"linecolor\": \"white\", \"showbackground\": true, \"ticks\": \"\", \"zerolinecolor\": \"white\"}}, \"shapedefaults\": {\"line\": {\"color\": \"#2a3f5f\"}}, \"ternary\": {\"aaxis\": {\"gridcolor\": \"white\", \"linecolor\": \"white\", \"ticks\": \"\"}, \"baxis\": {\"gridcolor\": \"white\", \"linecolor\": \"white\", \"ticks\": \"\"}, \"bgcolor\": \"#E5ECF6\", \"caxis\": {\"gridcolor\": \"white\", \"linecolor\": \"white\", \"ticks\": \"\"}}, \"title\": {\"x\": 0.05}, \"xaxis\": {\"automargin\": true, \"gridcolor\": \"white\", \"linecolor\": \"white\", \"ticks\": \"\", \"title\": {\"standoff\": 15}, \"zerolinecolor\": \"white\", \"zerolinewidth\": 2}, \"yaxis\": {\"automargin\": true, \"gridcolor\": \"white\", \"linecolor\": \"white\", \"ticks\": \"\", \"title\": {\"standoff\": 15}, \"zerolinecolor\": \"white\", \"zerolinewidth\": 2}}}, \"title\": {\"text\": \"Programming language used regularly by Nigerian Kagglers\"}, \"uniformtext\": {\"minsize\": 8, \"mode\": \"hide\"}},                        {\"responsive\": true}                    ).then(function(){\n",
       "                            \n",
       "var gd = document.getElementById('780ff2e4-ace6-4c8c-a0b4-e84e73a0478a');\n",
       "var x = new MutationObserver(function (mutations, observer) {{\n",
       "        var display = window.getComputedStyle(gd).display;\n",
       "        if (!display || display === 'none') {{\n",
       "            console.log([gd, 'removed!']);\n",
       "            Plotly.purge(gd);\n",
       "            observer.disconnect();\n",
       "        }}\n",
       "}});\n",
       "\n",
       "// Listen for the removal of the full notebook cells\n",
       "var notebookContainer = gd.closest('#notebook-container');\n",
       "if (notebookContainer) {{\n",
       "    x.observe(notebookContainer, {childList: true});\n",
       "}}\n",
       "\n",
       "// Listen for the clearing of the current output cell\n",
       "var outputEl = gd.closest('.output');\n",
       "if (outputEl) {{\n",
       "    x.observe(outputEl, {childList: true});\n",
       "}}\n",
       "\n",
       "                        })                };                });            </script>        </div>"
      ]
     },
     "metadata": {},
     "output_type": "display_data"
    }
   ],
   "source": [
    "\n",
    "\n",
    "prog_lang_ng = pd.DataFrame(nigeria.loc[:,list(nigeria.columns[7:20])].count(), columns=[\"count\"])\n",
    "prog_lang_ng[\"programming language\"] = ['Python', 'R', 'SQL', 'C', 'C++', 'Java', \n",
    "                'Javascript', 'Julia', 'Swift','Bash', 'MATLAB', 'None', 'Other']\n",
    "prog_lang_ng.sort_values(by = \"count\", inplace = True, ascending = False)\n",
    "\n",
    "prog_lang_ng[\"percentage (%)\"] = (prog_lang_ng[\"count\"]/\n",
    "                              prog_lang_ng[\"count\"].sum()) * 100  \n",
    "\n",
    "prog_lang_ng = prog_lang_ng.round(decimals=1)\n",
    "\n",
    "fig = go.Figure(go.Treemap(\n",
    "    labels = prog_lang_ng[\"programming language\"],\n",
    "    values = prog_lang_ng[\"percentage (%)\"],\n",
    "    parents = ['']*prog_lang_ng.shape[0], textinfo = \"percent root+label+text\", marker=dict(\n",
    "        \n",
    "        colorscale='greens',\n",
    "        )\n",
    "))\n",
    "\n",
    "fig.update_layout(uniformtext_minsize=8, uniformtext_mode='hide', \n",
    "                  title= \"Programming language used regularly by Nigerian Kagglers\") \n",
    "fig.show()"
   ]
  },
  {
   "cell_type": "code",
   "execution_count": 27,
   "metadata": {},
   "outputs": [
    {
     "data": {
      "text/html": [
       "<div>\n",
       "<style scoped>\n",
       "    .dataframe tbody tr th:only-of-type {\n",
       "        vertical-align: middle;\n",
       "    }\n",
       "\n",
       "    .dataframe tbody tr th {\n",
       "        vertical-align: top;\n",
       "    }\n",
       "\n",
       "    .dataframe thead th {\n",
       "        text-align: right;\n",
       "    }\n",
       "</style>\n",
       "<table border=\"1\" class=\"dataframe\">\n",
       "  <thead>\n",
       "    <tr style=\"text-align: right;\">\n",
       "      <th></th>\n",
       "      <th>Time from Start to Finish (seconds)</th>\n",
       "      <th>Q1</th>\n",
       "      <th>Q2</th>\n",
       "      <th>Q3</th>\n",
       "      <th>Q4</th>\n",
       "      <th>Q5</th>\n",
       "      <th>Q6</th>\n",
       "      <th>Q7_Part_1</th>\n",
       "      <th>Q7_Part_2</th>\n",
       "      <th>Q7_Part_3</th>\n",
       "      <th>Q7_Part_4</th>\n",
       "      <th>Q7_Part_5</th>\n",
       "      <th>Q7_Part_6</th>\n",
       "      <th>Q7_Part_7</th>\n",
       "      <th>Q7_Part_8</th>\n",
       "      <th>Q7_Part_9</th>\n",
       "      <th>Q7_Part_10</th>\n",
       "      <th>Q7_Part_11</th>\n",
       "      <th>Q7_Part_12</th>\n",
       "      <th>Q7_OTHER</th>\n",
       "      <th>Q8</th>\n",
       "      <th>Q9_Part_1</th>\n",
       "      <th>Q9_Part_2</th>\n",
       "      <th>Q9_Part_3</th>\n",
       "      <th>Q9_Part_4</th>\n",
       "      <th>Q9_Part_5</th>\n",
       "      <th>Q9_Part_6</th>\n",
       "      <th>Q9_Part_7</th>\n",
       "      <th>Q9_Part_8</th>\n",
       "      <th>Q9_Part_9</th>\n",
       "      <th>Q9_Part_10</th>\n",
       "      <th>Q9_Part_11</th>\n",
       "      <th>Q9_Part_12</th>\n",
       "      <th>Q9_OTHER</th>\n",
       "      <th>Q10_Part_1</th>\n",
       "      <th>Q10_Part_2</th>\n",
       "      <th>Q10_Part_3</th>\n",
       "      <th>Q10_Part_4</th>\n",
       "      <th>Q10_Part_5</th>\n",
       "      <th>Q10_Part_6</th>\n",
       "      <th>Q10_Part_7</th>\n",
       "      <th>Q10_Part_8</th>\n",
       "      <th>Q10_Part_9</th>\n",
       "      <th>Q10_Part_10</th>\n",
       "      <th>Q10_Part_11</th>\n",
       "      <th>Q10_Part_12</th>\n",
       "      <th>Q10_Part_13</th>\n",
       "      <th>Q10_Part_14</th>\n",
       "      <th>Q10_Part_15</th>\n",
       "      <th>Q10_Part_16</th>\n",
       "      <th>Q10_OTHER</th>\n",
       "      <th>Q11</th>\n",
       "      <th>Q12_Part_1</th>\n",
       "      <th>Q12_Part_2</th>\n",
       "      <th>Q12_Part_3</th>\n",
       "      <th>Q12_Part_4</th>\n",
       "      <th>Q12_Part_5</th>\n",
       "      <th>Q12_OTHER</th>\n",
       "      <th>Q13</th>\n",
       "      <th>Q14_Part_1</th>\n",
       "      <th>Q14_Part_2</th>\n",
       "      <th>Q14_Part_3</th>\n",
       "      <th>Q14_Part_4</th>\n",
       "      <th>Q14_Part_5</th>\n",
       "      <th>Q14_Part_6</th>\n",
       "      <th>Q14_Part_7</th>\n",
       "      <th>Q14_Part_8</th>\n",
       "      <th>Q14_Part_9</th>\n",
       "      <th>Q14_Part_10</th>\n",
       "      <th>Q14_Part_11</th>\n",
       "      <th>Q14_OTHER</th>\n",
       "      <th>Q15</th>\n",
       "      <th>Q16_Part_1</th>\n",
       "      <th>Q16_Part_2</th>\n",
       "      <th>Q16_Part_3</th>\n",
       "      <th>Q16_Part_4</th>\n",
       "      <th>Q16_Part_5</th>\n",
       "      <th>Q16_Part_6</th>\n",
       "      <th>Q16_Part_7</th>\n",
       "      <th>Q16_Part_8</th>\n",
       "      <th>Q16_Part_9</th>\n",
       "      <th>Q16_Part_10</th>\n",
       "      <th>Q16_Part_11</th>\n",
       "      <th>Q16_Part_12</th>\n",
       "      <th>Q16_Part_13</th>\n",
       "      <th>Q16_Part_14</th>\n",
       "      <th>Q16_Part_15</th>\n",
       "      <th>Q16_Part_16</th>\n",
       "      <th>Q16_Part_17</th>\n",
       "      <th>Q16_OTHER</th>\n",
       "      <th>Q17_Part_1</th>\n",
       "      <th>Q17_Part_2</th>\n",
       "      <th>Q17_Part_3</th>\n",
       "      <th>Q17_Part_4</th>\n",
       "      <th>Q17_Part_5</th>\n",
       "      <th>Q17_Part_6</th>\n",
       "      <th>Q17_Part_7</th>\n",
       "      <th>Q17_Part_8</th>\n",
       "      <th>Q17_Part_9</th>\n",
       "      <th>Q17_Part_10</th>\n",
       "      <th>Q17_Part_11</th>\n",
       "      <th>Q17_OTHER</th>\n",
       "      <th>Q18_Part_1</th>\n",
       "      <th>Q18_Part_2</th>\n",
       "      <th>Q18_Part_3</th>\n",
       "      <th>Q18_Part_4</th>\n",
       "      <th>Q18_Part_5</th>\n",
       "      <th>Q18_Part_6</th>\n",
       "      <th>Q18_OTHER</th>\n",
       "      <th>Q19_Part_1</th>\n",
       "      <th>Q19_Part_2</th>\n",
       "      <th>Q19_Part_3</th>\n",
       "      <th>Q19_Part_4</th>\n",
       "      <th>Q19_Part_5</th>\n",
       "      <th>Q19_OTHER</th>\n",
       "      <th>Q20</th>\n",
       "      <th>Q21</th>\n",
       "      <th>Q22</th>\n",
       "      <th>Q23</th>\n",
       "      <th>Q24_Part_1</th>\n",
       "      <th>Q24_Part_2</th>\n",
       "      <th>Q24_Part_3</th>\n",
       "      <th>Q24_Part_4</th>\n",
       "      <th>Q24_Part_5</th>\n",
       "      <th>Q24_Part_6</th>\n",
       "      <th>Q24_Part_7</th>\n",
       "      <th>Q24_OTHER</th>\n",
       "      <th>Q25</th>\n",
       "      <th>Q26</th>\n",
       "      <th>Q27_A_Part_1</th>\n",
       "      <th>Q27_A_Part_2</th>\n",
       "      <th>Q27_A_Part_3</th>\n",
       "      <th>Q27_A_Part_4</th>\n",
       "      <th>Q27_A_Part_5</th>\n",
       "      <th>Q27_A_Part_6</th>\n",
       "      <th>Q27_A_Part_7</th>\n",
       "      <th>Q27_A_Part_8</th>\n",
       "      <th>Q27_A_Part_9</th>\n",
       "      <th>Q27_A_Part_10</th>\n",
       "      <th>Q27_A_Part_11</th>\n",
       "      <th>Q27_A_OTHER</th>\n",
       "      <th>Q28</th>\n",
       "      <th>Q29_A_Part_1</th>\n",
       "      <th>Q29_A_Part_2</th>\n",
       "      <th>Q29_A_Part_3</th>\n",
       "      <th>Q29_A_Part_4</th>\n",
       "      <th>Q29_A_OTHER</th>\n",
       "      <th>Q30_A_Part_1</th>\n",
       "      <th>Q30_A_Part_2</th>\n",
       "      <th>Q30_A_Part_3</th>\n",
       "      <th>Q30_A_Part_4</th>\n",
       "      <th>Q30_A_Part_5</th>\n",
       "      <th>Q30_A_Part_6</th>\n",
       "      <th>Q30_A_Part_7</th>\n",
       "      <th>Q30_A_OTHER</th>\n",
       "      <th>Q31_A_Part_1</th>\n",
       "      <th>Q31_A_Part_2</th>\n",
       "      <th>Q31_A_Part_3</th>\n",
       "      <th>Q31_A_Part_4</th>\n",
       "      <th>Q31_A_Part_5</th>\n",
       "      <th>Q31_A_Part_6</th>\n",
       "      <th>Q31_A_Part_7</th>\n",
       "      <th>Q31_A_Part_8</th>\n",
       "      <th>Q31_A_Part_9</th>\n",
       "      <th>Q31_A_OTHER</th>\n",
       "      <th>Q32_A_Part_1</th>\n",
       "      <th>Q32_A_Part_2</th>\n",
       "      <th>Q32_A_Part_3</th>\n",
       "      <th>Q32_A_Part_4</th>\n",
       "      <th>Q32_A_Part_5</th>\n",
       "      <th>Q32_A_Part_6</th>\n",
       "      <th>Q32_A_Part_7</th>\n",
       "      <th>Q32_A_Part_8</th>\n",
       "      <th>Q32_A_Part_9</th>\n",
       "      <th>Q32_A_Part_10</th>\n",
       "      <th>Q32_A_Part_11</th>\n",
       "      <th>Q32_A_Part_12</th>\n",
       "      <th>Q32_A_Part_13</th>\n",
       "      <th>Q32_A_Part_14</th>\n",
       "      <th>Q32_A_Part_15</th>\n",
       "      <th>Q32_A_Part_16</th>\n",
       "      <th>Q32_A_Part_17</th>\n",
       "      <th>Q32_A_Part_18</th>\n",
       "      <th>Q32_A_Part_19</th>\n",
       "      <th>Q32_A_Part_20</th>\n",
       "      <th>Q32_A_OTHER</th>\n",
       "      <th>Q33</th>\n",
       "      <th>Q34_A_Part_1</th>\n",
       "      <th>Q34_A_Part_2</th>\n",
       "      <th>Q34_A_Part_3</th>\n",
       "      <th>Q34_A_Part_4</th>\n",
       "      <th>Q34_A_Part_5</th>\n",
       "      <th>Q34_A_Part_6</th>\n",
       "      <th>Q34_A_Part_7</th>\n",
       "      <th>Q34_A_Part_8</th>\n",
       "      <th>Q34_A_Part_9</th>\n",
       "      <th>Q34_A_Part_10</th>\n",
       "      <th>Q34_A_Part_11</th>\n",
       "      <th>Q34_A_Part_12</th>\n",
       "      <th>Q34_A_Part_13</th>\n",
       "      <th>Q34_A_Part_14</th>\n",
       "      <th>Q34_A_Part_15</th>\n",
       "      <th>Q34_A_Part_16</th>\n",
       "      <th>Q34_A_OTHER</th>\n",
       "      <th>Q35</th>\n",
       "      <th>Q36_A_Part_1</th>\n",
       "      <th>Q36_A_Part_2</th>\n",
       "      <th>Q36_A_Part_3</th>\n",
       "      <th>Q36_A_Part_4</th>\n",
       "      <th>Q36_A_Part_5</th>\n",
       "      <th>Q36_A_Part_6</th>\n",
       "      <th>Q36_A_Part_7</th>\n",
       "      <th>Q36_A_OTHER</th>\n",
       "      <th>Q37_A_Part_1</th>\n",
       "      <th>Q37_A_Part_2</th>\n",
       "      <th>Q37_A_Part_3</th>\n",
       "      <th>Q37_A_Part_4</th>\n",
       "      <th>Q37_A_Part_5</th>\n",
       "      <th>Q37_A_Part_6</th>\n",
       "      <th>Q37_A_Part_7</th>\n",
       "      <th>Q37_A_OTHER</th>\n",
       "      <th>Q38_A_Part_1</th>\n",
       "      <th>Q38_A_Part_2</th>\n",
       "      <th>Q38_A_Part_3</th>\n",
       "      <th>Q38_A_Part_4</th>\n",
       "      <th>Q38_A_Part_5</th>\n",
       "      <th>Q38_A_Part_6</th>\n",
       "      <th>Q38_A_Part_7</th>\n",
       "      <th>Q38_A_Part_8</th>\n",
       "      <th>Q38_A_Part_9</th>\n",
       "      <th>Q38_A_Part_10</th>\n",
       "      <th>Q38_A_Part_11</th>\n",
       "      <th>Q38_A_OTHER</th>\n",
       "      <th>Q39_Part_1</th>\n",
       "      <th>Q39_Part_2</th>\n",
       "      <th>Q39_Part_3</th>\n",
       "      <th>Q39_Part_4</th>\n",
       "      <th>Q39_Part_5</th>\n",
       "      <th>Q39_Part_6</th>\n",
       "      <th>Q39_Part_7</th>\n",
       "      <th>Q39_Part_8</th>\n",
       "      <th>Q39_Part_9</th>\n",
       "      <th>Q39_OTHER</th>\n",
       "      <th>Q40_Part_1</th>\n",
       "      <th>Q40_Part_2</th>\n",
       "      <th>Q40_Part_3</th>\n",
       "      <th>Q40_Part_4</th>\n",
       "      <th>Q40_Part_5</th>\n",
       "      <th>Q40_Part_6</th>\n",
       "      <th>Q40_Part_7</th>\n",
       "      <th>Q40_Part_8</th>\n",
       "      <th>Q40_Part_9</th>\n",
       "      <th>Q40_Part_10</th>\n",
       "      <th>Q40_Part_11</th>\n",
       "      <th>Q40_OTHER</th>\n",
       "      <th>Q41</th>\n",
       "      <th>Q42_Part_1</th>\n",
       "      <th>Q42_Part_2</th>\n",
       "      <th>Q42_Part_3</th>\n",
       "      <th>Q42_Part_4</th>\n",
       "      <th>Q42_Part_5</th>\n",
       "      <th>Q42_Part_6</th>\n",
       "      <th>Q42_Part_7</th>\n",
       "      <th>Q42_Part_8</th>\n",
       "      <th>Q42_Part_9</th>\n",
       "      <th>Q42_Part_10</th>\n",
       "      <th>Q42_Part_11</th>\n",
       "      <th>Q42_OTHER</th>\n",
       "      <th>Q27_B_Part_1</th>\n",
       "      <th>Q27_B_Part_2</th>\n",
       "      <th>Q27_B_Part_3</th>\n",
       "      <th>Q27_B_Part_4</th>\n",
       "      <th>Q27_B_Part_5</th>\n",
       "      <th>Q27_B_Part_6</th>\n",
       "      <th>Q27_B_Part_7</th>\n",
       "      <th>Q27_B_Part_8</th>\n",
       "      <th>Q27_B_Part_9</th>\n",
       "      <th>Q27_B_Part_10</th>\n",
       "      <th>Q27_B_Part_11</th>\n",
       "      <th>Q27_B_OTHER</th>\n",
       "      <th>Q29_B_Part_1</th>\n",
       "      <th>Q29_B_Part_2</th>\n",
       "      <th>Q29_B_Part_3</th>\n",
       "      <th>Q29_B_Part_4</th>\n",
       "      <th>Q29_B_OTHER</th>\n",
       "      <th>Q30_B_Part_1</th>\n",
       "      <th>Q30_B_Part_2</th>\n",
       "      <th>Q30_B_Part_3</th>\n",
       "      <th>Q30_B_Part_4</th>\n",
       "      <th>Q30_B_Part_5</th>\n",
       "      <th>Q30_B_Part_6</th>\n",
       "      <th>Q30_B_Part_7</th>\n",
       "      <th>Q30_B_OTHER</th>\n",
       "      <th>Q31_B_Part_1</th>\n",
       "      <th>Q31_B_Part_2</th>\n",
       "      <th>Q31_B_Part_3</th>\n",
       "      <th>Q31_B_Part_4</th>\n",
       "      <th>Q31_B_Part_5</th>\n",
       "      <th>Q31_B_Part_6</th>\n",
       "      <th>Q31_B_Part_7</th>\n",
       "      <th>Q31_B_Part_8</th>\n",
       "      <th>Q31_B_Part_9</th>\n",
       "      <th>Q31_B_OTHER</th>\n",
       "      <th>Q32_B_Part_1</th>\n",
       "      <th>Q32_B_Part_2</th>\n",
       "      <th>Q32_B_Part_3</th>\n",
       "      <th>Q32_B_Part_4</th>\n",
       "      <th>Q32_B_Part_5</th>\n",
       "      <th>Q32_B_Part_6</th>\n",
       "      <th>Q32_B_Part_7</th>\n",
       "      <th>Q32_B_Part_8</th>\n",
       "      <th>Q32_B_Part_9</th>\n",
       "      <th>Q32_B_Part_10</th>\n",
       "      <th>Q32_B_Part_11</th>\n",
       "      <th>Q32_B_Part_12</th>\n",
       "      <th>Q32_B_Part_13</th>\n",
       "      <th>Q32_B_Part_14</th>\n",
       "      <th>Q32_B_Part_15</th>\n",
       "      <th>Q32_B_Part_16</th>\n",
       "      <th>Q32_B_Part_17</th>\n",
       "      <th>Q32_B_Part_18</th>\n",
       "      <th>Q32_B_Part_19</th>\n",
       "      <th>Q32_B_Part_20</th>\n",
       "      <th>Q32_B_OTHER</th>\n",
       "      <th>Q34_B_Part_1</th>\n",
       "      <th>Q34_B_Part_2</th>\n",
       "      <th>Q34_B_Part_3</th>\n",
       "      <th>Q34_B_Part_4</th>\n",
       "      <th>Q34_B_Part_5</th>\n",
       "      <th>Q34_B_Part_6</th>\n",
       "      <th>Q34_B_Part_7</th>\n",
       "      <th>Q34_B_Part_8</th>\n",
       "      <th>Q34_B_Part_9</th>\n",
       "      <th>Q34_B_Part_10</th>\n",
       "      <th>Q34_B_Part_11</th>\n",
       "      <th>Q34_B_Part_12</th>\n",
       "      <th>Q34_B_Part_13</th>\n",
       "      <th>Q34_B_Part_14</th>\n",
       "      <th>Q34_B_Part_15</th>\n",
       "      <th>Q34_B_Part_16</th>\n",
       "      <th>Q34_B_OTHER</th>\n",
       "      <th>Q36_B_Part_1</th>\n",
       "      <th>Q36_B_Part_2</th>\n",
       "      <th>Q36_B_Part_3</th>\n",
       "      <th>Q36_B_Part_4</th>\n",
       "      <th>Q36_B_Part_5</th>\n",
       "      <th>Q36_B_Part_6</th>\n",
       "      <th>Q36_B_Part_7</th>\n",
       "      <th>Q36_B_OTHER</th>\n",
       "      <th>Q37_B_Part_1</th>\n",
       "      <th>Q37_B_Part_2</th>\n",
       "      <th>Q37_B_Part_3</th>\n",
       "      <th>Q37_B_Part_4</th>\n",
       "      <th>Q37_B_Part_5</th>\n",
       "      <th>Q37_B_Part_6</th>\n",
       "      <th>Q37_B_Part_7</th>\n",
       "      <th>Q37_B_OTHER</th>\n",
       "      <th>Q38_B_Part_1</th>\n",
       "      <th>Q38_B_Part_2</th>\n",
       "      <th>Q38_B_Part_3</th>\n",
       "      <th>Q38_B_Part_4</th>\n",
       "      <th>Q38_B_Part_5</th>\n",
       "      <th>Q38_B_Part_6</th>\n",
       "      <th>Q38_B_Part_7</th>\n",
       "      <th>Q38_B_Part_8</th>\n",
       "      <th>Q38_B_Part_9</th>\n",
       "      <th>Q38_B_Part_10</th>\n",
       "      <th>Q38_B_Part_11</th>\n",
       "      <th>Q38_B_OTHER</th>\n",
       "    </tr>\n",
       "  </thead>\n",
       "  <tbody>\n",
       "    <tr>\n",
       "      <th>0</th>\n",
       "      <td>Duration (in seconds)</td>\n",
       "      <td>What is your age (# years)?</td>\n",
       "      <td>What is your gender? - Selected Choice</td>\n",
       "      <td>In which country do you currently reside?</td>\n",
       "      <td>What is the highest level of formal education ...</td>\n",
       "      <td>Select the title most similar to your current ...</td>\n",
       "      <td>For how many years have you been writing code ...</td>\n",
       "      <td>What programming languages do you use on a reg...</td>\n",
       "      <td>What programming languages do you use on a reg...</td>\n",
       "      <td>What programming languages do you use on a reg...</td>\n",
       "      <td>What programming languages do you use on a reg...</td>\n",
       "      <td>What programming languages do you use on a reg...</td>\n",
       "      <td>What programming languages do you use on a reg...</td>\n",
       "      <td>What programming languages do you use on a reg...</td>\n",
       "      <td>What programming languages do you use on a reg...</td>\n",
       "      <td>What programming languages do you use on a reg...</td>\n",
       "      <td>What programming languages do you use on a reg...</td>\n",
       "      <td>What programming languages do you use on a reg...</td>\n",
       "      <td>What programming languages do you use on a reg...</td>\n",
       "      <td>What programming languages do you use on a reg...</td>\n",
       "      <td>What programming language would you recommend ...</td>\n",
       "      <td>Which of the following integrated development ...</td>\n",
       "      <td>Which of the following integrated development ...</td>\n",
       "      <td>Which of the following integrated development ...</td>\n",
       "      <td>Which of the following integrated development ...</td>\n",
       "      <td>Which of the following integrated development ...</td>\n",
       "      <td>Which of the following integrated development ...</td>\n",
       "      <td>Which of the following integrated development ...</td>\n",
       "      <td>Which of the following integrated development ...</td>\n",
       "      <td>Which of the following integrated development ...</td>\n",
       "      <td>Which of the following integrated development ...</td>\n",
       "      <td>Which of the following integrated development ...</td>\n",
       "      <td>Which of the following integrated development ...</td>\n",
       "      <td>Which of the following integrated development ...</td>\n",
       "      <td>Which of the following hosted notebook product...</td>\n",
       "      <td>Which of the following hosted notebook product...</td>\n",
       "      <td>Which of the following hosted notebook product...</td>\n",
       "      <td>Which of the following hosted notebook product...</td>\n",
       "      <td>Which of the following hosted notebook product...</td>\n",
       "      <td>Which of the following hosted notebook product...</td>\n",
       "      <td>Which of the following hosted notebook product...</td>\n",
       "      <td>Which of the following hosted notebook product...</td>\n",
       "      <td>Which of the following hosted notebook product...</td>\n",
       "      <td>Which of the following hosted notebook product...</td>\n",
       "      <td>Which of the following hosted notebook product...</td>\n",
       "      <td>Which of the following hosted notebook product...</td>\n",
       "      <td>Which of the following hosted notebook product...</td>\n",
       "      <td>Which of the following hosted notebook product...</td>\n",
       "      <td>Which of the following hosted notebook product...</td>\n",
       "      <td>Which of the following hosted notebook product...</td>\n",
       "      <td>Which of the following hosted notebook product...</td>\n",
       "      <td>What type of computing platform do you use mos...</td>\n",
       "      <td>Which types of specialized hardware do you use...</td>\n",
       "      <td>Which types of specialized hardware do you use...</td>\n",
       "      <td>Which types of specialized hardware do you use...</td>\n",
       "      <td>Which types of specialized hardware do you use...</td>\n",
       "      <td>Which types of specialized hardware do you use...</td>\n",
       "      <td>Which types of specialized hardware do you use...</td>\n",
       "      <td>Approximately how many times have you used a T...</td>\n",
       "      <td>What data visualization libraries or tools do ...</td>\n",
       "      <td>What data visualization libraries or tools do ...</td>\n",
       "      <td>What data visualization libraries or tools do ...</td>\n",
       "      <td>What data visualization libraries or tools do ...</td>\n",
       "      <td>What data visualization libraries or tools do ...</td>\n",
       "      <td>What data visualization libraries or tools do ...</td>\n",
       "      <td>What data visualization libraries or tools do ...</td>\n",
       "      <td>What data visualization libraries or tools do ...</td>\n",
       "      <td>What data visualization libraries or tools do ...</td>\n",
       "      <td>What data visualization libraries or tools do ...</td>\n",
       "      <td>What data visualization libraries or tools do ...</td>\n",
       "      <td>What data visualization libraries or tools do ...</td>\n",
       "      <td>For how many years have you used machine learn...</td>\n",
       "      <td>Which of the following machine learning framew...</td>\n",
       "      <td>Which of the following machine learning framew...</td>\n",
       "      <td>Which of the following machine learning framew...</td>\n",
       "      <td>Which of the following machine learning framew...</td>\n",
       "      <td>Which of the following machine learning framew...</td>\n",
       "      <td>Which of the following machine learning framew...</td>\n",
       "      <td>Which of the following machine learning framew...</td>\n",
       "      <td>Which of the following machine learning framew...</td>\n",
       "      <td>Which of the following machine learning framew...</td>\n",
       "      <td>Which of the following machine learning framew...</td>\n",
       "      <td>Which of the following machine learning framew...</td>\n",
       "      <td>Which of the following machine learning framew...</td>\n",
       "      <td>Which of the following machine learning framew...</td>\n",
       "      <td>Which of the following machine learning framew...</td>\n",
       "      <td>Which of the following machine learning framew...</td>\n",
       "      <td>Which of the following machine learning framew...</td>\n",
       "      <td>Which of the following machine learning framew...</td>\n",
       "      <td>Which of the following machine learning framew...</td>\n",
       "      <td>Which of the following ML algorithms do you us...</td>\n",
       "      <td>Which of the following ML algorithms do you us...</td>\n",
       "      <td>Which of the following ML algorithms do you us...</td>\n",
       "      <td>Which of the following ML algorithms do you us...</td>\n",
       "      <td>Which of the following ML algorithms do you us...</td>\n",
       "      <td>Which of the following ML algorithms do you us...</td>\n",
       "      <td>Which of the following ML algorithms do you us...</td>\n",
       "      <td>Which of the following ML algorithms do you us...</td>\n",
       "      <td>Which of the following ML algorithms do you us...</td>\n",
       "      <td>Which of the following ML algorithms do you us...</td>\n",
       "      <td>Which of the following ML algorithms do you us...</td>\n",
       "      <td>Which of the following ML algorithms do you us...</td>\n",
       "      <td>Which categories of computer vision methods do...</td>\n",
       "      <td>Which categories of computer vision methods do...</td>\n",
       "      <td>Which categories of computer vision methods do...</td>\n",
       "      <td>Which categories of computer vision methods do...</td>\n",
       "      <td>Which categories of computer vision methods do...</td>\n",
       "      <td>Which categories of computer vision methods do...</td>\n",
       "      <td>Which categories of computer vision methods do...</td>\n",
       "      <td>Which of the following natural language proces...</td>\n",
       "      <td>Which of the following natural language proces...</td>\n",
       "      <td>Which of the following natural language proces...</td>\n",
       "      <td>Which of the following natural language proces...</td>\n",
       "      <td>Which of the following natural language proces...</td>\n",
       "      <td>Which of the following natural language proces...</td>\n",
       "      <td>In what industry is your current employer/cont...</td>\n",
       "      <td>What is the size of the company where you are ...</td>\n",
       "      <td>Approximately how many individuals are respons...</td>\n",
       "      <td>Does your current employer incorporate machine...</td>\n",
       "      <td>Select any activities that make up an importan...</td>\n",
       "      <td>Select any activities that make up an importan...</td>\n",
       "      <td>Select any activities that make up an importan...</td>\n",
       "      <td>Select any activities that make up an importan...</td>\n",
       "      <td>Select any activities that make up an importan...</td>\n",
       "      <td>Select any activities that make up an importan...</td>\n",
       "      <td>Select any activities that make up an importan...</td>\n",
       "      <td>Select any activities that make up an importan...</td>\n",
       "      <td>What is your current yearly compensation (appr...</td>\n",
       "      <td>Approximately how much money have you (or your...</td>\n",
       "      <td>Which of the following cloud computing platfor...</td>\n",
       "      <td>Which of the following cloud computing platfor...</td>\n",
       "      <td>Which of the following cloud computing platfor...</td>\n",
       "      <td>Which of the following cloud computing platfor...</td>\n",
       "      <td>Which of the following cloud computing platfor...</td>\n",
       "      <td>Which of the following cloud computing platfor...</td>\n",
       "      <td>Which of the following cloud computing platfor...</td>\n",
       "      <td>Which of the following cloud computing platfor...</td>\n",
       "      <td>Which of the following cloud computing platfor...</td>\n",
       "      <td>Which of the following cloud computing platfor...</td>\n",
       "      <td>Which of the following cloud computing platfor...</td>\n",
       "      <td>Which of the following cloud computing platfor...</td>\n",
       "      <td>Of the cloud platforms that you are familiar w...</td>\n",
       "      <td>Do you use any of the following cloud computin...</td>\n",
       "      <td>Do you use any of the following cloud computin...</td>\n",
       "      <td>Do you use any of the following cloud computin...</td>\n",
       "      <td>Do you use any of the following cloud computin...</td>\n",
       "      <td>Do you use any of the following cloud computin...</td>\n",
       "      <td>Do you use any of the following data storage p...</td>\n",
       "      <td>Do you use any of the following data storage p...</td>\n",
       "      <td>Do you use any of the following data storage p...</td>\n",
       "      <td>Do you use any of the following data storage p...</td>\n",
       "      <td>Do you use any of the following data storage p...</td>\n",
       "      <td>Do you use any of the following data storage p...</td>\n",
       "      <td>Do you use any of the following data storage p...</td>\n",
       "      <td>Do you use any of the following data storage p...</td>\n",
       "      <td>Do you use any of the following managed machin...</td>\n",
       "      <td>Do you use any of the following managed machin...</td>\n",
       "      <td>Do you use any of the following managed machin...</td>\n",
       "      <td>Do you use any of the following managed machin...</td>\n",
       "      <td>Do you use any of the following managed machin...</td>\n",
       "      <td>Do you use any of the following managed machin...</td>\n",
       "      <td>Do you use any of the following managed machin...</td>\n",
       "      <td>Do you use any of the following managed machin...</td>\n",
       "      <td>Do you use any of the following managed machin...</td>\n",
       "      <td>Do you use any of the following managed machin...</td>\n",
       "      <td>Which of the following big data products (rela...</td>\n",
       "      <td>Which of the following big data products (rela...</td>\n",
       "      <td>Which of the following big data products (rela...</td>\n",
       "      <td>Which of the following big data products (rela...</td>\n",
       "      <td>Which of the following big data products (rela...</td>\n",
       "      <td>Which of the following big data products (rela...</td>\n",
       "      <td>Which of the following big data products (rela...</td>\n",
       "      <td>Which of the following big data products (rela...</td>\n",
       "      <td>Which of the following big data products (rela...</td>\n",
       "      <td>Which of the following big data products (rela...</td>\n",
       "      <td>Which of the following big data products (rela...</td>\n",
       "      <td>Which of the following big data products (rela...</td>\n",
       "      <td>Which of the following big data products (rela...</td>\n",
       "      <td>Which of the following big data products (rela...</td>\n",
       "      <td>Which of the following big data products (rela...</td>\n",
       "      <td>Which of the following big data products (rela...</td>\n",
       "      <td>Which of the following big data products (rela...</td>\n",
       "      <td>Which of the following big data products (rela...</td>\n",
       "      <td>Which of the following big data products (rela...</td>\n",
       "      <td>Which of the following big data products (rela...</td>\n",
       "      <td>Which of the following big data products (rela...</td>\n",
       "      <td>Which of the following big data products (rela...</td>\n",
       "      <td>Which of the following business intelligence t...</td>\n",
       "      <td>Which of the following business intelligence t...</td>\n",
       "      <td>Which of the following business intelligence t...</td>\n",
       "      <td>Which of the following business intelligence t...</td>\n",
       "      <td>Which of the following business intelligence t...</td>\n",
       "      <td>Which of the following business intelligence t...</td>\n",
       "      <td>Which of the following business intelligence t...</td>\n",
       "      <td>Which of the following business intelligence t...</td>\n",
       "      <td>Which of the following business intelligence t...</td>\n",
       "      <td>Which of the following business intelligence t...</td>\n",
       "      <td>Which of the following business intelligence t...</td>\n",
       "      <td>Which of the following business intelligence t...</td>\n",
       "      <td>Which of the following business intelligence t...</td>\n",
       "      <td>Which of the following business intelligence t...</td>\n",
       "      <td>Which of the following business intelligence t...</td>\n",
       "      <td>Which of the following business intelligence t...</td>\n",
       "      <td>Which of the following business intelligence t...</td>\n",
       "      <td>Which of the following business intelligence t...</td>\n",
       "      <td>Do you use any automated machine learning tool...</td>\n",
       "      <td>Do you use any automated machine learning tool...</td>\n",
       "      <td>Do you use any automated machine learning tool...</td>\n",
       "      <td>Do you use any automated machine learning tool...</td>\n",
       "      <td>Do you use any automated machine learning tool...</td>\n",
       "      <td>Do you use any automated machine learning tool...</td>\n",
       "      <td>Do you use any automated machine learning tool...</td>\n",
       "      <td>Do you use any automated machine learning tool...</td>\n",
       "      <td>Which of the following automated machine learn...</td>\n",
       "      <td>Which of the following automated machine learn...</td>\n",
       "      <td>Which of the following automated machine learn...</td>\n",
       "      <td>Which of the following automated machine learn...</td>\n",
       "      <td>Which of the following automated machine learn...</td>\n",
       "      <td>Which of the following automated machine learn...</td>\n",
       "      <td>Which of the following automated machine learn...</td>\n",
       "      <td>Which of the following automated machine learn...</td>\n",
       "      <td>Do you use any tools to help manage machine le...</td>\n",
       "      <td>Do you use any tools to help manage machine le...</td>\n",
       "      <td>Do you use any tools to help manage machine le...</td>\n",
       "      <td>Do you use any tools to help manage machine le...</td>\n",
       "      <td>Do you use any tools to help manage machine le...</td>\n",
       "      <td>Do you use any tools to help manage machine le...</td>\n",
       "      <td>Do you use any tools to help manage machine le...</td>\n",
       "      <td>Do you use any tools to help manage machine le...</td>\n",
       "      <td>Do you use any tools to help manage machine le...</td>\n",
       "      <td>Do you use any tools to help manage machine le...</td>\n",
       "      <td>Do you use any tools to help manage machine le...</td>\n",
       "      <td>Do you use any tools to help manage machine le...</td>\n",
       "      <td>Where do you publicly share your data analysis...</td>\n",
       "      <td>Where do you publicly share your data analysis...</td>\n",
       "      <td>Where do you publicly share your data analysis...</td>\n",
       "      <td>Where do you publicly share your data analysis...</td>\n",
       "      <td>Where do you publicly share your data analysis...</td>\n",
       "      <td>Where do you publicly share your data analysis...</td>\n",
       "      <td>Where do you publicly share your data analysis...</td>\n",
       "      <td>Where do you publicly share your data analysis...</td>\n",
       "      <td>Where do you publicly share your data analysis...</td>\n",
       "      <td>Where do you publicly share your data analysis...</td>\n",
       "      <td>On which platforms have you begun or completed...</td>\n",
       "      <td>On which platforms have you begun or completed...</td>\n",
       "      <td>On which platforms have you begun or completed...</td>\n",
       "      <td>On which platforms have you begun or completed...</td>\n",
       "      <td>On which platforms have you begun or completed...</td>\n",
       "      <td>On which platforms have you begun or completed...</td>\n",
       "      <td>On which platforms have you begun or completed...</td>\n",
       "      <td>On which platforms have you begun or completed...</td>\n",
       "      <td>On which platforms have you begun or completed...</td>\n",
       "      <td>On which platforms have you begun or completed...</td>\n",
       "      <td>On which platforms have you begun or completed...</td>\n",
       "      <td>On which platforms have you begun or completed...</td>\n",
       "      <td>What is the primary tool that you use at work ...</td>\n",
       "      <td>Who/what are your favorite media sources that ...</td>\n",
       "      <td>Who/what are your favorite media sources that ...</td>\n",
       "      <td>Who/what are your favorite media sources that ...</td>\n",
       "      <td>Who/what are your favorite media sources that ...</td>\n",
       "      <td>Who/what are your favorite media sources that ...</td>\n",
       "      <td>Who/what are your favorite media sources that ...</td>\n",
       "      <td>Who/what are your favorite media sources that ...</td>\n",
       "      <td>Who/what are your favorite media sources that ...</td>\n",
       "      <td>Who/what are your favorite media sources that ...</td>\n",
       "      <td>Who/what are your favorite media sources that ...</td>\n",
       "      <td>Who/what are your favorite media sources that ...</td>\n",
       "      <td>Who/what are your favorite media sources that ...</td>\n",
       "      <td>Which of the following cloud computing platfor...</td>\n",
       "      <td>Which of the following cloud computing platfor...</td>\n",
       "      <td>Which of the following cloud computing platfor...</td>\n",
       "      <td>Which of the following cloud computing platfor...</td>\n",
       "      <td>Which of the following cloud computing platfor...</td>\n",
       "      <td>Which of the following cloud computing platfor...</td>\n",
       "      <td>Which of the following cloud computing platfor...</td>\n",
       "      <td>Which of the following cloud computing platfor...</td>\n",
       "      <td>Which of the following cloud computing platfor...</td>\n",
       "      <td>Which of the following cloud computing platfor...</td>\n",
       "      <td>Which of the following cloud computing platfor...</td>\n",
       "      <td>Which of the following cloud computing platfor...</td>\n",
       "      <td>In the next 2 years, do you hope to become mor...</td>\n",
       "      <td>In the next 2 years, do you hope to become mor...</td>\n",
       "      <td>In the next 2 years, do you hope to become mor...</td>\n",
       "      <td>In the next 2 years, do you hope to become mor...</td>\n",
       "      <td>In the next 2 years, do you hope to become mor...</td>\n",
       "      <td>In the next 2 years, do you hope to become mor...</td>\n",
       "      <td>In the next 2 years, do you hope to become mor...</td>\n",
       "      <td>In the next 2 years, do you hope to become mor...</td>\n",
       "      <td>In the next 2 years, do you hope to become mor...</td>\n",
       "      <td>In the next 2 years, do you hope to become mor...</td>\n",
       "      <td>In the next 2 years, do you hope to become mor...</td>\n",
       "      <td>In the next 2 years, do you hope to become mor...</td>\n",
       "      <td>In the next 2 years, do you hope to become mor...</td>\n",
       "      <td>In the next 2 years, do you hope to become mor...</td>\n",
       "      <td>In the next 2 years, do you hope to become mor...</td>\n",
       "      <td>In the next 2 years, do you hope to become mor...</td>\n",
       "      <td>In the next 2 years, do you hope to become mor...</td>\n",
       "      <td>In the next 2 years, do you hope to become mor...</td>\n",
       "      <td>In the next 2 years, do you hope to become mor...</td>\n",
       "      <td>In the next 2 years, do you hope to become mor...</td>\n",
       "      <td>In the next 2 years, do you hope to become mor...</td>\n",
       "      <td>In the next 2 years, do you hope to become mor...</td>\n",
       "      <td>In the next 2 years, do you hope to become mor...</td>\n",
       "      <td>Which of the following big data products (rela...</td>\n",
       "      <td>Which of the following big data products (rela...</td>\n",
       "      <td>Which of the following big data products (rela...</td>\n",
       "      <td>Which of the following big data products (rela...</td>\n",
       "      <td>Which of the following big data products (rela...</td>\n",
       "      <td>Which of the following big data products (rela...</td>\n",
       "      <td>Which of the following big data products (rela...</td>\n",
       "      <td>Which of the following big data products (rela...</td>\n",
       "      <td>Which of the following big data products (rela...</td>\n",
       "      <td>Which of the following big data products (rela...</td>\n",
       "      <td>Which of the following big data products (rela...</td>\n",
       "      <td>Which of the following big data products (rela...</td>\n",
       "      <td>Which of the following big data products (rela...</td>\n",
       "      <td>Which of the following big data products (rela...</td>\n",
       "      <td>Which of the following big data products (rela...</td>\n",
       "      <td>Which of the following big data products (rela...</td>\n",
       "      <td>Which of the following big data products (rela...</td>\n",
       "      <td>Which of the following big data products (rela...</td>\n",
       "      <td>Which of the following big data products (rela...</td>\n",
       "      <td>Which of the following big data products (rela...</td>\n",
       "      <td>Which of the following big data products (rela...</td>\n",
       "      <td>Which of the following business intelligence t...</td>\n",
       "      <td>Which of the following business intelligence t...</td>\n",
       "      <td>Which of the following business intelligence t...</td>\n",
       "      <td>Which of the following business intelligence t...</td>\n",
       "      <td>Which of the following business intelligence t...</td>\n",
       "      <td>Which of the following business intelligence t...</td>\n",
       "      <td>Which of the following business intelligence t...</td>\n",
       "      <td>Which of the following business intelligence t...</td>\n",
       "      <td>Which of the following business intelligence t...</td>\n",
       "      <td>Which of the following business intelligence t...</td>\n",
       "      <td>Which of the following business intelligence t...</td>\n",
       "      <td>Which of the following business intelligence t...</td>\n",
       "      <td>Which of the following business intelligence t...</td>\n",
       "      <td>Which of the following business intelligence t...</td>\n",
       "      <td>Which of the following business intelligence t...</td>\n",
       "      <td>Which of the following business intelligence t...</td>\n",
       "      <td>Which of the following business intelligence t...</td>\n",
       "      <td>Which categories of automated machine learning...</td>\n",
       "      <td>Which categories of automated machine learning...</td>\n",
       "      <td>Which categories of automated machine learning...</td>\n",
       "      <td>Which categories of automated machine learning...</td>\n",
       "      <td>Which categories of automated machine learning...</td>\n",
       "      <td>Which categories of automated machine learning...</td>\n",
       "      <td>Which categories of automated machine learning...</td>\n",
       "      <td>Which categories of automated machine learning...</td>\n",
       "      <td>Which specific automated machine learning tool...</td>\n",
       "      <td>Which specific automated machine learning tool...</td>\n",
       "      <td>Which specific automated machine learning tool...</td>\n",
       "      <td>Which specific automated machine learning tool...</td>\n",
       "      <td>Which specific automated machine learning tool...</td>\n",
       "      <td>Which specific automated machine learning tool...</td>\n",
       "      <td>Which specific automated machine learning tool...</td>\n",
       "      <td>Which specific automated machine learning tool...</td>\n",
       "      <td>In the next 2 years, do you hope to become mor...</td>\n",
       "      <td>In the next 2 years, do you hope to become mor...</td>\n",
       "      <td>In the next 2 years, do you hope to become mor...</td>\n",
       "      <td>In the next 2 years, do you hope to become mor...</td>\n",
       "      <td>In the next 2 years, do you hope to become mor...</td>\n",
       "      <td>In the next 2 years, do you hope to become mor...</td>\n",
       "      <td>In the next 2 years, do you hope to become mor...</td>\n",
       "      <td>In the next 2 years, do you hope to become mor...</td>\n",
       "      <td>In the next 2 years, do you hope to become mor...</td>\n",
       "      <td>In the next 2 years, do you hope to become mor...</td>\n",
       "      <td>In the next 2 years, do you hope to become mor...</td>\n",
       "      <td>In the next 2 years, do you hope to become mor...</td>\n",
       "    </tr>\n",
       "    <tr>\n",
       "      <th>1</th>\n",
       "      <td>910</td>\n",
       "      <td>50-54</td>\n",
       "      <td>Man</td>\n",
       "      <td>India</td>\n",
       "      <td>Bachelor’s degree</td>\n",
       "      <td>Other</td>\n",
       "      <td>5-10 years</td>\n",
       "      <td>Python</td>\n",
       "      <td>R</td>\n",
       "      <td>NaN</td>\n",
       "      <td>NaN</td>\n",
       "      <td>NaN</td>\n",
       "      <td>NaN</td>\n",
       "      <td>NaN</td>\n",
       "      <td>NaN</td>\n",
       "      <td>NaN</td>\n",
       "      <td>NaN</td>\n",
       "      <td>NaN</td>\n",
       "      <td>NaN</td>\n",
       "      <td>NaN</td>\n",
       "      <td>Python</td>\n",
       "      <td>NaN</td>\n",
       "      <td>NaN</td>\n",
       "      <td>NaN</td>\n",
       "      <td>NaN</td>\n",
       "      <td>NaN</td>\n",
       "      <td>NaN</td>\n",
       "      <td>NaN</td>\n",
       "      <td>NaN</td>\n",
       "      <td>Vim / Emacs</td>\n",
       "      <td>NaN</td>\n",
       "      <td>NaN</td>\n",
       "      <td>NaN</td>\n",
       "      <td>NaN</td>\n",
       "      <td>NaN</td>\n",
       "      <td>Colab Notebooks</td>\n",
       "      <td>NaN</td>\n",
       "      <td>NaN</td>\n",
       "      <td>NaN</td>\n",
       "      <td>NaN</td>\n",
       "      <td>NaN</td>\n",
       "      <td>NaN</td>\n",
       "      <td>NaN</td>\n",
       "      <td>NaN</td>\n",
       "      <td>NaN</td>\n",
       "      <td>NaN</td>\n",
       "      <td>NaN</td>\n",
       "      <td>NaN</td>\n",
       "      <td>NaN</td>\n",
       "      <td>NaN</td>\n",
       "      <td>NaN</td>\n",
       "      <td>A laptop</td>\n",
       "      <td>NaN</td>\n",
       "      <td>Google Cloud TPUs</td>\n",
       "      <td>NaN</td>\n",
       "      <td>NaN</td>\n",
       "      <td>NaN</td>\n",
       "      <td>NaN</td>\n",
       "      <td>2-5 times</td>\n",
       "      <td>Matplotlib</td>\n",
       "      <td>Seaborn</td>\n",
       "      <td>NaN</td>\n",
       "      <td>Ggplot / ggplot2</td>\n",
       "      <td>Shiny</td>\n",
       "      <td>NaN</td>\n",
       "      <td>NaN</td>\n",
       "      <td>NaN</td>\n",
       "      <td>NaN</td>\n",
       "      <td>Leaflet / Folium</td>\n",
       "      <td>NaN</td>\n",
       "      <td>NaN</td>\n",
       "      <td>5-10 years</td>\n",
       "      <td>Scikit-learn</td>\n",
       "      <td>TensorFlow</td>\n",
       "      <td>NaN</td>\n",
       "      <td>NaN</td>\n",
       "      <td>NaN</td>\n",
       "      <td>NaN</td>\n",
       "      <td>NaN</td>\n",
       "      <td>NaN</td>\n",
       "      <td>NaN</td>\n",
       "      <td>NaN</td>\n",
       "      <td>NaN</td>\n",
       "      <td>Caret</td>\n",
       "      <td>NaN</td>\n",
       "      <td>NaN</td>\n",
       "      <td>NaN</td>\n",
       "      <td>NaN</td>\n",
       "      <td>NaN</td>\n",
       "      <td>NaN</td>\n",
       "      <td>Linear or Logistic Regression</td>\n",
       "      <td>Decision Trees or Random Forests</td>\n",
       "      <td>Gradient Boosting Machines (xgboost, lightgbm,...</td>\n",
       "      <td>Bayesian Approaches</td>\n",
       "      <td>NaN</td>\n",
       "      <td>Dense Neural Networks (MLPs, etc)</td>\n",
       "      <td>Convolutional Neural Networks</td>\n",
       "      <td>NaN</td>\n",
       "      <td>Recurrent Neural Networks</td>\n",
       "      <td>NaN</td>\n",
       "      <td>NaN</td>\n",
       "      <td>NaN</td>\n",
       "      <td>General purpose image/video tools (PIL, cv2, s...</td>\n",
       "      <td>NaN</td>\n",
       "      <td>NaN</td>\n",
       "      <td>NaN</td>\n",
       "      <td>NaN</td>\n",
       "      <td>NaN</td>\n",
       "      <td>NaN</td>\n",
       "      <td>Word embeddings/vectors (GLoVe, fastText, word...</td>\n",
       "      <td>NaN</td>\n",
       "      <td>NaN</td>\n",
       "      <td>NaN</td>\n",
       "      <td>NaN</td>\n",
       "      <td>NaN</td>\n",
       "      <td>Manufacturing/Fabrication</td>\n",
       "      <td>50-249 employees</td>\n",
       "      <td>3-4</td>\n",
       "      <td>No (we do not use ML methods)</td>\n",
       "      <td>NaN</td>\n",
       "      <td>NaN</td>\n",
       "      <td>NaN</td>\n",
       "      <td>NaN</td>\n",
       "      <td>NaN</td>\n",
       "      <td>NaN</td>\n",
       "      <td>None of these activities are an important part...</td>\n",
       "      <td>NaN</td>\n",
       "      <td>25,000-29,999</td>\n",
       "      <td>$100-$999</td>\n",
       "      <td>NaN</td>\n",
       "      <td>NaN</td>\n",
       "      <td>Google Cloud Platform (GCP)</td>\n",
       "      <td>NaN</td>\n",
       "      <td>NaN</td>\n",
       "      <td>NaN</td>\n",
       "      <td>NaN</td>\n",
       "      <td>NaN</td>\n",
       "      <td>NaN</td>\n",
       "      <td>NaN</td>\n",
       "      <td>NaN</td>\n",
       "      <td>NaN</td>\n",
       "      <td>NaN</td>\n",
       "      <td>NaN</td>\n",
       "      <td>NaN</td>\n",
       "      <td>Google Cloud Compute Engine</td>\n",
       "      <td>NaN</td>\n",
       "      <td>NaN</td>\n",
       "      <td>NaN</td>\n",
       "      <td>NaN</td>\n",
       "      <td>NaN</td>\n",
       "      <td>NaN</td>\n",
       "      <td>Google Cloud Storage (GCS)</td>\n",
       "      <td>NaN</td>\n",
       "      <td>NaN</td>\n",
       "      <td>NaN</td>\n",
       "      <td>NaN</td>\n",
       "      <td>NaN</td>\n",
       "      <td>NaN</td>\n",
       "      <td>NaN</td>\n",
       "      <td>NaN</td>\n",
       "      <td>NaN</td>\n",
       "      <td>NaN</td>\n",
       "      <td>NaN</td>\n",
       "      <td>No / None</td>\n",
       "      <td>NaN</td>\n",
       "      <td>NaN</td>\n",
       "      <td>PostgreSQL</td>\n",
       "      <td>NaN</td>\n",
       "      <td>NaN</td>\n",
       "      <td>NaN</td>\n",
       "      <td>NaN</td>\n",
       "      <td>NaN</td>\n",
       "      <td>NaN</td>\n",
       "      <td>NaN</td>\n",
       "      <td>NaN</td>\n",
       "      <td>NaN</td>\n",
       "      <td>NaN</td>\n",
       "      <td>NaN</td>\n",
       "      <td>NaN</td>\n",
       "      <td>NaN</td>\n",
       "      <td>NaN</td>\n",
       "      <td>NaN</td>\n",
       "      <td>NaN</td>\n",
       "      <td>NaN</td>\n",
       "      <td>NaN</td>\n",
       "      <td>NaN</td>\n",
       "      <td>NaN</td>\n",
       "      <td>NaN</td>\n",
       "      <td>NaN</td>\n",
       "      <td>NaN</td>\n",
       "      <td>NaN</td>\n",
       "      <td>NaN</td>\n",
       "      <td>NaN</td>\n",
       "      <td>NaN</td>\n",
       "      <td>NaN</td>\n",
       "      <td>NaN</td>\n",
       "      <td>NaN</td>\n",
       "      <td>NaN</td>\n",
       "      <td>NaN</td>\n",
       "      <td>NaN</td>\n",
       "      <td>NaN</td>\n",
       "      <td>NaN</td>\n",
       "      <td>None</td>\n",
       "      <td>NaN</td>\n",
       "      <td>NaN</td>\n",
       "      <td>NaN</td>\n",
       "      <td>NaN</td>\n",
       "      <td>NaN</td>\n",
       "      <td>NaN</td>\n",
       "      <td>NaN</td>\n",
       "      <td>NaN</td>\n",
       "      <td>No / None</td>\n",
       "      <td>NaN</td>\n",
       "      <td>NaN</td>\n",
       "      <td>NaN</td>\n",
       "      <td>NaN</td>\n",
       "      <td>NaN</td>\n",
       "      <td>NaN</td>\n",
       "      <td>NaN</td>\n",
       "      <td>NaN</td>\n",
       "      <td>NaN</td>\n",
       "      <td>NaN</td>\n",
       "      <td>NaN</td>\n",
       "      <td>NaN</td>\n",
       "      <td>NaN</td>\n",
       "      <td>NaN</td>\n",
       "      <td>NaN</td>\n",
       "      <td>NaN</td>\n",
       "      <td>NaN</td>\n",
       "      <td>NaN</td>\n",
       "      <td>NaN</td>\n",
       "      <td>No / None</td>\n",
       "      <td>NaN</td>\n",
       "      <td>NaN</td>\n",
       "      <td>NaN</td>\n",
       "      <td>NaN</td>\n",
       "      <td>GitHub</td>\n",
       "      <td>NaN</td>\n",
       "      <td>Kaggle</td>\n",
       "      <td>NaN</td>\n",
       "      <td>NaN</td>\n",
       "      <td>NaN</td>\n",
       "      <td>NaN</td>\n",
       "      <td>Coursera</td>\n",
       "      <td>edX</td>\n",
       "      <td>Kaggle Learn Courses</td>\n",
       "      <td>DataCamp</td>\n",
       "      <td>NaN</td>\n",
       "      <td>Udacity</td>\n",
       "      <td>Udemy</td>\n",
       "      <td>NaN</td>\n",
       "      <td>NaN</td>\n",
       "      <td>NaN</td>\n",
       "      <td>NaN</td>\n",
       "      <td>NaN</td>\n",
       "      <td>Local development environments (RStudio, Jupyt...</td>\n",
       "      <td>NaN</td>\n",
       "      <td>Email newsletters (Data Elixir, O'Reilly Data ...</td>\n",
       "      <td>NaN</td>\n",
       "      <td>Kaggle (notebooks, forums, etc)</td>\n",
       "      <td>NaN</td>\n",
       "      <td>YouTube (Kaggle YouTube, Cloud AI Adventures, ...</td>\n",
       "      <td>Podcasts (Chai Time Data Science, O’Reilly Dat...</td>\n",
       "      <td>Blogs (Towards Data Science, Analytics Vidhya,...</td>\n",
       "      <td>Journal Publications (peer-reviewed journals, ...</td>\n",
       "      <td>NaN</td>\n",
       "      <td>NaN</td>\n",
       "      <td>NaN</td>\n",
       "      <td>NaN</td>\n",
       "      <td>NaN</td>\n",
       "      <td>NaN</td>\n",
       "      <td>NaN</td>\n",
       "      <td>NaN</td>\n",
       "      <td>NaN</td>\n",
       "      <td>NaN</td>\n",
       "      <td>NaN</td>\n",
       "      <td>NaN</td>\n",
       "      <td>NaN</td>\n",
       "      <td>NaN</td>\n",
       "      <td>NaN</td>\n",
       "      <td>NaN</td>\n",
       "      <td>NaN</td>\n",
       "      <td>NaN</td>\n",
       "      <td>NaN</td>\n",
       "      <td>NaN</td>\n",
       "      <td>NaN</td>\n",
       "      <td>NaN</td>\n",
       "      <td>NaN</td>\n",
       "      <td>NaN</td>\n",
       "      <td>NaN</td>\n",
       "      <td>NaN</td>\n",
       "      <td>NaN</td>\n",
       "      <td>NaN</td>\n",
       "      <td>NaN</td>\n",
       "      <td>NaN</td>\n",
       "      <td>NaN</td>\n",
       "      <td>NaN</td>\n",
       "      <td>NaN</td>\n",
       "      <td>NaN</td>\n",
       "      <td>NaN</td>\n",
       "      <td>NaN</td>\n",
       "      <td>NaN</td>\n",
       "      <td>NaN</td>\n",
       "      <td>NaN</td>\n",
       "      <td>NaN</td>\n",
       "      <td>NaN</td>\n",
       "      <td>NaN</td>\n",
       "      <td>NaN</td>\n",
       "      <td>NaN</td>\n",
       "      <td>NaN</td>\n",
       "      <td>NaN</td>\n",
       "      <td>NaN</td>\n",
       "      <td>NaN</td>\n",
       "      <td>NaN</td>\n",
       "      <td>NaN</td>\n",
       "      <td>NaN</td>\n",
       "      <td>NaN</td>\n",
       "      <td>NaN</td>\n",
       "      <td>NaN</td>\n",
       "      <td>NaN</td>\n",
       "      <td>NaN</td>\n",
       "      <td>NaN</td>\n",
       "      <td>NaN</td>\n",
       "      <td>NaN</td>\n",
       "      <td>NaN</td>\n",
       "      <td>NaN</td>\n",
       "      <td>NaN</td>\n",
       "      <td>NaN</td>\n",
       "      <td>NaN</td>\n",
       "      <td>NaN</td>\n",
       "      <td>NaN</td>\n",
       "      <td>NaN</td>\n",
       "      <td>NaN</td>\n",
       "      <td>NaN</td>\n",
       "      <td>NaN</td>\n",
       "      <td>NaN</td>\n",
       "      <td>NaN</td>\n",
       "      <td>NaN</td>\n",
       "      <td>NaN</td>\n",
       "      <td>NaN</td>\n",
       "      <td>NaN</td>\n",
       "      <td>NaN</td>\n",
       "      <td>NaN</td>\n",
       "      <td>NaN</td>\n",
       "      <td>NaN</td>\n",
       "      <td>NaN</td>\n",
       "      <td>NaN</td>\n",
       "      <td>NaN</td>\n",
       "      <td>NaN</td>\n",
       "      <td>NaN</td>\n",
       "      <td>NaN</td>\n",
       "      <td>NaN</td>\n",
       "      <td>NaN</td>\n",
       "      <td>NaN</td>\n",
       "      <td>NaN</td>\n",
       "      <td>NaN</td>\n",
       "      <td>NaN</td>\n",
       "      <td>NaN</td>\n",
       "      <td>NaN</td>\n",
       "      <td>NaN</td>\n",
       "      <td>NaN</td>\n",
       "      <td>NaN</td>\n",
       "      <td>NaN</td>\n",
       "      <td>NaN</td>\n",
       "      <td>NaN</td>\n",
       "      <td>NaN</td>\n",
       "      <td>NaN</td>\n",
       "      <td>NaN</td>\n",
       "      <td>NaN</td>\n",
       "    </tr>\n",
       "  </tbody>\n",
       "</table>\n",
       "</div>"
      ],
      "text/plain": [
       "  Time from Start to Finish (seconds)                           Q1  \\\n",
       "0               Duration (in seconds)  What is your age (# years)?   \n",
       "1                                 910                        50-54   \n",
       "\n",
       "                                       Q2  \\\n",
       "0  What is your gender? - Selected Choice   \n",
       "1                                     Man   \n",
       "\n",
       "                                          Q3  \\\n",
       "0  In which country do you currently reside?   \n",
       "1                                      India   \n",
       "\n",
       "                                                  Q4  \\\n",
       "0  What is the highest level of formal education ...   \n",
       "1                                  Bachelor’s degree   \n",
       "\n",
       "                                                  Q5  \\\n",
       "0  Select the title most similar to your current ...   \n",
       "1                                              Other   \n",
       "\n",
       "                                                  Q6  \\\n",
       "0  For how many years have you been writing code ...   \n",
       "1                                         5-10 years   \n",
       "\n",
       "                                           Q7_Part_1  \\\n",
       "0  What programming languages do you use on a reg...   \n",
       "1                                             Python   \n",
       "\n",
       "                                           Q7_Part_2  \\\n",
       "0  What programming languages do you use on a reg...   \n",
       "1                                                  R   \n",
       "\n",
       "                                           Q7_Part_3  \\\n",
       "0  What programming languages do you use on a reg...   \n",
       "1                                                NaN   \n",
       "\n",
       "                                           Q7_Part_4  \\\n",
       "0  What programming languages do you use on a reg...   \n",
       "1                                                NaN   \n",
       "\n",
       "                                           Q7_Part_5  \\\n",
       "0  What programming languages do you use on a reg...   \n",
       "1                                                NaN   \n",
       "\n",
       "                                           Q7_Part_6  \\\n",
       "0  What programming languages do you use on a reg...   \n",
       "1                                                NaN   \n",
       "\n",
       "                                           Q7_Part_7  \\\n",
       "0  What programming languages do you use on a reg...   \n",
       "1                                                NaN   \n",
       "\n",
       "                                           Q7_Part_8  \\\n",
       "0  What programming languages do you use on a reg...   \n",
       "1                                                NaN   \n",
       "\n",
       "                                           Q7_Part_9  \\\n",
       "0  What programming languages do you use on a reg...   \n",
       "1                                                NaN   \n",
       "\n",
       "                                          Q7_Part_10  \\\n",
       "0  What programming languages do you use on a reg...   \n",
       "1                                                NaN   \n",
       "\n",
       "                                          Q7_Part_11  \\\n",
       "0  What programming languages do you use on a reg...   \n",
       "1                                                NaN   \n",
       "\n",
       "                                          Q7_Part_12  \\\n",
       "0  What programming languages do you use on a reg...   \n",
       "1                                                NaN   \n",
       "\n",
       "                                            Q7_OTHER  \\\n",
       "0  What programming languages do you use on a reg...   \n",
       "1                                                NaN   \n",
       "\n",
       "                                                  Q8  \\\n",
       "0  What programming language would you recommend ...   \n",
       "1                                             Python   \n",
       "\n",
       "                                           Q9_Part_1  \\\n",
       "0  Which of the following integrated development ...   \n",
       "1                                                NaN   \n",
       "\n",
       "                                           Q9_Part_2  \\\n",
       "0  Which of the following integrated development ...   \n",
       "1                                                NaN   \n",
       "\n",
       "                                           Q9_Part_3  \\\n",
       "0  Which of the following integrated development ...   \n",
       "1                                                NaN   \n",
       "\n",
       "                                           Q9_Part_4  \\\n",
       "0  Which of the following integrated development ...   \n",
       "1                                                NaN   \n",
       "\n",
       "                                           Q9_Part_5  \\\n",
       "0  Which of the following integrated development ...   \n",
       "1                                                NaN   \n",
       "\n",
       "                                           Q9_Part_6  \\\n",
       "0  Which of the following integrated development ...   \n",
       "1                                                NaN   \n",
       "\n",
       "                                           Q9_Part_7  \\\n",
       "0  Which of the following integrated development ...   \n",
       "1                                                NaN   \n",
       "\n",
       "                                           Q9_Part_8  \\\n",
       "0  Which of the following integrated development ...   \n",
       "1                                                NaN   \n",
       "\n",
       "                                           Q9_Part_9  \\\n",
       "0  Which of the following integrated development ...   \n",
       "1                                      Vim / Emacs     \n",
       "\n",
       "                                          Q9_Part_10  \\\n",
       "0  Which of the following integrated development ...   \n",
       "1                                                NaN   \n",
       "\n",
       "                                          Q9_Part_11  \\\n",
       "0  Which of the following integrated development ...   \n",
       "1                                                NaN   \n",
       "\n",
       "                                          Q9_Part_12  \\\n",
       "0  Which of the following integrated development ...   \n",
       "1                                                NaN   \n",
       "\n",
       "                                            Q9_OTHER  \\\n",
       "0  Which of the following integrated development ...   \n",
       "1                                                NaN   \n",
       "\n",
       "                                          Q10_Part_1  \\\n",
       "0  Which of the following hosted notebook product...   \n",
       "1                                                NaN   \n",
       "\n",
       "                                          Q10_Part_2  \\\n",
       "0  Which of the following hosted notebook product...   \n",
       "1                                    Colab Notebooks   \n",
       "\n",
       "                                          Q10_Part_3  \\\n",
       "0  Which of the following hosted notebook product...   \n",
       "1                                                NaN   \n",
       "\n",
       "                                          Q10_Part_4  \\\n",
       "0  Which of the following hosted notebook product...   \n",
       "1                                                NaN   \n",
       "\n",
       "                                          Q10_Part_5  \\\n",
       "0  Which of the following hosted notebook product...   \n",
       "1                                                NaN   \n",
       "\n",
       "                                          Q10_Part_6  \\\n",
       "0  Which of the following hosted notebook product...   \n",
       "1                                                NaN   \n",
       "\n",
       "                                          Q10_Part_7  \\\n",
       "0  Which of the following hosted notebook product...   \n",
       "1                                                NaN   \n",
       "\n",
       "                                          Q10_Part_8  \\\n",
       "0  Which of the following hosted notebook product...   \n",
       "1                                                NaN   \n",
       "\n",
       "                                          Q10_Part_9  \\\n",
       "0  Which of the following hosted notebook product...   \n",
       "1                                                NaN   \n",
       "\n",
       "                                         Q10_Part_10  \\\n",
       "0  Which of the following hosted notebook product...   \n",
       "1                                                NaN   \n",
       "\n",
       "                                         Q10_Part_11  \\\n",
       "0  Which of the following hosted notebook product...   \n",
       "1                                                NaN   \n",
       "\n",
       "                                         Q10_Part_12  \\\n",
       "0  Which of the following hosted notebook product...   \n",
       "1                                                NaN   \n",
       "\n",
       "                                         Q10_Part_13  \\\n",
       "0  Which of the following hosted notebook product...   \n",
       "1                                                NaN   \n",
       "\n",
       "                                         Q10_Part_14  \\\n",
       "0  Which of the following hosted notebook product...   \n",
       "1                                                NaN   \n",
       "\n",
       "                                         Q10_Part_15  \\\n",
       "0  Which of the following hosted notebook product...   \n",
       "1                                                NaN   \n",
       "\n",
       "                                         Q10_Part_16  \\\n",
       "0  Which of the following hosted notebook product...   \n",
       "1                                                NaN   \n",
       "\n",
       "                                           Q10_OTHER  \\\n",
       "0  Which of the following hosted notebook product...   \n",
       "1                                                NaN   \n",
       "\n",
       "                                                 Q11  \\\n",
       "0  What type of computing platform do you use mos...   \n",
       "1                                           A laptop   \n",
       "\n",
       "                                          Q12_Part_1  \\\n",
       "0  Which types of specialized hardware do you use...   \n",
       "1                                                NaN   \n",
       "\n",
       "                                          Q12_Part_2  \\\n",
       "0  Which types of specialized hardware do you use...   \n",
       "1                                 Google Cloud TPUs    \n",
       "\n",
       "                                          Q12_Part_3  \\\n",
       "0  Which types of specialized hardware do you use...   \n",
       "1                                                NaN   \n",
       "\n",
       "                                          Q12_Part_4  \\\n",
       "0  Which types of specialized hardware do you use...   \n",
       "1                                                NaN   \n",
       "\n",
       "                                          Q12_Part_5  \\\n",
       "0  Which types of specialized hardware do you use...   \n",
       "1                                                NaN   \n",
       "\n",
       "                                           Q12_OTHER  \\\n",
       "0  Which types of specialized hardware do you use...   \n",
       "1                                                NaN   \n",
       "\n",
       "                                                 Q13  \\\n",
       "0  Approximately how many times have you used a T...   \n",
       "1                                          2-5 times   \n",
       "\n",
       "                                          Q14_Part_1  \\\n",
       "0  What data visualization libraries or tools do ...   \n",
       "1                                        Matplotlib    \n",
       "\n",
       "                                          Q14_Part_2  \\\n",
       "0  What data visualization libraries or tools do ...   \n",
       "1                                           Seaborn    \n",
       "\n",
       "                                          Q14_Part_3  \\\n",
       "0  What data visualization libraries or tools do ...   \n",
       "1                                                NaN   \n",
       "\n",
       "                                          Q14_Part_4  \\\n",
       "0  What data visualization libraries or tools do ...   \n",
       "1                                  Ggplot / ggplot2    \n",
       "\n",
       "                                          Q14_Part_5  \\\n",
       "0  What data visualization libraries or tools do ...   \n",
       "1                                             Shiny    \n",
       "\n",
       "                                          Q14_Part_6  \\\n",
       "0  What data visualization libraries or tools do ...   \n",
       "1                                                NaN   \n",
       "\n",
       "                                          Q14_Part_7  \\\n",
       "0  What data visualization libraries or tools do ...   \n",
       "1                                                NaN   \n",
       "\n",
       "                                          Q14_Part_8  \\\n",
       "0  What data visualization libraries or tools do ...   \n",
       "1                                                NaN   \n",
       "\n",
       "                                          Q14_Part_9  \\\n",
       "0  What data visualization libraries or tools do ...   \n",
       "1                                                NaN   \n",
       "\n",
       "                                         Q14_Part_10  \\\n",
       "0  What data visualization libraries or tools do ...   \n",
       "1                                  Leaflet / Folium    \n",
       "\n",
       "                                         Q14_Part_11  \\\n",
       "0  What data visualization libraries or tools do ...   \n",
       "1                                                NaN   \n",
       "\n",
       "                                           Q14_OTHER  \\\n",
       "0  What data visualization libraries or tools do ...   \n",
       "1                                                NaN   \n",
       "\n",
       "                                                 Q15  \\\n",
       "0  For how many years have you used machine learn...   \n",
       "1                                         5-10 years   \n",
       "\n",
       "                                          Q16_Part_1  \\\n",
       "0  Which of the following machine learning framew...   \n",
       "1                                      Scikit-learn    \n",
       "\n",
       "                                          Q16_Part_2  \\\n",
       "0  Which of the following machine learning framew...   \n",
       "1                                        TensorFlow    \n",
       "\n",
       "                                          Q16_Part_3  \\\n",
       "0  Which of the following machine learning framew...   \n",
       "1                                                NaN   \n",
       "\n",
       "                                          Q16_Part_4  \\\n",
       "0  Which of the following machine learning framew...   \n",
       "1                                                NaN   \n",
       "\n",
       "                                          Q16_Part_5  \\\n",
       "0  Which of the following machine learning framew...   \n",
       "1                                                NaN   \n",
       "\n",
       "                                          Q16_Part_6  \\\n",
       "0  Which of the following machine learning framew...   \n",
       "1                                                NaN   \n",
       "\n",
       "                                          Q16_Part_7  \\\n",
       "0  Which of the following machine learning framew...   \n",
       "1                                                NaN   \n",
       "\n",
       "                                          Q16_Part_8  \\\n",
       "0  Which of the following machine learning framew...   \n",
       "1                                                NaN   \n",
       "\n",
       "                                          Q16_Part_9  \\\n",
       "0  Which of the following machine learning framew...   \n",
       "1                                                NaN   \n",
       "\n",
       "                                         Q16_Part_10  \\\n",
       "0  Which of the following machine learning framew...   \n",
       "1                                                NaN   \n",
       "\n",
       "                                         Q16_Part_11  \\\n",
       "0  Which of the following machine learning framew...   \n",
       "1                                                NaN   \n",
       "\n",
       "                                         Q16_Part_12  \\\n",
       "0  Which of the following machine learning framew...   \n",
       "1                                             Caret    \n",
       "\n",
       "                                         Q16_Part_13  \\\n",
       "0  Which of the following machine learning framew...   \n",
       "1                                                NaN   \n",
       "\n",
       "                                         Q16_Part_14  \\\n",
       "0  Which of the following machine learning framew...   \n",
       "1                                                NaN   \n",
       "\n",
       "                                         Q16_Part_15  \\\n",
       "0  Which of the following machine learning framew...   \n",
       "1                                                NaN   \n",
       "\n",
       "                                         Q16_Part_16  \\\n",
       "0  Which of the following machine learning framew...   \n",
       "1                                                NaN   \n",
       "\n",
       "                                         Q16_Part_17  \\\n",
       "0  Which of the following machine learning framew...   \n",
       "1                                                NaN   \n",
       "\n",
       "                                           Q16_OTHER  \\\n",
       "0  Which of the following machine learning framew...   \n",
       "1                                                NaN   \n",
       "\n",
       "                                          Q17_Part_1  \\\n",
       "0  Which of the following ML algorithms do you us...   \n",
       "1                      Linear or Logistic Regression   \n",
       "\n",
       "                                          Q17_Part_2  \\\n",
       "0  Which of the following ML algorithms do you us...   \n",
       "1                   Decision Trees or Random Forests   \n",
       "\n",
       "                                          Q17_Part_3  \\\n",
       "0  Which of the following ML algorithms do you us...   \n",
       "1  Gradient Boosting Machines (xgboost, lightgbm,...   \n",
       "\n",
       "                                          Q17_Part_4  \\\n",
       "0  Which of the following ML algorithms do you us...   \n",
       "1                                Bayesian Approaches   \n",
       "\n",
       "                                          Q17_Part_5  \\\n",
       "0  Which of the following ML algorithms do you us...   \n",
       "1                                                NaN   \n",
       "\n",
       "                                          Q17_Part_6  \\\n",
       "0  Which of the following ML algorithms do you us...   \n",
       "1                  Dense Neural Networks (MLPs, etc)   \n",
       "\n",
       "                                          Q17_Part_7  \\\n",
       "0  Which of the following ML algorithms do you us...   \n",
       "1                      Convolutional Neural Networks   \n",
       "\n",
       "                                          Q17_Part_8  \\\n",
       "0  Which of the following ML algorithms do you us...   \n",
       "1                                                NaN   \n",
       "\n",
       "                                          Q17_Part_9  \\\n",
       "0  Which of the following ML algorithms do you us...   \n",
       "1                          Recurrent Neural Networks   \n",
       "\n",
       "                                         Q17_Part_10  \\\n",
       "0  Which of the following ML algorithms do you us...   \n",
       "1                                                NaN   \n",
       "\n",
       "                                         Q17_Part_11  \\\n",
       "0  Which of the following ML algorithms do you us...   \n",
       "1                                                NaN   \n",
       "\n",
       "                                           Q17_OTHER  \\\n",
       "0  Which of the following ML algorithms do you us...   \n",
       "1                                                NaN   \n",
       "\n",
       "                                          Q18_Part_1  \\\n",
       "0  Which categories of computer vision methods do...   \n",
       "1  General purpose image/video tools (PIL, cv2, s...   \n",
       "\n",
       "                                          Q18_Part_2  \\\n",
       "0  Which categories of computer vision methods do...   \n",
       "1                                                NaN   \n",
       "\n",
       "                                          Q18_Part_3  \\\n",
       "0  Which categories of computer vision methods do...   \n",
       "1                                                NaN   \n",
       "\n",
       "                                          Q18_Part_4  \\\n",
       "0  Which categories of computer vision methods do...   \n",
       "1                                                NaN   \n",
       "\n",
       "                                          Q18_Part_5  \\\n",
       "0  Which categories of computer vision methods do...   \n",
       "1                                                NaN   \n",
       "\n",
       "                                          Q18_Part_6  \\\n",
       "0  Which categories of computer vision methods do...   \n",
       "1                                                NaN   \n",
       "\n",
       "                                           Q18_OTHER  \\\n",
       "0  Which categories of computer vision methods do...   \n",
       "1                                                NaN   \n",
       "\n",
       "                                          Q19_Part_1  \\\n",
       "0  Which of the following natural language proces...   \n",
       "1  Word embeddings/vectors (GLoVe, fastText, word...   \n",
       "\n",
       "                                          Q19_Part_2  \\\n",
       "0  Which of the following natural language proces...   \n",
       "1                                                NaN   \n",
       "\n",
       "                                          Q19_Part_3  \\\n",
       "0  Which of the following natural language proces...   \n",
       "1                                                NaN   \n",
       "\n",
       "                                          Q19_Part_4  \\\n",
       "0  Which of the following natural language proces...   \n",
       "1                                                NaN   \n",
       "\n",
       "                                          Q19_Part_5  \\\n",
       "0  Which of the following natural language proces...   \n",
       "1                                                NaN   \n",
       "\n",
       "                                           Q19_OTHER  \\\n",
       "0  Which of the following natural language proces...   \n",
       "1                                                NaN   \n",
       "\n",
       "                                                 Q20  \\\n",
       "0  In what industry is your current employer/cont...   \n",
       "1                          Manufacturing/Fabrication   \n",
       "\n",
       "                                                 Q21  \\\n",
       "0  What is the size of the company where you are ...   \n",
       "1                                   50-249 employees   \n",
       "\n",
       "                                                 Q22  \\\n",
       "0  Approximately how many individuals are respons...   \n",
       "1                                                3-4   \n",
       "\n",
       "                                                 Q23  \\\n",
       "0  Does your current employer incorporate machine...   \n",
       "1                      No (we do not use ML methods)   \n",
       "\n",
       "                                          Q24_Part_1  \\\n",
       "0  Select any activities that make up an importan...   \n",
       "1                                                NaN   \n",
       "\n",
       "                                          Q24_Part_2  \\\n",
       "0  Select any activities that make up an importan...   \n",
       "1                                                NaN   \n",
       "\n",
       "                                          Q24_Part_3  \\\n",
       "0  Select any activities that make up an importan...   \n",
       "1                                                NaN   \n",
       "\n",
       "                                          Q24_Part_4  \\\n",
       "0  Select any activities that make up an importan...   \n",
       "1                                                NaN   \n",
       "\n",
       "                                          Q24_Part_5  \\\n",
       "0  Select any activities that make up an importan...   \n",
       "1                                                NaN   \n",
       "\n",
       "                                          Q24_Part_6  \\\n",
       "0  Select any activities that make up an importan...   \n",
       "1                                                NaN   \n",
       "\n",
       "                                          Q24_Part_7  \\\n",
       "0  Select any activities that make up an importan...   \n",
       "1  None of these activities are an important part...   \n",
       "\n",
       "                                           Q24_OTHER  \\\n",
       "0  Select any activities that make up an importan...   \n",
       "1                                                NaN   \n",
       "\n",
       "                                                 Q25  \\\n",
       "0  What is your current yearly compensation (appr...   \n",
       "1                                      25,000-29,999   \n",
       "\n",
       "                                                 Q26  \\\n",
       "0  Approximately how much money have you (or your...   \n",
       "1                                          $100-$999   \n",
       "\n",
       "                                        Q27_A_Part_1  \\\n",
       "0  Which of the following cloud computing platfor...   \n",
       "1                                                NaN   \n",
       "\n",
       "                                        Q27_A_Part_2  \\\n",
       "0  Which of the following cloud computing platfor...   \n",
       "1                                                NaN   \n",
       "\n",
       "                                        Q27_A_Part_3  \\\n",
       "0  Which of the following cloud computing platfor...   \n",
       "1                       Google Cloud Platform (GCP)    \n",
       "\n",
       "                                        Q27_A_Part_4  \\\n",
       "0  Which of the following cloud computing platfor...   \n",
       "1                                                NaN   \n",
       "\n",
       "                                        Q27_A_Part_5  \\\n",
       "0  Which of the following cloud computing platfor...   \n",
       "1                                                NaN   \n",
       "\n",
       "                                        Q27_A_Part_6  \\\n",
       "0  Which of the following cloud computing platfor...   \n",
       "1                                                NaN   \n",
       "\n",
       "                                        Q27_A_Part_7  \\\n",
       "0  Which of the following cloud computing platfor...   \n",
       "1                                                NaN   \n",
       "\n",
       "                                        Q27_A_Part_8  \\\n",
       "0  Which of the following cloud computing platfor...   \n",
       "1                                                NaN   \n",
       "\n",
       "                                        Q27_A_Part_9  \\\n",
       "0  Which of the following cloud computing platfor...   \n",
       "1                                                NaN   \n",
       "\n",
       "                                       Q27_A_Part_10  \\\n",
       "0  Which of the following cloud computing platfor...   \n",
       "1                                                NaN   \n",
       "\n",
       "                                       Q27_A_Part_11  \\\n",
       "0  Which of the following cloud computing platfor...   \n",
       "1                                                NaN   \n",
       "\n",
       "                                         Q27_A_OTHER  \\\n",
       "0  Which of the following cloud computing platfor...   \n",
       "1                                                NaN   \n",
       "\n",
       "                                                 Q28  \\\n",
       "0  Of the cloud platforms that you are familiar w...   \n",
       "1                                                NaN   \n",
       "\n",
       "                                        Q29_A_Part_1  \\\n",
       "0  Do you use any of the following cloud computin...   \n",
       "1                                                NaN   \n",
       "\n",
       "                                        Q29_A_Part_2  \\\n",
       "0  Do you use any of the following cloud computin...   \n",
       "1                                                NaN   \n",
       "\n",
       "                                        Q29_A_Part_3  \\\n",
       "0  Do you use any of the following cloud computin...   \n",
       "1                       Google Cloud Compute Engine    \n",
       "\n",
       "                                        Q29_A_Part_4  \\\n",
       "0  Do you use any of the following cloud computin...   \n",
       "1                                                NaN   \n",
       "\n",
       "                                         Q29_A_OTHER  \\\n",
       "0  Do you use any of the following cloud computin...   \n",
       "1                                                NaN   \n",
       "\n",
       "                                        Q30_A_Part_1  \\\n",
       "0  Do you use any of the following data storage p...   \n",
       "1                                                NaN   \n",
       "\n",
       "                                        Q30_A_Part_2  \\\n",
       "0  Do you use any of the following data storage p...   \n",
       "1                                                NaN   \n",
       "\n",
       "                                        Q30_A_Part_3  \\\n",
       "0  Do you use any of the following data storage p...   \n",
       "1                                                NaN   \n",
       "\n",
       "                                        Q30_A_Part_4  \\\n",
       "0  Do you use any of the following data storage p...   \n",
       "1                                                NaN   \n",
       "\n",
       "                                        Q30_A_Part_5  \\\n",
       "0  Do you use any of the following data storage p...   \n",
       "1                      Google Cloud Storage (GCS)      \n",
       "\n",
       "                                        Q30_A_Part_6  \\\n",
       "0  Do you use any of the following data storage p...   \n",
       "1                                                NaN   \n",
       "\n",
       "                                        Q30_A_Part_7  \\\n",
       "0  Do you use any of the following data storage p...   \n",
       "1                                                NaN   \n",
       "\n",
       "                                         Q30_A_OTHER  \\\n",
       "0  Do you use any of the following data storage p...   \n",
       "1                                                NaN   \n",
       "\n",
       "                                        Q31_A_Part_1  \\\n",
       "0  Do you use any of the following managed machin...   \n",
       "1                                                NaN   \n",
       "\n",
       "                                        Q31_A_Part_2  \\\n",
       "0  Do you use any of the following managed machin...   \n",
       "1                                                NaN   \n",
       "\n",
       "                                        Q31_A_Part_3  \\\n",
       "0  Do you use any of the following managed machin...   \n",
       "1                                                NaN   \n",
       "\n",
       "                                        Q31_A_Part_4  \\\n",
       "0  Do you use any of the following managed machin...   \n",
       "1                                                NaN   \n",
       "\n",
       "                                        Q31_A_Part_5  \\\n",
       "0  Do you use any of the following managed machin...   \n",
       "1                                                NaN   \n",
       "\n",
       "                                        Q31_A_Part_6  \\\n",
       "0  Do you use any of the following managed machin...   \n",
       "1                                                NaN   \n",
       "\n",
       "                                        Q31_A_Part_7  \\\n",
       "0  Do you use any of the following managed machin...   \n",
       "1                                                NaN   \n",
       "\n",
       "                                        Q31_A_Part_8  \\\n",
       "0  Do you use any of the following managed machin...   \n",
       "1                                                NaN   \n",
       "\n",
       "                                        Q31_A_Part_9  \\\n",
       "0  Do you use any of the following managed machin...   \n",
       "1                                          No / None   \n",
       "\n",
       "                                         Q31_A_OTHER  \\\n",
       "0  Do you use any of the following managed machin...   \n",
       "1                                                NaN   \n",
       "\n",
       "                                        Q32_A_Part_1  \\\n",
       "0  Which of the following big data products (rela...   \n",
       "1                                                NaN   \n",
       "\n",
       "                                        Q32_A_Part_2  \\\n",
       "0  Which of the following big data products (rela...   \n",
       "1                                        PostgreSQL    \n",
       "\n",
       "                                        Q32_A_Part_3  \\\n",
       "0  Which of the following big data products (rela...   \n",
       "1                                                NaN   \n",
       "\n",
       "                                        Q32_A_Part_4  \\\n",
       "0  Which of the following big data products (rela...   \n",
       "1                                                NaN   \n",
       "\n",
       "                                        Q32_A_Part_5  \\\n",
       "0  Which of the following big data products (rela...   \n",
       "1                                                NaN   \n",
       "\n",
       "                                        Q32_A_Part_6  \\\n",
       "0  Which of the following big data products (rela...   \n",
       "1                                                NaN   \n",
       "\n",
       "                                        Q32_A_Part_7  \\\n",
       "0  Which of the following big data products (rela...   \n",
       "1                                                NaN   \n",
       "\n",
       "                                        Q32_A_Part_8  \\\n",
       "0  Which of the following big data products (rela...   \n",
       "1                                                NaN   \n",
       "\n",
       "                                        Q32_A_Part_9  \\\n",
       "0  Which of the following big data products (rela...   \n",
       "1                                                NaN   \n",
       "\n",
       "                                       Q32_A_Part_10  \\\n",
       "0  Which of the following big data products (rela...   \n",
       "1                                                NaN   \n",
       "\n",
       "                                       Q32_A_Part_11  \\\n",
       "0  Which of the following big data products (rela...   \n",
       "1                                                NaN   \n",
       "\n",
       "                                       Q32_A_Part_12  \\\n",
       "0  Which of the following big data products (rela...   \n",
       "1                                                NaN   \n",
       "\n",
       "                                       Q32_A_Part_13  \\\n",
       "0  Which of the following big data products (rela...   \n",
       "1                                                NaN   \n",
       "\n",
       "                                       Q32_A_Part_14  \\\n",
       "0  Which of the following big data products (rela...   \n",
       "1                                                NaN   \n",
       "\n",
       "                                       Q32_A_Part_15  \\\n",
       "0  Which of the following big data products (rela...   \n",
       "1                                                NaN   \n",
       "\n",
       "                                       Q32_A_Part_16  \\\n",
       "0  Which of the following big data products (rela...   \n",
       "1                                                NaN   \n",
       "\n",
       "                                       Q32_A_Part_17  \\\n",
       "0  Which of the following big data products (rela...   \n",
       "1                                                NaN   \n",
       "\n",
       "                                       Q32_A_Part_18  \\\n",
       "0  Which of the following big data products (rela...   \n",
       "1                                                NaN   \n",
       "\n",
       "                                       Q32_A_Part_19  \\\n",
       "0  Which of the following big data products (rela...   \n",
       "1                                                NaN   \n",
       "\n",
       "                                       Q32_A_Part_20  \\\n",
       "0  Which of the following big data products (rela...   \n",
       "1                                                NaN   \n",
       "\n",
       "                                         Q32_A_OTHER  \\\n",
       "0  Which of the following big data products (rela...   \n",
       "1                                                NaN   \n",
       "\n",
       "                                                 Q33  \\\n",
       "0  Which of the following big data products (rela...   \n",
       "1                                                NaN   \n",
       "\n",
       "                                        Q34_A_Part_1  \\\n",
       "0  Which of the following business intelligence t...   \n",
       "1                                                NaN   \n",
       "\n",
       "                                        Q34_A_Part_2  \\\n",
       "0  Which of the following business intelligence t...   \n",
       "1                                                NaN   \n",
       "\n",
       "                                        Q34_A_Part_3  \\\n",
       "0  Which of the following business intelligence t...   \n",
       "1                                                NaN   \n",
       "\n",
       "                                        Q34_A_Part_4  \\\n",
       "0  Which of the following business intelligence t...   \n",
       "1                                                NaN   \n",
       "\n",
       "                                        Q34_A_Part_5  \\\n",
       "0  Which of the following business intelligence t...   \n",
       "1                                                NaN   \n",
       "\n",
       "                                        Q34_A_Part_6  \\\n",
       "0  Which of the following business intelligence t...   \n",
       "1                                                NaN   \n",
       "\n",
       "                                        Q34_A_Part_7  \\\n",
       "0  Which of the following business intelligence t...   \n",
       "1                                                NaN   \n",
       "\n",
       "                                        Q34_A_Part_8  \\\n",
       "0  Which of the following business intelligence t...   \n",
       "1                                                NaN   \n",
       "\n",
       "                                        Q34_A_Part_9  \\\n",
       "0  Which of the following business intelligence t...   \n",
       "1                                                NaN   \n",
       "\n",
       "                                       Q34_A_Part_10  \\\n",
       "0  Which of the following business intelligence t...   \n",
       "1                                                NaN   \n",
       "\n",
       "                                       Q34_A_Part_11  \\\n",
       "0  Which of the following business intelligence t...   \n",
       "1                                                NaN   \n",
       "\n",
       "                                       Q34_A_Part_12  \\\n",
       "0  Which of the following business intelligence t...   \n",
       "1                                                NaN   \n",
       "\n",
       "                                       Q34_A_Part_13  \\\n",
       "0  Which of the following business intelligence t...   \n",
       "1                                                NaN   \n",
       "\n",
       "                                       Q34_A_Part_14  \\\n",
       "0  Which of the following business intelligence t...   \n",
       "1                                                NaN   \n",
       "\n",
       "                                       Q34_A_Part_15  \\\n",
       "0  Which of the following business intelligence t...   \n",
       "1                                                NaN   \n",
       "\n",
       "                                       Q34_A_Part_16  \\\n",
       "0  Which of the following business intelligence t...   \n",
       "1                                               None   \n",
       "\n",
       "                                         Q34_A_OTHER  \\\n",
       "0  Which of the following business intelligence t...   \n",
       "1                                                NaN   \n",
       "\n",
       "                                                 Q35  \\\n",
       "0  Which of the following business intelligence t...   \n",
       "1                                                NaN   \n",
       "\n",
       "                                        Q36_A_Part_1  \\\n",
       "0  Do you use any automated machine learning tool...   \n",
       "1                                                NaN   \n",
       "\n",
       "                                        Q36_A_Part_2  \\\n",
       "0  Do you use any automated machine learning tool...   \n",
       "1                                                NaN   \n",
       "\n",
       "                                        Q36_A_Part_3  \\\n",
       "0  Do you use any automated machine learning tool...   \n",
       "1                                                NaN   \n",
       "\n",
       "                                        Q36_A_Part_4  \\\n",
       "0  Do you use any automated machine learning tool...   \n",
       "1                                                NaN   \n",
       "\n",
       "                                        Q36_A_Part_5  \\\n",
       "0  Do you use any automated machine learning tool...   \n",
       "1                                                NaN   \n",
       "\n",
       "                                        Q36_A_Part_6  \\\n",
       "0  Do you use any automated machine learning tool...   \n",
       "1                                                NaN   \n",
       "\n",
       "                                        Q36_A_Part_7  \\\n",
       "0  Do you use any automated machine learning tool...   \n",
       "1                                          No / None   \n",
       "\n",
       "                                         Q36_A_OTHER  \\\n",
       "0  Do you use any automated machine learning tool...   \n",
       "1                                                NaN   \n",
       "\n",
       "                                        Q37_A_Part_1  \\\n",
       "0  Which of the following automated machine learn...   \n",
       "1                                                NaN   \n",
       "\n",
       "                                        Q37_A_Part_2  \\\n",
       "0  Which of the following automated machine learn...   \n",
       "1                                                NaN   \n",
       "\n",
       "                                        Q37_A_Part_3  \\\n",
       "0  Which of the following automated machine learn...   \n",
       "1                                                NaN   \n",
       "\n",
       "                                        Q37_A_Part_4  \\\n",
       "0  Which of the following automated machine learn...   \n",
       "1                                                NaN   \n",
       "\n",
       "                                        Q37_A_Part_5  \\\n",
       "0  Which of the following automated machine learn...   \n",
       "1                                                NaN   \n",
       "\n",
       "                                        Q37_A_Part_6  \\\n",
       "0  Which of the following automated machine learn...   \n",
       "1                                                NaN   \n",
       "\n",
       "                                        Q37_A_Part_7  \\\n",
       "0  Which of the following automated machine learn...   \n",
       "1                                                NaN   \n",
       "\n",
       "                                         Q37_A_OTHER  \\\n",
       "0  Which of the following automated machine learn...   \n",
       "1                                                NaN   \n",
       "\n",
       "                                        Q38_A_Part_1  \\\n",
       "0  Do you use any tools to help manage machine le...   \n",
       "1                                                NaN   \n",
       "\n",
       "                                        Q38_A_Part_2  \\\n",
       "0  Do you use any tools to help manage machine le...   \n",
       "1                                                NaN   \n",
       "\n",
       "                                        Q38_A_Part_3  \\\n",
       "0  Do you use any tools to help manage machine le...   \n",
       "1                                                NaN   \n",
       "\n",
       "                                        Q38_A_Part_4  \\\n",
       "0  Do you use any tools to help manage machine le...   \n",
       "1                                                NaN   \n",
       "\n",
       "                                        Q38_A_Part_5  \\\n",
       "0  Do you use any tools to help manage machine le...   \n",
       "1                                                NaN   \n",
       "\n",
       "                                        Q38_A_Part_6  \\\n",
       "0  Do you use any tools to help manage machine le...   \n",
       "1                                                NaN   \n",
       "\n",
       "                                        Q38_A_Part_7  \\\n",
       "0  Do you use any tools to help manage machine le...   \n",
       "1                                                NaN   \n",
       "\n",
       "                                        Q38_A_Part_8  \\\n",
       "0  Do you use any tools to help manage machine le...   \n",
       "1                                                NaN   \n",
       "\n",
       "                                        Q38_A_Part_9  \\\n",
       "0  Do you use any tools to help manage machine le...   \n",
       "1                                                NaN   \n",
       "\n",
       "                                       Q38_A_Part_10  \\\n",
       "0  Do you use any tools to help manage machine le...   \n",
       "1                                                NaN   \n",
       "\n",
       "                                       Q38_A_Part_11  \\\n",
       "0  Do you use any tools to help manage machine le...   \n",
       "1                                          No / None   \n",
       "\n",
       "                                         Q38_A_OTHER  \\\n",
       "0  Do you use any tools to help manage machine le...   \n",
       "1                                                NaN   \n",
       "\n",
       "                                          Q39_Part_1  \\\n",
       "0  Where do you publicly share your data analysis...   \n",
       "1                                                NaN   \n",
       "\n",
       "                                          Q39_Part_2  \\\n",
       "0  Where do you publicly share your data analysis...   \n",
       "1                                                NaN   \n",
       "\n",
       "                                          Q39_Part_3  \\\n",
       "0  Where do you publicly share your data analysis...   \n",
       "1                                                NaN   \n",
       "\n",
       "                                          Q39_Part_4  \\\n",
       "0  Where do you publicly share your data analysis...   \n",
       "1                                            GitHub    \n",
       "\n",
       "                                          Q39_Part_5  \\\n",
       "0  Where do you publicly share your data analysis...   \n",
       "1                                                NaN   \n",
       "\n",
       "                                          Q39_Part_6  \\\n",
       "0  Where do you publicly share your data analysis...   \n",
       "1                                            Kaggle    \n",
       "\n",
       "                                          Q39_Part_7  \\\n",
       "0  Where do you publicly share your data analysis...   \n",
       "1                                                NaN   \n",
       "\n",
       "                                          Q39_Part_8  \\\n",
       "0  Where do you publicly share your data analysis...   \n",
       "1                                                NaN   \n",
       "\n",
       "                                          Q39_Part_9  \\\n",
       "0  Where do you publicly share your data analysis...   \n",
       "1                                                NaN   \n",
       "\n",
       "                                           Q39_OTHER  \\\n",
       "0  Where do you publicly share your data analysis...   \n",
       "1                                                NaN   \n",
       "\n",
       "                                          Q40_Part_1  \\\n",
       "0  On which platforms have you begun or completed...   \n",
       "1                                           Coursera   \n",
       "\n",
       "                                          Q40_Part_2  \\\n",
       "0  On which platforms have you begun or completed...   \n",
       "1                                                edX   \n",
       "\n",
       "                                          Q40_Part_3  \\\n",
       "0  On which platforms have you begun or completed...   \n",
       "1                               Kaggle Learn Courses   \n",
       "\n",
       "                                          Q40_Part_4  \\\n",
       "0  On which platforms have you begun or completed...   \n",
       "1                                           DataCamp   \n",
       "\n",
       "                                          Q40_Part_5  \\\n",
       "0  On which platforms have you begun or completed...   \n",
       "1                                                NaN   \n",
       "\n",
       "                                          Q40_Part_6  \\\n",
       "0  On which platforms have you begun or completed...   \n",
       "1                                            Udacity   \n",
       "\n",
       "                                          Q40_Part_7  \\\n",
       "0  On which platforms have you begun or completed...   \n",
       "1                                              Udemy   \n",
       "\n",
       "                                          Q40_Part_8  \\\n",
       "0  On which platforms have you begun or completed...   \n",
       "1                                                NaN   \n",
       "\n",
       "                                          Q40_Part_9  \\\n",
       "0  On which platforms have you begun or completed...   \n",
       "1                                                NaN   \n",
       "\n",
       "                                         Q40_Part_10  \\\n",
       "0  On which platforms have you begun or completed...   \n",
       "1                                                NaN   \n",
       "\n",
       "                                         Q40_Part_11  \\\n",
       "0  On which platforms have you begun or completed...   \n",
       "1                                                NaN   \n",
       "\n",
       "                                           Q40_OTHER  \\\n",
       "0  On which platforms have you begun or completed...   \n",
       "1                                                NaN   \n",
       "\n",
       "                                                 Q41  \\\n",
       "0  What is the primary tool that you use at work ...   \n",
       "1  Local development environments (RStudio, Jupyt...   \n",
       "\n",
       "                                          Q42_Part_1  \\\n",
       "0  Who/what are your favorite media sources that ...   \n",
       "1                                                NaN   \n",
       "\n",
       "                                          Q42_Part_2  \\\n",
       "0  Who/what are your favorite media sources that ...   \n",
       "1  Email newsletters (Data Elixir, O'Reilly Data ...   \n",
       "\n",
       "                                          Q42_Part_3  \\\n",
       "0  Who/what are your favorite media sources that ...   \n",
       "1                                                NaN   \n",
       "\n",
       "                                          Q42_Part_4  \\\n",
       "0  Who/what are your favorite media sources that ...   \n",
       "1                    Kaggle (notebooks, forums, etc)   \n",
       "\n",
       "                                          Q42_Part_5  \\\n",
       "0  Who/what are your favorite media sources that ...   \n",
       "1                                                NaN   \n",
       "\n",
       "                                          Q42_Part_6  \\\n",
       "0  Who/what are your favorite media sources that ...   \n",
       "1  YouTube (Kaggle YouTube, Cloud AI Adventures, ...   \n",
       "\n",
       "                                          Q42_Part_7  \\\n",
       "0  Who/what are your favorite media sources that ...   \n",
       "1  Podcasts (Chai Time Data Science, O’Reilly Dat...   \n",
       "\n",
       "                                          Q42_Part_8  \\\n",
       "0  Who/what are your favorite media sources that ...   \n",
       "1  Blogs (Towards Data Science, Analytics Vidhya,...   \n",
       "\n",
       "                                          Q42_Part_9  \\\n",
       "0  Who/what are your favorite media sources that ...   \n",
       "1  Journal Publications (peer-reviewed journals, ...   \n",
       "\n",
       "                                         Q42_Part_10  \\\n",
       "0  Who/what are your favorite media sources that ...   \n",
       "1                                                NaN   \n",
       "\n",
       "                                         Q42_Part_11  \\\n",
       "0  Who/what are your favorite media sources that ...   \n",
       "1                                                NaN   \n",
       "\n",
       "                                           Q42_OTHER  \\\n",
       "0  Who/what are your favorite media sources that ...   \n",
       "1                                                NaN   \n",
       "\n",
       "                                        Q27_B_Part_1  \\\n",
       "0  Which of the following cloud computing platfor...   \n",
       "1                                                NaN   \n",
       "\n",
       "                                        Q27_B_Part_2  \\\n",
       "0  Which of the following cloud computing platfor...   \n",
       "1                                                NaN   \n",
       "\n",
       "                                        Q27_B_Part_3  \\\n",
       "0  Which of the following cloud computing platfor...   \n",
       "1                                                NaN   \n",
       "\n",
       "                                        Q27_B_Part_4  \\\n",
       "0  Which of the following cloud computing platfor...   \n",
       "1                                                NaN   \n",
       "\n",
       "                                        Q27_B_Part_5  \\\n",
       "0  Which of the following cloud computing platfor...   \n",
       "1                                                NaN   \n",
       "\n",
       "                                        Q27_B_Part_6  \\\n",
       "0  Which of the following cloud computing platfor...   \n",
       "1                                                NaN   \n",
       "\n",
       "                                        Q27_B_Part_7  \\\n",
       "0  Which of the following cloud computing platfor...   \n",
       "1                                                NaN   \n",
       "\n",
       "                                        Q27_B_Part_8  \\\n",
       "0  Which of the following cloud computing platfor...   \n",
       "1                                                NaN   \n",
       "\n",
       "                                        Q27_B_Part_9  \\\n",
       "0  Which of the following cloud computing platfor...   \n",
       "1                                                NaN   \n",
       "\n",
       "                                       Q27_B_Part_10  \\\n",
       "0  Which of the following cloud computing platfor...   \n",
       "1                                                NaN   \n",
       "\n",
       "                                       Q27_B_Part_11  \\\n",
       "0  Which of the following cloud computing platfor...   \n",
       "1                                                NaN   \n",
       "\n",
       "                                         Q27_B_OTHER  \\\n",
       "0  Which of the following cloud computing platfor...   \n",
       "1                                                NaN   \n",
       "\n",
       "                                        Q29_B_Part_1  \\\n",
       "0  In the next 2 years, do you hope to become mor...   \n",
       "1                                                NaN   \n",
       "\n",
       "                                        Q29_B_Part_2  \\\n",
       "0  In the next 2 years, do you hope to become mor...   \n",
       "1                                                NaN   \n",
       "\n",
       "                                        Q29_B_Part_3  \\\n",
       "0  In the next 2 years, do you hope to become mor...   \n",
       "1                                                NaN   \n",
       "\n",
       "                                        Q29_B_Part_4  \\\n",
       "0  In the next 2 years, do you hope to become mor...   \n",
       "1                                                NaN   \n",
       "\n",
       "                                         Q29_B_OTHER  \\\n",
       "0  In the next 2 years, do you hope to become mor...   \n",
       "1                                                NaN   \n",
       "\n",
       "                                        Q30_B_Part_1  \\\n",
       "0  In the next 2 years, do you hope to become mor...   \n",
       "1                                                NaN   \n",
       "\n",
       "                                        Q30_B_Part_2  \\\n",
       "0  In the next 2 years, do you hope to become mor...   \n",
       "1                                                NaN   \n",
       "\n",
       "                                        Q30_B_Part_3  \\\n",
       "0  In the next 2 years, do you hope to become mor...   \n",
       "1                                                NaN   \n",
       "\n",
       "                                        Q30_B_Part_4  \\\n",
       "0  In the next 2 years, do you hope to become mor...   \n",
       "1                                                NaN   \n",
       "\n",
       "                                        Q30_B_Part_5  \\\n",
       "0  In the next 2 years, do you hope to become mor...   \n",
       "1                                                NaN   \n",
       "\n",
       "                                        Q30_B_Part_6  \\\n",
       "0  In the next 2 years, do you hope to become mor...   \n",
       "1                                                NaN   \n",
       "\n",
       "                                        Q30_B_Part_7  \\\n",
       "0  In the next 2 years, do you hope to become mor...   \n",
       "1                                                NaN   \n",
       "\n",
       "                                         Q30_B_OTHER  \\\n",
       "0  In the next 2 years, do you hope to become mor...   \n",
       "1                                                NaN   \n",
       "\n",
       "                                        Q31_B_Part_1  \\\n",
       "0  In the next 2 years, do you hope to become mor...   \n",
       "1                                                NaN   \n",
       "\n",
       "                                        Q31_B_Part_2  \\\n",
       "0  In the next 2 years, do you hope to become mor...   \n",
       "1                                                NaN   \n",
       "\n",
       "                                        Q31_B_Part_3  \\\n",
       "0  In the next 2 years, do you hope to become mor...   \n",
       "1                                                NaN   \n",
       "\n",
       "                                        Q31_B_Part_4  \\\n",
       "0  In the next 2 years, do you hope to become mor...   \n",
       "1                                                NaN   \n",
       "\n",
       "                                        Q31_B_Part_5  \\\n",
       "0  In the next 2 years, do you hope to become mor...   \n",
       "1                                                NaN   \n",
       "\n",
       "                                        Q31_B_Part_6  \\\n",
       "0  In the next 2 years, do you hope to become mor...   \n",
       "1                                                NaN   \n",
       "\n",
       "                                        Q31_B_Part_7  \\\n",
       "0  In the next 2 years, do you hope to become mor...   \n",
       "1                                                NaN   \n",
       "\n",
       "                                        Q31_B_Part_8  \\\n",
       "0  In the next 2 years, do you hope to become mor...   \n",
       "1                                                NaN   \n",
       "\n",
       "                                        Q31_B_Part_9  \\\n",
       "0  In the next 2 years, do you hope to become mor...   \n",
       "1                                                NaN   \n",
       "\n",
       "                                         Q31_B_OTHER  \\\n",
       "0  In the next 2 years, do you hope to become mor...   \n",
       "1                                                NaN   \n",
       "\n",
       "                                        Q32_B_Part_1  \\\n",
       "0  Which of the following big data products (rela...   \n",
       "1                                                NaN   \n",
       "\n",
       "                                        Q32_B_Part_2  \\\n",
       "0  Which of the following big data products (rela...   \n",
       "1                                                NaN   \n",
       "\n",
       "                                        Q32_B_Part_3  \\\n",
       "0  Which of the following big data products (rela...   \n",
       "1                                                NaN   \n",
       "\n",
       "                                        Q32_B_Part_4  \\\n",
       "0  Which of the following big data products (rela...   \n",
       "1                                                NaN   \n",
       "\n",
       "                                        Q32_B_Part_5  \\\n",
       "0  Which of the following big data products (rela...   \n",
       "1                                                NaN   \n",
       "\n",
       "                                        Q32_B_Part_6  \\\n",
       "0  Which of the following big data products (rela...   \n",
       "1                                                NaN   \n",
       "\n",
       "                                        Q32_B_Part_7  \\\n",
       "0  Which of the following big data products (rela...   \n",
       "1                                                NaN   \n",
       "\n",
       "                                        Q32_B_Part_8  \\\n",
       "0  Which of the following big data products (rela...   \n",
       "1                                                NaN   \n",
       "\n",
       "                                        Q32_B_Part_9  \\\n",
       "0  Which of the following big data products (rela...   \n",
       "1                                                NaN   \n",
       "\n",
       "                                       Q32_B_Part_10  \\\n",
       "0  Which of the following big data products (rela...   \n",
       "1                                                NaN   \n",
       "\n",
       "                                       Q32_B_Part_11  \\\n",
       "0  Which of the following big data products (rela...   \n",
       "1                                                NaN   \n",
       "\n",
       "                                       Q32_B_Part_12  \\\n",
       "0  Which of the following big data products (rela...   \n",
       "1                                                NaN   \n",
       "\n",
       "                                       Q32_B_Part_13  \\\n",
       "0  Which of the following big data products (rela...   \n",
       "1                                                NaN   \n",
       "\n",
       "                                       Q32_B_Part_14  \\\n",
       "0  Which of the following big data products (rela...   \n",
       "1                                                NaN   \n",
       "\n",
       "                                       Q32_B_Part_15  \\\n",
       "0  Which of the following big data products (rela...   \n",
       "1                                                NaN   \n",
       "\n",
       "                                       Q32_B_Part_16  \\\n",
       "0  Which of the following big data products (rela...   \n",
       "1                                                NaN   \n",
       "\n",
       "                                       Q32_B_Part_17  \\\n",
       "0  Which of the following big data products (rela...   \n",
       "1                                                NaN   \n",
       "\n",
       "                                       Q32_B_Part_18  \\\n",
       "0  Which of the following big data products (rela...   \n",
       "1                                                NaN   \n",
       "\n",
       "                                       Q32_B_Part_19  \\\n",
       "0  Which of the following big data products (rela...   \n",
       "1                                                NaN   \n",
       "\n",
       "                                       Q32_B_Part_20  \\\n",
       "0  Which of the following big data products (rela...   \n",
       "1                                                NaN   \n",
       "\n",
       "                                         Q32_B_OTHER  \\\n",
       "0  Which of the following big data products (rela...   \n",
       "1                                                NaN   \n",
       "\n",
       "                                        Q34_B_Part_1  \\\n",
       "0  Which of the following business intelligence t...   \n",
       "1                                                NaN   \n",
       "\n",
       "                                        Q34_B_Part_2  \\\n",
       "0  Which of the following business intelligence t...   \n",
       "1                                                NaN   \n",
       "\n",
       "                                        Q34_B_Part_3  \\\n",
       "0  Which of the following business intelligence t...   \n",
       "1                                                NaN   \n",
       "\n",
       "                                        Q34_B_Part_4  \\\n",
       "0  Which of the following business intelligence t...   \n",
       "1                                                NaN   \n",
       "\n",
       "                                        Q34_B_Part_5  \\\n",
       "0  Which of the following business intelligence t...   \n",
       "1                                                NaN   \n",
       "\n",
       "                                        Q34_B_Part_6  \\\n",
       "0  Which of the following business intelligence t...   \n",
       "1                                                NaN   \n",
       "\n",
       "                                        Q34_B_Part_7  \\\n",
       "0  Which of the following business intelligence t...   \n",
       "1                                                NaN   \n",
       "\n",
       "                                        Q34_B_Part_8  \\\n",
       "0  Which of the following business intelligence t...   \n",
       "1                                                NaN   \n",
       "\n",
       "                                        Q34_B_Part_9  \\\n",
       "0  Which of the following business intelligence t...   \n",
       "1                                                NaN   \n",
       "\n",
       "                                       Q34_B_Part_10  \\\n",
       "0  Which of the following business intelligence t...   \n",
       "1                                                NaN   \n",
       "\n",
       "                                       Q34_B_Part_11  \\\n",
       "0  Which of the following business intelligence t...   \n",
       "1                                                NaN   \n",
       "\n",
       "                                       Q34_B_Part_12  \\\n",
       "0  Which of the following business intelligence t...   \n",
       "1                                                NaN   \n",
       "\n",
       "                                       Q34_B_Part_13  \\\n",
       "0  Which of the following business intelligence t...   \n",
       "1                                                NaN   \n",
       "\n",
       "                                       Q34_B_Part_14  \\\n",
       "0  Which of the following business intelligence t...   \n",
       "1                                                NaN   \n",
       "\n",
       "                                       Q34_B_Part_15  \\\n",
       "0  Which of the following business intelligence t...   \n",
       "1                                                NaN   \n",
       "\n",
       "                                       Q34_B_Part_16  \\\n",
       "0  Which of the following business intelligence t...   \n",
       "1                                                NaN   \n",
       "\n",
       "                                         Q34_B_OTHER  \\\n",
       "0  Which of the following business intelligence t...   \n",
       "1                                                NaN   \n",
       "\n",
       "                                        Q36_B_Part_1  \\\n",
       "0  Which categories of automated machine learning...   \n",
       "1                                                NaN   \n",
       "\n",
       "                                        Q36_B_Part_2  \\\n",
       "0  Which categories of automated machine learning...   \n",
       "1                                                NaN   \n",
       "\n",
       "                                        Q36_B_Part_3  \\\n",
       "0  Which categories of automated machine learning...   \n",
       "1                                                NaN   \n",
       "\n",
       "                                        Q36_B_Part_4  \\\n",
       "0  Which categories of automated machine learning...   \n",
       "1                                                NaN   \n",
       "\n",
       "                                        Q36_B_Part_5  \\\n",
       "0  Which categories of automated machine learning...   \n",
       "1                                                NaN   \n",
       "\n",
       "                                        Q36_B_Part_6  \\\n",
       "0  Which categories of automated machine learning...   \n",
       "1                                                NaN   \n",
       "\n",
       "                                        Q36_B_Part_7  \\\n",
       "0  Which categories of automated machine learning...   \n",
       "1                                                NaN   \n",
       "\n",
       "                                         Q36_B_OTHER  \\\n",
       "0  Which categories of automated machine learning...   \n",
       "1                                                NaN   \n",
       "\n",
       "                                        Q37_B_Part_1  \\\n",
       "0  Which specific automated machine learning tool...   \n",
       "1                                                NaN   \n",
       "\n",
       "                                        Q37_B_Part_2  \\\n",
       "0  Which specific automated machine learning tool...   \n",
       "1                                                NaN   \n",
       "\n",
       "                                        Q37_B_Part_3  \\\n",
       "0  Which specific automated machine learning tool...   \n",
       "1                                                NaN   \n",
       "\n",
       "                                        Q37_B_Part_4  \\\n",
       "0  Which specific automated machine learning tool...   \n",
       "1                                                NaN   \n",
       "\n",
       "                                        Q37_B_Part_5  \\\n",
       "0  Which specific automated machine learning tool...   \n",
       "1                                                NaN   \n",
       "\n",
       "                                        Q37_B_Part_6  \\\n",
       "0  Which specific automated machine learning tool...   \n",
       "1                                                NaN   \n",
       "\n",
       "                                        Q37_B_Part_7  \\\n",
       "0  Which specific automated machine learning tool...   \n",
       "1                                                NaN   \n",
       "\n",
       "                                         Q37_B_OTHER  \\\n",
       "0  Which specific automated machine learning tool...   \n",
       "1                                                NaN   \n",
       "\n",
       "                                        Q38_B_Part_1  \\\n",
       "0  In the next 2 years, do you hope to become mor...   \n",
       "1                                                NaN   \n",
       "\n",
       "                                        Q38_B_Part_2  \\\n",
       "0  In the next 2 years, do you hope to become mor...   \n",
       "1                                                NaN   \n",
       "\n",
       "                                        Q38_B_Part_3  \\\n",
       "0  In the next 2 years, do you hope to become mor...   \n",
       "1                                                NaN   \n",
       "\n",
       "                                        Q38_B_Part_4  \\\n",
       "0  In the next 2 years, do you hope to become mor...   \n",
       "1                                                NaN   \n",
       "\n",
       "                                        Q38_B_Part_5  \\\n",
       "0  In the next 2 years, do you hope to become mor...   \n",
       "1                                                NaN   \n",
       "\n",
       "                                        Q38_B_Part_6  \\\n",
       "0  In the next 2 years, do you hope to become mor...   \n",
       "1                                                NaN   \n",
       "\n",
       "                                        Q38_B_Part_7  \\\n",
       "0  In the next 2 years, do you hope to become mor...   \n",
       "1                                                NaN   \n",
       "\n",
       "                                        Q38_B_Part_8  \\\n",
       "0  In the next 2 years, do you hope to become mor...   \n",
       "1                                                NaN   \n",
       "\n",
       "                                        Q38_B_Part_9  \\\n",
       "0  In the next 2 years, do you hope to become mor...   \n",
       "1                                                NaN   \n",
       "\n",
       "                                       Q38_B_Part_10  \\\n",
       "0  In the next 2 years, do you hope to become mor...   \n",
       "1                                                NaN   \n",
       "\n",
       "                                       Q38_B_Part_11  \\\n",
       "0  In the next 2 years, do you hope to become mor...   \n",
       "1                                                NaN   \n",
       "\n",
       "                                         Q38_B_OTHER  \n",
       "0  In the next 2 years, do you hope to become mor...  \n",
       "1                                                NaN  "
      ]
     },
     "execution_count": 27,
     "metadata": {},
     "output_type": "execute_result"
    }
   ],
   "source": [
    "responses_df_2021.head(2)"
   ]
  },
  {
   "cell_type": "code",
   "execution_count": 25,
   "metadata": {},
   "outputs": [
    {
     "data": {
      "text/plain": [
       "0        What is your gender? - Selected Choice\n",
       "1                                           Man\n",
       "2                                           Man\n",
       "3                                           Man\n",
       "4                                           Man\n",
       "                          ...                  \n",
       "25969                                       Man\n",
       "25970                                       Man\n",
       "25971                                       Man\n",
       "25972                                       Man\n",
       "25973                                       Man\n",
       "Name: Q2, Length: 25974, dtype: object"
      ]
     },
     "execution_count": 25,
     "metadata": {},
     "output_type": "execute_result"
    }
   ],
   "source": [
    "responses_df_2021[\"Q2\"]"
   ]
  },
  {
   "cell_type": "code",
   "execution_count": 31,
   "metadata": {},
   "outputs": [],
   "source": [
    "Q2 = responses_df_2021[\"Q2\"].to_frame()"
   ]
  },
  {
   "cell_type": "code",
   "execution_count": 32,
   "metadata": {},
   "outputs": [
    {
     "data": {
      "text/plain": [
       "Index(['Q2'], dtype='object')"
      ]
     },
     "execution_count": 32,
     "metadata": {},
     "output_type": "execute_result"
    }
   ],
   "source": [
    "Q2.columns "
   ]
  },
  {
   "cell_type": "code",
   "execution_count": 33,
   "metadata": {},
   "outputs": [],
   "source": [
    "Q2.columns = [\"count\"]"
   ]
  },
  {
   "cell_type": "code",
   "execution_count": 34,
   "metadata": {},
   "outputs": [
    {
     "data": {
      "text/plain": [
       "Index(['count'], dtype='object')"
      ]
     },
     "execution_count": 34,
     "metadata": {},
     "output_type": "execute_result"
    }
   ],
   "source": [
    "Q2.columns "
   ]
  },
  {
   "cell_type": "code",
   "execution_count": 36,
   "metadata": {},
   "outputs": [
    {
     "data": {
      "text/html": [
       "<div>\n",
       "<style scoped>\n",
       "    .dataframe tbody tr th:only-of-type {\n",
       "        vertical-align: middle;\n",
       "    }\n",
       "\n",
       "    .dataframe tbody tr th {\n",
       "        vertical-align: top;\n",
       "    }\n",
       "\n",
       "    .dataframe thead th {\n",
       "        text-align: right;\n",
       "    }\n",
       "</style>\n",
       "<table border=\"1\" class=\"dataframe\">\n",
       "  <thead>\n",
       "    <tr style=\"text-align: right;\">\n",
       "      <th></th>\n",
       "      <th>count</th>\n",
       "    </tr>\n",
       "  </thead>\n",
       "  <tbody>\n",
       "    <tr>\n",
       "      <th>0</th>\n",
       "      <td>What is your gender? - Selected Choice</td>\n",
       "    </tr>\n",
       "    <tr>\n",
       "      <th>1</th>\n",
       "      <td>Man</td>\n",
       "    </tr>\n",
       "    <tr>\n",
       "      <th>2</th>\n",
       "      <td>Man</td>\n",
       "    </tr>\n",
       "    <tr>\n",
       "      <th>3</th>\n",
       "      <td>Man</td>\n",
       "    </tr>\n",
       "    <tr>\n",
       "      <th>4</th>\n",
       "      <td>Man</td>\n",
       "    </tr>\n",
       "    <tr>\n",
       "      <th>...</th>\n",
       "      <td>...</td>\n",
       "    </tr>\n",
       "    <tr>\n",
       "      <th>25969</th>\n",
       "      <td>Man</td>\n",
       "    </tr>\n",
       "    <tr>\n",
       "      <th>25970</th>\n",
       "      <td>Man</td>\n",
       "    </tr>\n",
       "    <tr>\n",
       "      <th>25971</th>\n",
       "      <td>Man</td>\n",
       "    </tr>\n",
       "    <tr>\n",
       "      <th>25972</th>\n",
       "      <td>Man</td>\n",
       "    </tr>\n",
       "    <tr>\n",
       "      <th>25973</th>\n",
       "      <td>Man</td>\n",
       "    </tr>\n",
       "  </tbody>\n",
       "</table>\n",
       "<p>25974 rows × 1 columns</p>\n",
       "</div>"
      ],
      "text/plain": [
       "                                        count\n",
       "0      What is your gender? - Selected Choice\n",
       "1                                         Man\n",
       "2                                         Man\n",
       "3                                         Man\n",
       "4                                         Man\n",
       "...                                       ...\n",
       "25969                                     Man\n",
       "25970                                     Man\n",
       "25971                                     Man\n",
       "25972                                     Man\n",
       "25973                                     Man\n",
       "\n",
       "[25974 rows x 1 columns]"
      ]
     },
     "execution_count": 36,
     "metadata": {},
     "output_type": "execute_result"
    }
   ],
   "source": [
    "Q2"
   ]
  },
  {
   "cell_type": "code",
   "execution_count": 39,
   "metadata": {},
   "outputs": [],
   "source": [
    "Q2[\"Name\"] = Q2.index #creates a new column based on the index"
   ]
  },
  {
   "cell_type": "code",
   "execution_count": 40,
   "metadata": {},
   "outputs": [
    {
     "data": {
      "text/html": [
       "<div>\n",
       "<style scoped>\n",
       "    .dataframe tbody tr th:only-of-type {\n",
       "        vertical-align: middle;\n",
       "    }\n",
       "\n",
       "    .dataframe tbody tr th {\n",
       "        vertical-align: top;\n",
       "    }\n",
       "\n",
       "    .dataframe thead th {\n",
       "        text-align: right;\n",
       "    }\n",
       "</style>\n",
       "<table border=\"1\" class=\"dataframe\">\n",
       "  <thead>\n",
       "    <tr style=\"text-align: right;\">\n",
       "      <th></th>\n",
       "      <th>count</th>\n",
       "      <th>Name</th>\n",
       "    </tr>\n",
       "  </thead>\n",
       "  <tbody>\n",
       "    <tr>\n",
       "      <th>0</th>\n",
       "      <td>What is your gender? - Selected Choice</td>\n",
       "      <td>0</td>\n",
       "    </tr>\n",
       "    <tr>\n",
       "      <th>1</th>\n",
       "      <td>Man</td>\n",
       "      <td>1</td>\n",
       "    </tr>\n",
       "    <tr>\n",
       "      <th>2</th>\n",
       "      <td>Man</td>\n",
       "      <td>2</td>\n",
       "    </tr>\n",
       "    <tr>\n",
       "      <th>3</th>\n",
       "      <td>Man</td>\n",
       "      <td>3</td>\n",
       "    </tr>\n",
       "    <tr>\n",
       "      <th>4</th>\n",
       "      <td>Man</td>\n",
       "      <td>4</td>\n",
       "    </tr>\n",
       "    <tr>\n",
       "      <th>...</th>\n",
       "      <td>...</td>\n",
       "      <td>...</td>\n",
       "    </tr>\n",
       "    <tr>\n",
       "      <th>25969</th>\n",
       "      <td>Man</td>\n",
       "      <td>25969</td>\n",
       "    </tr>\n",
       "    <tr>\n",
       "      <th>25970</th>\n",
       "      <td>Man</td>\n",
       "      <td>25970</td>\n",
       "    </tr>\n",
       "    <tr>\n",
       "      <th>25971</th>\n",
       "      <td>Man</td>\n",
       "      <td>25971</td>\n",
       "    </tr>\n",
       "    <tr>\n",
       "      <th>25972</th>\n",
       "      <td>Man</td>\n",
       "      <td>25972</td>\n",
       "    </tr>\n",
       "    <tr>\n",
       "      <th>25973</th>\n",
       "      <td>Man</td>\n",
       "      <td>25973</td>\n",
       "    </tr>\n",
       "  </tbody>\n",
       "</table>\n",
       "<p>25974 rows × 2 columns</p>\n",
       "</div>"
      ],
      "text/plain": [
       "                                        count   Name\n",
       "0      What is your gender? - Selected Choice      0\n",
       "1                                         Man      1\n",
       "2                                         Man      2\n",
       "3                                         Man      3\n",
       "4                                         Man      4\n",
       "...                                       ...    ...\n",
       "25969                                     Man  25969\n",
       "25970                                     Man  25970\n",
       "25971                                     Man  25971\n",
       "25972                                     Man  25972\n",
       "25973                                     Man  25973\n",
       "\n",
       "[25974 rows x 2 columns]"
      ]
     },
     "execution_count": 40,
     "metadata": {},
     "output_type": "execute_result"
    }
   ],
   "source": [
    "Q2"
   ]
  },
  {
   "cell_type": "code",
   "execution_count": 47,
   "metadata": {},
   "outputs": [
    {
     "data": {
      "image/png": "[encoded data removed]",
      "text/plain": [
       "<Figure size 864x432 with 1 Axes>"
      ]
     },
     "metadata": {},
     "output_type": "display_data"
    }
   ],
   "source": [
    "sns.set(style=\"whitegrid\", color_codes=True)\n",
    "sns.barplot(x = 'Name', y = 'count', data=Q2)\n",
    "plt.xticks(rotation = 90)\n",
    "plt.xlabel(\"Counts\")\n",
    "plt.ylabel(\"Gender\")\n",
    "plt.gcf().set_size_inches(12,6)"
   ]
  },
  {
   "cell_type": "code",
   "execution_count": 54,
   "metadata": {},
   "outputs": [
    {
     "data": {
      "text/html": [
       "<div>\n",
       "<style scoped>\n",
       "    .dataframe tbody tr th:only-of-type {\n",
       "        vertical-align: middle;\n",
       "    }\n",
       "\n",
       "    .dataframe tbody tr th {\n",
       "        vertical-align: top;\n",
       "    }\n",
       "\n",
       "    .dataframe thead th {\n",
       "        text-align: right;\n",
       "    }\n",
       "</style>\n",
       "<table border=\"1\" class=\"dataframe\">\n",
       "  <thead>\n",
       "    <tr style=\"text-align: right;\">\n",
       "      <th></th>\n",
       "      <th>languague</th>\n",
       "      <th>counts</th>\n",
       "    </tr>\n",
       "  </thead>\n",
       "  <tbody>\n",
       "    <tr>\n",
       "      <th>0</th>\n",
       "      <td>Python</td>\n",
       "      <td>21860</td>\n",
       "    </tr>\n",
       "    <tr>\n",
       "      <th>1</th>\n",
       "      <td>What programming languages do you use on a reg...</td>\n",
       "      <td>1</td>\n",
       "    </tr>\n",
       "    <tr>\n",
       "      <th>2</th>\n",
       "      <td>R</td>\n",
       "      <td>5334</td>\n",
       "    </tr>\n",
       "    <tr>\n",
       "      <th>3</th>\n",
       "      <td>What programming languages do you use on a reg...</td>\n",
       "      <td>1</td>\n",
       "    </tr>\n",
       "    <tr>\n",
       "      <th>4</th>\n",
       "      <td>SQL</td>\n",
       "      <td>10756</td>\n",
       "    </tr>\n",
       "    <tr>\n",
       "      <th>5</th>\n",
       "      <td>What programming languages do you use on a reg...</td>\n",
       "      <td>1</td>\n",
       "    </tr>\n",
       "    <tr>\n",
       "      <th>6</th>\n",
       "      <td>C</td>\n",
       "      <td>4709</td>\n",
       "    </tr>\n",
       "    <tr>\n",
       "      <th>7</th>\n",
       "      <td>What programming languages do you use on a reg...</td>\n",
       "      <td>1</td>\n",
       "    </tr>\n",
       "    <tr>\n",
       "      <th>8</th>\n",
       "      <td>C++</td>\n",
       "      <td>5535</td>\n",
       "    </tr>\n",
       "    <tr>\n",
       "      <th>9</th>\n",
       "      <td>What programming languages do you use on a reg...</td>\n",
       "      <td>1</td>\n",
       "    </tr>\n",
       "    <tr>\n",
       "      <th>10</th>\n",
       "      <td>Java</td>\n",
       "      <td>4769</td>\n",
       "    </tr>\n",
       "    <tr>\n",
       "      <th>11</th>\n",
       "      <td>What programming languages do you use on a reg...</td>\n",
       "      <td>1</td>\n",
       "    </tr>\n",
       "    <tr>\n",
       "      <th>12</th>\n",
       "      <td>Javascript</td>\n",
       "      <td>4332</td>\n",
       "    </tr>\n",
       "    <tr>\n",
       "      <th>13</th>\n",
       "      <td>What programming languages do you use on a reg...</td>\n",
       "      <td>1</td>\n",
       "    </tr>\n",
       "    <tr>\n",
       "      <th>14</th>\n",
       "      <td>Julia</td>\n",
       "      <td>305</td>\n",
       "    </tr>\n",
       "    <tr>\n",
       "      <th>15</th>\n",
       "      <td>What programming languages do you use on a reg...</td>\n",
       "      <td>1</td>\n",
       "    </tr>\n",
       "    <tr>\n",
       "      <th>16</th>\n",
       "      <td>Swift</td>\n",
       "      <td>242</td>\n",
       "    </tr>\n",
       "    <tr>\n",
       "      <th>17</th>\n",
       "      <td>What programming languages do you use on a reg...</td>\n",
       "      <td>1</td>\n",
       "    </tr>\n",
       "    <tr>\n",
       "      <th>18</th>\n",
       "      <td>Bash</td>\n",
       "      <td>2216</td>\n",
       "    </tr>\n",
       "    <tr>\n",
       "      <th>19</th>\n",
       "      <td>What programming languages do you use on a reg...</td>\n",
       "      <td>1</td>\n",
       "    </tr>\n",
       "    <tr>\n",
       "      <th>20</th>\n",
       "      <td>MATLAB</td>\n",
       "      <td>2935</td>\n",
       "    </tr>\n",
       "    <tr>\n",
       "      <th>21</th>\n",
       "      <td>What programming languages do you use on a reg...</td>\n",
       "      <td>1</td>\n",
       "    </tr>\n",
       "    <tr>\n",
       "      <th>22</th>\n",
       "      <td>None</td>\n",
       "      <td>319</td>\n",
       "    </tr>\n",
       "    <tr>\n",
       "      <th>23</th>\n",
       "      <td>What programming languages do you use on a reg...</td>\n",
       "      <td>1</td>\n",
       "    </tr>\n",
       "  </tbody>\n",
       "</table>\n",
       "</div>"
      ],
      "text/plain": [
       "                                            languague  counts\n",
       "0                                              Python   21860\n",
       "1   What programming languages do you use on a reg...       1\n",
       "2                                                   R    5334\n",
       "3   What programming languages do you use on a reg...       1\n",
       "4                                                 SQL   10756\n",
       "5   What programming languages do you use on a reg...       1\n",
       "6                                                   C    4709\n",
       "7   What programming languages do you use on a reg...       1\n",
       "8                                                 C++    5535\n",
       "9   What programming languages do you use on a reg...       1\n",
       "10                                               Java    4769\n",
       "11  What programming languages do you use on a reg...       1\n",
       "12                                         Javascript    4332\n",
       "13  What programming languages do you use on a reg...       1\n",
       "14                                              Julia     305\n",
       "15  What programming languages do you use on a reg...       1\n",
       "16                                              Swift     242\n",
       "17  What programming languages do you use on a reg...       1\n",
       "18                                               Bash    2216\n",
       "19  What programming languages do you use on a reg...       1\n",
       "20                                             MATLAB    2935\n",
       "21  What programming languages do you use on a reg...       1\n",
       "22                                               None     319\n",
       "23  What programming languages do you use on a reg...       1"
      ]
     },
     "execution_count": 54,
     "metadata": {},
     "output_type": "execute_result"
    }
   ],
   "source": [
    "Q7= {}\n",
    "for i in range(1,13):\n",
    "    Q7.update(dict(responses_df_2021[f\"Q7_Part_{i}\"].value_counts()))\n",
    "Q7 = pd.DataFrame(Q7.items(), columns = ['languague', 'counts'])\n",
    "Q7"
   ]
  },
  {
   "cell_type": "code",
   "execution_count": 55,
   "metadata": {},
   "outputs": [],
   "source": [
    "Q7= {}\n",
    "for i in range(1,13):\n",
    "    Q7.update(dict(responses_df_2021[f\"Q7_Part_{i}\"].value_counts()))"
   ]
  },
  {
   "cell_type": "code",
   "execution_count": 56,
   "metadata": {},
   "outputs": [
    {
     "data": {
      "text/plain": [
       "{'Python': 21860,\n",
       " 'What programming languages do you use on a regular basis? (Select all that apply) - Selected Choice - Python': 1,\n",
       " 'R': 5334,\n",
       " 'What programming languages do you use on a regular basis? (Select all that apply) - Selected Choice - R': 1,\n",
       " 'SQL': 10756,\n",
       " 'What programming languages do you use on a regular basis? (Select all that apply) - Selected Choice - SQL': 1,\n",
       " 'C': 4709,\n",
       " 'What programming languages do you use on a regular basis? (Select all that apply) - Selected Choice - C': 1,\n",
       " 'C++': 5535,\n",
       " 'What programming languages do you use on a regular basis? (Select all that apply) - Selected Choice - C++': 1,\n",
       " 'Java': 4769,\n",
       " 'What programming languages do you use on a regular basis? (Select all that apply) - Selected Choice - Java': 1,\n",
       " 'Javascript': 4332,\n",
       " 'What programming languages do you use on a regular basis? (Select all that apply) - Selected Choice - Javascript': 1,\n",
       " 'Julia': 305,\n",
       " 'What programming languages do you use on a regular basis? (Select all that apply) - Selected Choice - Julia': 1,\n",
       " 'Swift': 242,\n",
       " 'What programming languages do you use on a regular basis? (Select all that apply) - Selected Choice - Swift': 1,\n",
       " 'Bash': 2216,\n",
       " 'What programming languages do you use on a regular basis? (Select all that apply) - Selected Choice - Bash': 1,\n",
       " 'MATLAB': 2935,\n",
       " 'What programming languages do you use on a regular basis? (Select all that apply) - Selected Choice - MATLAB': 1,\n",
       " 'None': 319,\n",
       " 'What programming languages do you use on a regular basis? (Select all that apply) - Selected Choice - None': 1}"
      ]
     },
     "execution_count": 56,
     "metadata": {},
     "output_type": "execute_result"
    }
   ],
   "source": [
    "Q7"
   ]
  },
  {
   "cell_type": "code",
   "execution_count": 57,
   "metadata": {},
   "outputs": [],
   "source": [
    "nigeria = responses_df_2021[responses_df_2021[\"Q3\"] ==\"Nigeria\"]"
   ]
  },
  {
   "cell_type": "code",
   "execution_count": 58,
   "metadata": {},
   "outputs": [
    {
     "data": {
      "text/html": [
       "<div>\n",
       "<style scoped>\n",
       "    .dataframe tbody tr th:only-of-type {\n",
       "        vertical-align: middle;\n",
       "    }\n",
       "\n",
       "    .dataframe tbody tr th {\n",
       "        vertical-align: top;\n",
       "    }\n",
       "\n",
       "    .dataframe thead th {\n",
       "        text-align: right;\n",
       "    }\n",
       "</style>\n",
       "<table border=\"1\" class=\"dataframe\">\n",
       "  <thead>\n",
       "    <tr style=\"text-align: right;\">\n",
       "      <th></th>\n",
       "      <th>count</th>\n",
       "      <th>programming language</th>\n",
       "      <th>percentage (%)</th>\n",
       "    </tr>\n",
       "  </thead>\n",
       "  <tbody>\n",
       "    <tr>\n",
       "      <th>Q7_Part_1</th>\n",
       "      <td>565</td>\n",
       "      <td>Python</td>\n",
       "      <td>44.5</td>\n",
       "    </tr>\n",
       "    <tr>\n",
       "      <th>Q7_Part_3</th>\n",
       "      <td>227</td>\n",
       "      <td>SQL</td>\n",
       "      <td>17.9</td>\n",
       "    </tr>\n",
       "    <tr>\n",
       "      <th>Q7_Part_7</th>\n",
       "      <td>113</td>\n",
       "      <td>Javascript</td>\n",
       "      <td>8.9</td>\n",
       "    </tr>\n",
       "    <tr>\n",
       "      <th>Q7_Part_2</th>\n",
       "      <td>105</td>\n",
       "      <td>R</td>\n",
       "      <td>8.3</td>\n",
       "    </tr>\n",
       "    <tr>\n",
       "      <th>Q7_Part_11</th>\n",
       "      <td>55</td>\n",
       "      <td>MATLAB</td>\n",
       "      <td>4.3</td>\n",
       "    </tr>\n",
       "    <tr>\n",
       "      <th>Q7_Part_6</th>\n",
       "      <td>53</td>\n",
       "      <td>Java</td>\n",
       "      <td>4.2</td>\n",
       "    </tr>\n",
       "    <tr>\n",
       "      <th>Q7_Part_5</th>\n",
       "      <td>52</td>\n",
       "      <td>C++</td>\n",
       "      <td>4.1</td>\n",
       "    </tr>\n",
       "    <tr>\n",
       "      <th>Q7_OTHER</th>\n",
       "      <td>42</td>\n",
       "      <td>Other</td>\n",
       "      <td>3.3</td>\n",
       "    </tr>\n",
       "    <tr>\n",
       "      <th>Q7_Part_4</th>\n",
       "      <td>30</td>\n",
       "      <td>C</td>\n",
       "      <td>2.4</td>\n",
       "    </tr>\n",
       "    <tr>\n",
       "      <th>Q7_Part_12</th>\n",
       "      <td>14</td>\n",
       "      <td>None</td>\n",
       "      <td>1.1</td>\n",
       "    </tr>\n",
       "    <tr>\n",
       "      <th>Q7_Part_10</th>\n",
       "      <td>10</td>\n",
       "      <td>Bash</td>\n",
       "      <td>0.8</td>\n",
       "    </tr>\n",
       "    <tr>\n",
       "      <th>Q7_Part_9</th>\n",
       "      <td>3</td>\n",
       "      <td>Swift</td>\n",
       "      <td>0.2</td>\n",
       "    </tr>\n",
       "    <tr>\n",
       "      <th>Q7_Part_8</th>\n",
       "      <td>1</td>\n",
       "      <td>Julia</td>\n",
       "      <td>0.1</td>\n",
       "    </tr>\n",
       "  </tbody>\n",
       "</table>\n",
       "</div>"
      ],
      "text/plain": [
       "            count programming language  percentage (%)\n",
       "Q7_Part_1     565               Python            44.5\n",
       "Q7_Part_3     227                  SQL            17.9\n",
       "Q7_Part_7     113           Javascript             8.9\n",
       "Q7_Part_2     105                    R             8.3\n",
       "Q7_Part_11     55               MATLAB             4.3\n",
       "Q7_Part_6      53                 Java             4.2\n",
       "Q7_Part_5      52                  C++             4.1\n",
       "Q7_OTHER       42                Other             3.3\n",
       "Q7_Part_4      30                    C             2.4\n",
       "Q7_Part_12     14                 None             1.1\n",
       "Q7_Part_10     10                 Bash             0.8\n",
       "Q7_Part_9       3                Swift             0.2\n",
       "Q7_Part_8       1                Julia             0.1"
      ]
     },
     "execution_count": 58,
     "metadata": {},
     "output_type": "execute_result"
    }
   ],
   "source": [
    "prog_lang_ng = pd.DataFrame(nigeria.loc[:,list(nigeria.columns[7:20])].count(), columns=[\"count\"])\n",
    "prog_lang_ng[\"programming language\"] = ['Python', 'R', 'SQL', 'C', 'C++', 'Java', \n",
    "                'Javascript', 'Julia', 'Swift','Bash', 'MATLAB', 'None', 'Other']\n",
    "prog_lang_ng.sort_values(by = \"count\", inplace = True, ascending = False)\n",
    "\n",
    "prog_lang_ng[\"percentage (%)\"] = (prog_lang_ng[\"count\"]/\n",
    "                              prog_lang_ng[\"count\"].sum()) * 100  \n",
    "\n",
    "prog_lang_ng = prog_lang_ng.round(decimals=1)\n",
    "prog_lang_ng"
   ]
  },
  {
   "cell_type": "code",
   "execution_count": 61,
   "metadata": {},
   "outputs": [
    {
     "data": {
      "text/html": [
       "<div>\n",
       "<style scoped>\n",
       "    .dataframe tbody tr th:only-of-type {\n",
       "        vertical-align: middle;\n",
       "    }\n",
       "\n",
       "    .dataframe tbody tr th {\n",
       "        vertical-align: top;\n",
       "    }\n",
       "\n",
       "    .dataframe thead th {\n",
       "        text-align: right;\n",
       "    }\n",
       "</style>\n",
       "<table border=\"1\" class=\"dataframe\">\n",
       "  <thead>\n",
       "    <tr style=\"text-align: right;\">\n",
       "      <th></th>\n",
       "      <th>language</th>\n",
       "      <th>count</th>\n",
       "    </tr>\n",
       "  </thead>\n",
       "  <tbody>\n",
       "    <tr>\n",
       "      <th>0</th>\n",
       "      <td>Python</td>\n",
       "      <td>565</td>\n",
       "    </tr>\n",
       "    <tr>\n",
       "      <th>1</th>\n",
       "      <td>R</td>\n",
       "      <td>105</td>\n",
       "    </tr>\n",
       "    <tr>\n",
       "      <th>2</th>\n",
       "      <td>SQL</td>\n",
       "      <td>227</td>\n",
       "    </tr>\n",
       "    <tr>\n",
       "      <th>3</th>\n",
       "      <td>C</td>\n",
       "      <td>30</td>\n",
       "    </tr>\n",
       "    <tr>\n",
       "      <th>4</th>\n",
       "      <td>C++</td>\n",
       "      <td>52</td>\n",
       "    </tr>\n",
       "    <tr>\n",
       "      <th>5</th>\n",
       "      <td>Java</td>\n",
       "      <td>53</td>\n",
       "    </tr>\n",
       "    <tr>\n",
       "      <th>6</th>\n",
       "      <td>Javascript</td>\n",
       "      <td>113</td>\n",
       "    </tr>\n",
       "    <tr>\n",
       "      <th>7</th>\n",
       "      <td>Julia</td>\n",
       "      <td>1</td>\n",
       "    </tr>\n",
       "    <tr>\n",
       "      <th>8</th>\n",
       "      <td>Swift</td>\n",
       "      <td>3</td>\n",
       "    </tr>\n",
       "    <tr>\n",
       "      <th>9</th>\n",
       "      <td>Bash</td>\n",
       "      <td>10</td>\n",
       "    </tr>\n",
       "    <tr>\n",
       "      <th>10</th>\n",
       "      <td>MATLAB</td>\n",
       "      <td>55</td>\n",
       "    </tr>\n",
       "    <tr>\n",
       "      <th>11</th>\n",
       "      <td>None</td>\n",
       "      <td>14</td>\n",
       "    </tr>\n",
       "  </tbody>\n",
       "</table>\n",
       "</div>"
      ],
      "text/plain": [
       "      language  count\n",
       "0       Python    565\n",
       "1            R    105\n",
       "2          SQL    227\n",
       "3            C     30\n",
       "4          C++     52\n",
       "5         Java     53\n",
       "6   Javascript    113\n",
       "7        Julia      1\n",
       "8        Swift      3\n",
       "9         Bash     10\n",
       "10      MATLAB     55\n",
       "11        None     14"
      ]
     },
     "execution_count": 61,
     "metadata": {},
     "output_type": "execute_result"
    }
   ],
   "source": [
    "Q7= {}\n",
    "for i in range(1,13):\n",
    "    Q7.update(dict(nigeria[f\"Q7_Part_{i}\"].value_counts()))\n",
    "Q7 = pd.DataFrame(Q7.items(), columns = ['language', 'count'])\n",
    "Q7"
   ]
  },
  {
   "cell_type": "markdown",
   "metadata": {},
   "source": [
    "# The code below does not consider \"other\""
   ]
  },
  {
   "cell_type": "markdown",
   "metadata": {},
   "source": [
    "I think it has to include a number, hence why other is not there"
   ]
  },
  {
   "cell_type": "markdown",
   "metadata": {},
   "source": [
    "https://www.kaggle.com/ajaypalsinghlo/kaggle-survey-2021#India"
   ]
  },
  {
   "cell_type": "code",
   "execution_count": 69,
   "metadata": {},
   "outputs": [
    {
     "data": {
      "text/html": [
       "<div>\n",
       "<style scoped>\n",
       "    .dataframe tbody tr th:only-of-type {\n",
       "        vertical-align: middle;\n",
       "    }\n",
       "\n",
       "    .dataframe tbody tr th {\n",
       "        vertical-align: top;\n",
       "    }\n",
       "\n",
       "    .dataframe thead th {\n",
       "        text-align: right;\n",
       "    }\n",
       "</style>\n",
       "<table border=\"1\" class=\"dataframe\">\n",
       "  <thead>\n",
       "    <tr style=\"text-align: right;\">\n",
       "      <th></th>\n",
       "      <th>language</th>\n",
       "      <th>count</th>\n",
       "      <th>percentage (%)</th>\n",
       "    </tr>\n",
       "  </thead>\n",
       "  <tbody>\n",
       "    <tr>\n",
       "      <th>0</th>\n",
       "      <td>Python</td>\n",
       "      <td>565</td>\n",
       "      <td>46.0</td>\n",
       "    </tr>\n",
       "    <tr>\n",
       "      <th>2</th>\n",
       "      <td>SQL</td>\n",
       "      <td>227</td>\n",
       "      <td>18.5</td>\n",
       "    </tr>\n",
       "    <tr>\n",
       "      <th>6</th>\n",
       "      <td>Javascript</td>\n",
       "      <td>113</td>\n",
       "      <td>9.2</td>\n",
       "    </tr>\n",
       "    <tr>\n",
       "      <th>1</th>\n",
       "      <td>R</td>\n",
       "      <td>105</td>\n",
       "      <td>8.6</td>\n",
       "    </tr>\n",
       "    <tr>\n",
       "      <th>10</th>\n",
       "      <td>MATLAB</td>\n",
       "      <td>55</td>\n",
       "      <td>4.5</td>\n",
       "    </tr>\n",
       "    <tr>\n",
       "      <th>5</th>\n",
       "      <td>Java</td>\n",
       "      <td>53</td>\n",
       "      <td>4.3</td>\n",
       "    </tr>\n",
       "    <tr>\n",
       "      <th>4</th>\n",
       "      <td>C++</td>\n",
       "      <td>52</td>\n",
       "      <td>4.2</td>\n",
       "    </tr>\n",
       "    <tr>\n",
       "      <th>3</th>\n",
       "      <td>C</td>\n",
       "      <td>30</td>\n",
       "      <td>2.4</td>\n",
       "    </tr>\n",
       "    <tr>\n",
       "      <th>11</th>\n",
       "      <td>None</td>\n",
       "      <td>14</td>\n",
       "      <td>1.1</td>\n",
       "    </tr>\n",
       "    <tr>\n",
       "      <th>9</th>\n",
       "      <td>Bash</td>\n",
       "      <td>10</td>\n",
       "      <td>0.8</td>\n",
       "    </tr>\n",
       "    <tr>\n",
       "      <th>8</th>\n",
       "      <td>Swift</td>\n",
       "      <td>3</td>\n",
       "      <td>0.2</td>\n",
       "    </tr>\n",
       "    <tr>\n",
       "      <th>7</th>\n",
       "      <td>Julia</td>\n",
       "      <td>1</td>\n",
       "      <td>0.1</td>\n",
       "    </tr>\n",
       "  </tbody>\n",
       "</table>\n",
       "</div>"
      ],
      "text/plain": [
       "      language  count  percentage (%)\n",
       "0       Python    565            46.0\n",
       "2          SQL    227            18.5\n",
       "6   Javascript    113             9.2\n",
       "1            R    105             8.6\n",
       "10      MATLAB     55             4.5\n",
       "5         Java     53             4.3\n",
       "4          C++     52             4.2\n",
       "3            C     30             2.4\n",
       "11        None     14             1.1\n",
       "9         Bash     10             0.8\n",
       "8        Swift      3             0.2\n",
       "7        Julia      1             0.1"
      ]
     },
     "execution_count": 69,
     "metadata": {},
     "output_type": "execute_result"
    }
   ],
   "source": [
    "Q7= {}\n",
    "for i in range(1,13):\n",
    "    Q7.update(dict(nigeria[f\"Q7_Part_{i}\"].value_counts()))\n",
    "Q7 = pd.DataFrame(Q7.items(), columns = ['language', 'count'])\n",
    "\n",
    "\n",
    "Q7[\"percentage (%)\"] = (Q7[\"count\"]/\n",
    "                              Q7[\"count\"].sum()) * 100  \n",
    "\n",
    "Q7 = Q7.round(decimals=1)\n",
    "Q7.sort_values(by = \"percentage (%)\", inplace = True, ascending = False)\n",
    "Q7"
   ]
  },
  {
   "cell_type": "code",
   "execution_count": 70,
   "metadata": {},
   "outputs": [
    {
     "data": {
      "text/plain": [
       "<generator object DataFrame.items at 0x000001DC008FD2E0>"
      ]
     },
     "execution_count": 70,
     "metadata": {},
     "output_type": "execute_result"
    }
   ],
   "source": [
    "Q7.items()"
   ]
  },
  {
   "cell_type": "code",
   "execution_count": null,
   "metadata": {},
   "outputs": [],
   "source": []
  }
 ],
 "metadata": {
  "kernelspec": {
   "display_name": "Python 3",
   "language": "python",
   "name": "python3"
  },
  "language_info": {
   "codemirror_mode": {
    "name": "ipython",
    "version": 3
   },
   "file_extension": ".py",
   "mimetype": "text/x-python",
   "name": "python",
   "nbconvert_exporter": "python",
   "pygments_lexer": "ipython3",
   "version": "3.8.5"
  },
  "toc": {
   "base_numbering": 1,
   "nav_menu": {},
   "number_sections": true,
   "sideBar": true,
   "skip_h1_title": false,
   "title_cell": "Table of Contents",
   "title_sidebar": "Contents",
   "toc_cell": false,
   "toc_position": {},
   "toc_section_display": true,
   "toc_window_display": false
  }
 },
 "nbformat": 4,
 "nbformat_minor": 4
}
